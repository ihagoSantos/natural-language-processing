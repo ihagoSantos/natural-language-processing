{
  "nbformat": 4,
  "nbformat_minor": 0,
  "metadata": {
    "colab": {
      "provenance": [],
      "authorship_tag": "ABX9TyPpsnLq+uyTD09sQTv4x/6x",
      "include_colab_link": true
    },
    "kernelspec": {
      "name": "python3",
      "display_name": "Python 3"
    },
    "language_info": {
      "name": "python"
    }
  },
  "cells": [
    {
      "cell_type": "markdown",
      "metadata": {
        "id": "view-in-github",
        "colab_type": "text"
      },
      "source": [
        "<a href=\"https://colab.research.google.com/github/ihagoSantos/natural-language-processing/blob/main/data_acquisition_with_data_scraping.ipynb\" target=\"_parent\"><img src=\"https://colab.research.google.com/assets/colab-badge.svg\" alt=\"Open In Colab\"/></a>"
      ]
    },
    {
      "cell_type": "markdown",
      "source": [
        "# Aquisição de dados com raspagem de dados"
      ],
      "metadata": {
        "id": "65j6aNKVYF9K"
      }
    },
    {
      "cell_type": "code",
      "execution_count": 1,
      "metadata": {
        "colab": {
          "base_uri": "https://localhost:8080/"
        },
        "id": "hYnLUZBUYA5D",
        "outputId": "db23065b-7726-4e85-8f6b-6a25981d0830"
      },
      "outputs": [
        {
          "output_type": "stream",
          "name": "stdout",
          "text": [
            "Requirement already satisfied: beautifulsoup4 in /usr/local/lib/python3.10/dist-packages (4.12.3)\n",
            "Requirement already satisfied: pandas in /usr/local/lib/python3.10/dist-packages (2.2.2)\n",
            "Requirement already satisfied: requests in /usr/local/lib/python3.10/dist-packages (2.32.3)\n",
            "Requirement already satisfied: soupsieve>1.2 in /usr/local/lib/python3.10/dist-packages (from beautifulsoup4) (2.6)\n",
            "Requirement already satisfied: numpy>=1.22.4 in /usr/local/lib/python3.10/dist-packages (from pandas) (1.26.4)\n",
            "Requirement already satisfied: python-dateutil>=2.8.2 in /usr/local/lib/python3.10/dist-packages (from pandas) (2.8.2)\n",
            "Requirement already satisfied: pytz>=2020.1 in /usr/local/lib/python3.10/dist-packages (from pandas) (2024.2)\n",
            "Requirement already satisfied: tzdata>=2022.7 in /usr/local/lib/python3.10/dist-packages (from pandas) (2024.2)\n",
            "Requirement already satisfied: charset-normalizer<4,>=2 in /usr/local/lib/python3.10/dist-packages (from requests) (3.4.0)\n",
            "Requirement already satisfied: idna<4,>=2.5 in /usr/local/lib/python3.10/dist-packages (from requests) (3.10)\n",
            "Requirement already satisfied: urllib3<3,>=1.21.1 in /usr/local/lib/python3.10/dist-packages (from requests) (2.2.3)\n",
            "Requirement already satisfied: certifi>=2017.4.17 in /usr/local/lib/python3.10/dist-packages (from requests) (2024.8.30)\n",
            "Requirement already satisfied: six>=1.5 in /usr/local/lib/python3.10/dist-packages (from python-dateutil>=2.8.2->pandas) (1.16.0)\n"
          ]
        }
      ],
      "source": [
        "# Instalação de pacotes para raspagem e análise de dados\n",
        "!pip install beautifulsoup4 pandas requests"
      ]
    },
    {
      "cell_type": "code",
      "source": [
        "# Declara funções utilitárias utilizadas no notebook\n",
        "import datetime\n",
        "def formata_msg(nivel, msg):\n",
        "  \"\"\"\n",
        "  Formata mensagem de log definindo nível de severidade, timestamp e a mensagem.\n",
        "\n",
        "  Parâmetros:\n",
        "  - nivel (str): Nível de severidade da mensagem (ex: 'INFO', 'ERROR', 'WARNING')\n",
        "  - msg (str): A mensagem de log propriamente dita\n",
        "\n",
        "  Retorna:\n",
        "  - str: A mensagem de log formatada\n",
        "  \"\"\"\n",
        "  timestamp = datetime.datetime.now().strftime('%Y-%m-%d %H:%M:%M')\n",
        "  return f\"[{nivel}] {timestamp} - {msg}\"\n"
      ],
      "metadata": {
        "id": "nh9D1hv8YP0B"
      },
      "execution_count": 2,
      "outputs": []
    },
    {
      "cell_type": "code",
      "source": [
        "# Importa os módulos essenciais para o notebook\n",
        "import os\n",
        "\n",
        "import pandas as pd\n",
        "import requests\n",
        "from bs4 import BeautifulSoup\n",
        "\n",
        "print(formata_msg(\"INFO\", \"Bibliotecas importadas com sucesso; ambiente pronto.\"))"
      ],
      "metadata": {
        "colab": {
          "base_uri": "https://localhost:8080/"
        },
        "id": "1wEUVwTCZCN0",
        "outputId": "97582229-fc23-4442-f872-c82f519bd9cf"
      },
      "execution_count": 3,
      "outputs": [
        {
          "output_type": "stream",
          "name": "stdout",
          "text": [
            "[INFO] 2024-11-25 09:27:27 - Bibliotecas importadas com sucesso; ambiente pronto.\n"
          ]
        }
      ]
    },
    {
      "cell_type": "code",
      "source": [
        "corpora_caminho = './corpora'\n",
        "\n",
        "if not os.path.exists(corpora_caminho):\n",
        "  os.mkdir(corpora_caminho)\n",
        "  print(formata_msg('INFO', f'Diretório {corpora_caminho} criado com sucesso!'))\n",
        "else:\n",
        "  print(formata_msg('INFO', f'Diretório {corpora_caminho} já existe no sistema!'))"
      ],
      "metadata": {
        "colab": {
          "base_uri": "https://localhost:8080/"
        },
        "id": "HjPGAtR3ZVtl",
        "outputId": "ba09813d-9a86-4ee3-909b-64f87322ee96"
      },
      "execution_count": 4,
      "outputs": [
        {
          "output_type": "stream",
          "name": "stdout",
          "text": [
            "[INFO] 2024-11-25 09:27:27 - Diretório ./corpora criado com sucesso!\n"
          ]
        }
      ]
    },
    {
      "cell_type": "markdown",
      "source": [
        "# 1. G1"
      ],
      "metadata": {
        "id": "kgATesFtafpY"
      }
    },
    {
      "cell_type": "markdown",
      "source": [
        "## Raspagem de dados de notícias do G1\n",
        "\n",
        "Os elementos estruturais da página principal, essenciais para a raspagem de dados incluem as seguintes classes CSS:\n",
        "- feed-post-body: corpo da notícia\n",
        "- feed-post-link: título da notícia\n",
        "- feed-post-body-resumo: subtítulo da notícia (opcional)"
      ],
      "metadata": {
        "id": "KYl8xoQlag4J"
      }
    },
    {
      "cell_type": "code",
      "source": [
        "url = 'https://g1.globo.com'"
      ],
      "metadata": {
        "id": "8fOuTigRads3"
      },
      "execution_count": 5,
      "outputs": []
    },
    {
      "cell_type": "code",
      "source": [
        "noticias_arquivo = 'g1_noticias.csv'\n",
        "\n",
        "noticias_caminho = os.path.join(corpora_caminho, noticias_arquivo)\n",
        "\n",
        "noticias_g1 = []\n",
        "\n",
        "resposta = requests.get(url)\n",
        "\n",
        "if resposta.status_code == 200:\n",
        "  pagina = resposta.content\n",
        "  soup = BeautifulSoup(pagina, 'html.parser')\n",
        "\n",
        "  # encontra todos os elementos que correspondem ao corpo da notícia\n",
        "  noticias = soup.find_all('div', attrs={'class': 'feed-post-body'})\n",
        "\n",
        "  for noticia in noticias:\n",
        "    print(noticia)\n",
        "    # Acha o título da notícia\n",
        "    titulo = noticia.find('a', attrs={'class': 'feed-post-link'})\n",
        "\n",
        "    # Tenta achar o subtítulo da notícia\n",
        "    subtitulo = noticia.find('div', attrs={'class': 'feed-post-body-resumo'})\n",
        "\n",
        "    noticias_g1.append([\n",
        "        titulo.text if titulo and titulo.text else '',\n",
        "        subtitulo.text if subtitulo and subtitulo.text else '',\n",
        "        titulo.attrs['href'] if titulo.has_attr('href') else ''\n",
        "    ])\n",
        "\n",
        "\n",
        "  # Converte a lista de notícias em um dataframe para facilitar a manipulação\n",
        "  noticias_g1_df = pd.DataFrame(noticias_g1, columns=['titulo', 'subtitulo', 'link'])\n",
        "\n",
        "  # Salva os dados coletados em um arquivo csv\n",
        "  noticias_g1_df.to_csv(noticias_caminho, index=False)\n",
        "\n",
        "  print(formata_msg('INFO', f'Dados coletados com sucesso na URL: {url};'))\n",
        "  print(formata_msg('INFO', f'Os resultados foram salvos no arquivo: {noticias_caminho}.'))\n",
        "else:\n",
        "  print(formata_msg('ERROR', f'Falha na solicitação, código de status: {resposta.status_code}.'))"
      ],
      "metadata": {
        "colab": {
          "base_uri": "https://localhost:8080/"
        },
        "id": "hCZU-Q41abpW",
        "outputId": "3bfa8bd9-9b43-44b8-a983-c2286f9c0975"
      },
      "execution_count": 6,
      "outputs": [
        {
          "output_type": "stream",
          "name": "stdout",
          "text": [
            "<div class=\"feed-post-body\"><div class=\"feed-post-header with-post-chapeu\"><span class=\"feed-post-header-chapeu\">Eleição</span></div><div class=\"feed-post-body-title gui-color-primary gui-color-hover\"><div class=\"_evt\"><h2><a class=\"feed-post-link gui-color-primary gui-color-hover\" href=\"https://g1.globo.com/mundo/noticia/2024/11/25/quem-e-yamandu-orsi-pupilo-de-mujica-que-sera-o-proximo-do-presidente-do-uruguai.ghtml\"><p elementtiming=\"text-ssr\">Quem é Yamandú Orsi, pupilo de Mujica eleito presidente do Uruguai </p></a></h2></div></div><div class=\"feed-media-wrapper\"><a class=\"feed-post-figure-link gui-image-hover\" href=\"https://g1.globo.com/mundo/noticia/2024/11/25/quem-e-yamandu-orsi-pupilo-de-mujica-que-sera-o-proximo-do-presidente-do-uruguai.ghtml\"><div class=\"bstn-fd-item-cover\"><picture class=\"bstn-fd-cover-picture\"><img alt=\"Quem é Yamandú Orsi, pupilo de Mujica eleito presidente do Uruguai  - Foto: (Santiago Mazzarovich / AFP)\" class=\"bstn-fd-picture-image\" elementtiming=\"image-ssr\" loading=\"lazy\" sizes=\"(min-width: 540px) 50vw, (min-width: 900px) 30vw, 100vw\" src=\"https://s2-g1.glbimg.com/U_wi6y8CgLaSCQf8W0qjTyGX6DM=/0x142:3352x2028/540x304/smart/filters:max_age(3600)/https://i.s3.glbimg.com/v1/AUTH_59edd422c0c84a879bd37670ae4f538a/internal_photos/bs/2024/l/C/gKRmqATG6n5rAcfMEexg/000-36n877e.jpg\" srcset=\"https://s2-g1.glbimg.com/U_wi6y8CgLaSCQf8W0qjTyGX6DM=/0x142:3352x2028/540x304/smart/filters:max_age(3600)/https://i.s3.glbimg.com/v1/AUTH_59edd422c0c84a879bd37670ae4f538a/internal_photos/bs/2024/l/C/gKRmqATG6n5rAcfMEexg/000-36n877e.jpg 540w,https://s2-g1.glbimg.com/9gFXvNFWSqpV1jBUV1bhd95X_qM=/0x142:3352x2028/810x456/smart/filters:max_age(3600)/https://i.s3.glbimg.com/v1/AUTH_59edd422c0c84a879bd37670ae4f538a/internal_photos/bs/2024/l/C/gKRmqATG6n5rAcfMEexg/000-36n877e.jpg 810w,https://s2-g1.glbimg.com/rYSMrIIzvbH04uO_a7hFEo01J7A=/0x142:3352x2028/1080x608/smart/filters:max_age(3600)/https://i.s3.glbimg.com/v1/AUTH_59edd422c0c84a879bd37670ae4f538a/internal_photos/bs/2024/l/C/gKRmqATG6n5rAcfMEexg/000-36n877e.jpg 1080w\" title=\"Quem é Yamandú Orsi, pupilo de Mujica eleito presidente do Uruguai  - Foto: (Santiago Mazzarovich / AFP)\"/></picture></div></a></div><div class=\"feed-post-metadata\"><span class=\"feed-post-datetime\">Há 6 horas</span><span class=\"feed-post-metadata-section\"> Mundo </span></div><div class=\"bstn-related\"><ul class=\"bstn-relateditems\"><li class=\"bstn-relateditem\"><div class=\"bstn-fd-relatedtext\"><a class=\"gui-color-primary gui-color-hover feed-post-body-title bstn-relatedtext\" href=\"https://g1.globo.com/mundo/noticia/2024/11/24/eleicao-no-uruguai-resultados-oficiais.ghtml\">Conservador Álvaro Delgado reconhece derrota</a><div class=\"feed-post-metadata\"><span class=\"feed-post-datetime\">Há 6 horas</span></div></div></li></ul></div></div>\n",
            "<div class=\"feed-post-body\"><div class=\"feed-post-header with-post-chapeu\"><span class=\"feed-post-header-chapeu\">Exclusivo Fantástico</span></div><div class=\"feed-post-body-title gui-color-primary gui-color-hover\"><div class=\"_evt\"><h2><a class=\"feed-post-link gui-color-primary gui-color-hover\" href=\"https://g1.globo.com/fantastico/noticia/2024/11/24/exclusivo-fantastico-tem-acesso-as-cameras-de-seguranca-que-registraram-morte-de-advogada-em-mg.ghtml\"><p elementtiming=\"text-ssr\">Morte de advogada tem reviravolta após família ver câmeras de segurança</p></a></h2></div></div><div class=\"feed-post-body-resumo\"><p elementtiming=\"text-ssr\">Caso havia sido inicialmente tratado como suicídio; namorado da vítima foi preso.</p></div><div class=\"feed-media-wrapper\"><a class=\"feed-post-figure-link gui-image-hover\" href=\"https://g1.globo.com/fantastico/noticia/2024/11/24/exclusivo-fantastico-tem-acesso-as-cameras-de-seguranca-que-registraram-morte-de-advogada-em-mg.ghtml\"><div class=\"bstn-fd-item-cover bstn-fd-video-cover\"><picture class=\"bstn-fd-cover-picture\"><img alt=\"Morte de advogada tem reviravolta após família ver câmeras de segurança - Programa: Fantástico \" class=\"bstn-fd-picture-image\" elementtiming=\"image-ssr\" loading=\"lazy\" sizes=\"(min-width: 540px) 50vw, (min-width: 900px) 30vw, 100vw\" src=\"https://s2-g1.glbimg.com/FkkxVqfVVgRtQiuFtQgVqpmMu5U=/0x0:1280x720/540x304/smart/filters:max_age(3600)/http://s01.video.glbimg.com/deo/vi/76/65/13126576\" srcset=\"https://s2-g1.glbimg.com/FkkxVqfVVgRtQiuFtQgVqpmMu5U=/0x0:1280x720/540x304/smart/filters:max_age(3600)/http://s01.video.glbimg.com/deo/vi/76/65/13126576 540w,https://s2-g1.glbimg.com/WrqOrNDoBYQXJlMT76uNGphlmDc=/0x0:1280x720/810x456/smart/filters:max_age(3600)/http://s01.video.glbimg.com/deo/vi/76/65/13126576 810w,https://s2-g1.glbimg.com/8Y5R_8ukRZhU-ZbRDHMj070fG04=/0x0:1280x720/1080x608/smart/filters:max_age(3600)/http://s01.video.glbimg.com/deo/vi/76/65/13126576 1080w\" title=\"Morte de advogada tem reviravolta após família ver câmeras de segurança - Programa: Fantástico \"/></picture></div></a></div><div class=\"feed-post-metadata\"><span class=\"feed-post-datetime\">Há 8 horas</span><span class=\"feed-post-metadata-section\"> Fantástico </span></div></div>\n",
            "<div class=\"feed-post-body\"><div class=\"feed-post-header\"></div><div class=\"feed-post-body-title gui-color-primary gui-color-hover\"><div class=\"_evt\"><h2><a class=\"feed-post-link gui-color-primary gui-color-hover\" href=\"https://g1.globo.com/fantastico/playlist/videos-veja-todas-as-reportagens-do-fantastico.ghtml\"><p elementtiming=\"text-ssr\">REVEJA as reportagens do Fantástico</p></a></h2></div></div><div class=\"feed-media-wrapper\"><a class=\"feed-post-figure-link gui-image-hover\" href=\"https://g1.globo.com/fantastico/playlist/videos-veja-todas-as-reportagens-do-fantastico.ghtml\"><div class=\"bstn-fd-item-cover\"><picture class=\"bstn-fd-cover-picture\"><img alt=\"REVEJA as reportagens do Fantástico\" class=\"bstn-fd-picture-image\" elementtiming=\"image-ssr\" loading=\"lazy\" sizes=\"(min-width: 540px) 50vw, (min-width: 900px) 30vw, 100vw\" src=\"https://s2-g1.glbimg.com/bWF2Ti7rXGL74aTFc1y_XFaddZk=/0x0:1920x1080/540x304/smart/filters:max_age(3600)/http://s2-g1.glbimg.com/8gBwSsVAIECsweNBGdL3dR77MnE=/filters:max_age(3600)/s03.video.glbimg.com/deo/vi/90/25/12872590\" srcset=\"https://s2-g1.glbimg.com/bWF2Ti7rXGL74aTFc1y_XFaddZk=/0x0:1920x1080/540x304/smart/filters:max_age(3600)/http://s2-g1.glbimg.com/8gBwSsVAIECsweNBGdL3dR77MnE=/filters:max_age(3600)/s03.video.glbimg.com/deo/vi/90/25/12872590 540w,https://s2-g1.glbimg.com/0QCcUJXXTU8f3NmrvZtoXERwcyk=/0x0:1920x1080/810x456/smart/filters:max_age(3600)/http://s2-g1.glbimg.com/8gBwSsVAIECsweNBGdL3dR77MnE=/filters:max_age(3600)/s03.video.glbimg.com/deo/vi/90/25/12872590 810w,https://s2-g1.glbimg.com/iKIqdJdKsC8CLTbZj-Z7OH8q9IA=/0x0:1920x1080/1080x608/smart/filters:max_age(3600)/http://s2-g1.glbimg.com/8gBwSsVAIECsweNBGdL3dR77MnE=/filters:max_age(3600)/s03.video.glbimg.com/deo/vi/90/25/12872590 1080w\" title=\"REVEJA as reportagens do Fantástico\"/></picture></div></a></div><div class=\"feed-post-metadata\"><span class=\"feed-post-datetime\">Há 27 minutos</span><span class=\"feed-post-metadata-section\"> Fantástico </span></div></div>\n",
            "<div class=\"feed-post-body\"><div class=\"feed-post-header with-post-chapeu\"><span class=\"feed-post-header-chapeu\">Acidente aéreo</span></div><div class=\"feed-post-body-title gui-color-primary gui-color-hover\"><div class=\"_evt\"><h2><a class=\"feed-post-link gui-color-primary gui-color-hover\" href=\"https://g1.globo.com/mundo/noticia/2024/11/25/aviao-cai-aeroporto-lituania.ghtml\"><p elementtiming=\"text-ssr\">Avião cargueiro cai em cima de casa na Lituânia; 1 pessoa morreu</p></a></h2></div></div><div class=\"feed-media-wrapper\"><a class=\"feed-post-figure-link gui-image-hover\" href=\"https://g1.globo.com/mundo/noticia/2024/11/25/aviao-cai-aeroporto-lituania.ghtml\"><div class=\"bstn-fd-item-cover\"><picture class=\"bstn-fd-cover-picture\"><img alt=\"Avião cargueiro cai em cima de casa na Lituânia; 1 pessoa morreu - Foto: (Mindaugas Kulbis/AP)\" class=\"bstn-fd-picture-image\" elementtiming=\"image-ssr\" loading=\"lazy\" sizes=\"(min-width: 540px) 50vw, (min-width: 900px) 30vw, 100vw\" src=\"https://s2-g1.glbimg.com/T_5j7JhyMNnKIm6ikzpL0lfbqlA=/0x878:8400x5603/540x304/smart/filters:max_age(3600)/https://i.s3.glbimg.com/v1/AUTH_59edd422c0c84a879bd37670ae4f538a/internal_photos/bs/2024/H/s/7jAL7eSOycA1XPuNqrtA/ap24330269357796-1-1-.jpg\" srcset=\"https://s2-g1.glbimg.com/T_5j7JhyMNnKIm6ikzpL0lfbqlA=/0x878:8400x5603/540x304/smart/filters:max_age(3600)/https://i.s3.glbimg.com/v1/AUTH_59edd422c0c84a879bd37670ae4f538a/internal_photos/bs/2024/H/s/7jAL7eSOycA1XPuNqrtA/ap24330269357796-1-1-.jpg 540w,https://s2-g1.glbimg.com/Q7rdCyJNF2y91OrJZ5G5IEiBQA0=/0x878:8400x5603/810x456/smart/filters:max_age(3600)/https://i.s3.glbimg.com/v1/AUTH_59edd422c0c84a879bd37670ae4f538a/internal_photos/bs/2024/H/s/7jAL7eSOycA1XPuNqrtA/ap24330269357796-1-1-.jpg 810w,https://s2-g1.glbimg.com/0h8Jf9fzPyacAvjMtGxuD2h3smw=/0x878:8400x5603/1080x608/smart/filters:max_age(3600)/https://i.s3.glbimg.com/v1/AUTH_59edd422c0c84a879bd37670ae4f538a/internal_photos/bs/2024/H/s/7jAL7eSOycA1XPuNqrtA/ap24330269357796-1-1-.jpg 1080w\" title=\"Avião cargueiro cai em cima de casa na Lituânia; 1 pessoa morreu - Foto: (Mindaugas Kulbis/AP)\"/></picture></div></a></div><div class=\"feed-post-metadata\"><span class=\"feed-post-datetime\">Há 15 minutos</span><span class=\"feed-post-metadata-section\"> Mundo </span></div></div>\n",
            "<div class=\"feed-post-body\"><div class=\"feed-post-header with-post-chapeu\"><span class=\"feed-post-header-chapeu\">Serra da Barriga</span></div><div class=\"feed-post-body-title gui-color-primary gui-color-hover\"><div class=\"_evt\"><h2><a class=\"feed-post-link gui-color-primary gui-color-hover\" href=\"https://g1.globo.com/al/alagoas/noticia/2024/11/24/onibus-capota-serra-da-barriga-alagoas.ghtml\"><p elementtiming=\"text-ssr\">Ônibus capota em ribanceira e deixa 17 mortos em Alagoas</p></a></h2></div></div><div class=\"feed-media-wrapper\"><a class=\"feed-post-figure-link gui-image-hover\" href=\"https://g1.globo.com/al/alagoas/noticia/2024/11/24/onibus-capota-serra-da-barriga-alagoas.ghtml\"><div class=\"bstn-fd-item-cover\"><picture class=\"bstn-fd-cover-picture\"><img alt=\"Ônibus capota em ribanceira e deixa 17 mortos em Alagoas - Foto: (Reprodução/Vídeo)\" class=\"bstn-fd-picture-image\" elementtiming=\"image-ssr\" loading=\"lazy\" sizes=\"(min-width: 540px) 50vw, (min-width: 900px) 30vw, 100vw\" src=\"https://s2-g1.glbimg.com/cyWrtoXJJl_FTwIG-bYu5Vjmfy8=/0x125:2086x1298/540x304/smart/filters:max_age(3600)/https://i.s3.glbimg.com/v1/AUTH_59edd422c0c84a879bd37670ae4f538a/internal_photos/bs/2024/n/H/C4S7NKQFSDMalkEslxGg/whatsapp-image-2024-11-24-at-16.45.45.jpeg\" srcset=\"https://s2-g1.glbimg.com/cyWrtoXJJl_FTwIG-bYu5Vjmfy8=/0x125:2086x1298/540x304/smart/filters:max_age(3600)/https://i.s3.glbimg.com/v1/AUTH_59edd422c0c84a879bd37670ae4f538a/internal_photos/bs/2024/n/H/C4S7NKQFSDMalkEslxGg/whatsapp-image-2024-11-24-at-16.45.45.jpeg 540w,https://s2-g1.glbimg.com/xQd8bBPYDonQgpekL9bxhFyWKxw=/0x125:2086x1298/810x456/smart/filters:max_age(3600)/https://i.s3.glbimg.com/v1/AUTH_59edd422c0c84a879bd37670ae4f538a/internal_photos/bs/2024/n/H/C4S7NKQFSDMalkEslxGg/whatsapp-image-2024-11-24-at-16.45.45.jpeg 810w,https://s2-g1.glbimg.com/qHc8ybG3H4XXfHE0jc7ejcyPYcI=/0x125:2086x1298/1080x608/smart/filters:max_age(3600)/https://i.s3.glbimg.com/v1/AUTH_59edd422c0c84a879bd37670ae4f538a/internal_photos/bs/2024/n/H/C4S7NKQFSDMalkEslxGg/whatsapp-image-2024-11-24-at-16.45.45.jpeg 1080w\" title=\"Ônibus capota em ribanceira e deixa 17 mortos em Alagoas - Foto: (Reprodução/Vídeo)\"/></picture></div></a></div><div class=\"feed-post-metadata\"><span class=\"feed-post-datetime\">Há 10 horas</span><span class=\"feed-post-metadata-section\"> Alagoas </span></div><div class=\"bstn-related\"><ul class=\"bstn-relateditems\"><li class=\"bstn-relateditem\"><div class=\"bstn-fd-relatedtext\"><a class=\"gui-color-primary gui-color-hover feed-post-body-title bstn-relatedtext\" href=\"https://g1.globo.com/al/alagoas/noticia/2024/11/25/video-mostra-resgate-e-desespero-de-sobreviventes-do-acidente-com-onibus-que-matou-17-em-al.ghtml\">VÍDEO mostra resgate e desespero de sobreviventes; assista</a><div class=\"feed-post-metadata\"><span class=\"feed-post-datetime\">Há 10 horas</span></div></div></li></ul></div></div>\n",
            "<div class=\"feed-post-body\"><div class=\"feed-post-header with-post-chapeu\"><span class=\"feed-post-header-chapeu\">Violência e elitismo</span></div><div class=\"feed-post-body-title gui-color-primary gui-color-hover\"><div class=\"_evt\"><h2><a class=\"feed-post-link gui-color-primary gui-color-hover\" href=\"https://g1.globo.com/educacao/noticia/2024/11/25/cotista-pobre-sou-playboy-seu-pai-e-motoboy-por-que-luta-de-classes-domina-jogos-universitarios.ghtml\"><p elementtiming=\"text-ssr\">'Sou playboy, seu pai é motoboy': luta de classes domina jogos universitários</p></a></h2></div></div><div class=\"feed-media-wrapper\"><a class=\"feed-post-figure-link gui-image-hover\" href=\"https://g1.globo.com/educacao/noticia/2024/11/25/cotista-pobre-sou-playboy-seu-pai-e-motoboy-por-que-luta-de-classes-domina-jogos-universitarios.ghtml\"><div class=\"bstn-fd-item-cover bstn-fd-video-cover\"><picture class=\"bstn-fd-cover-picture\"><img alt=\"'Sou playboy, seu pai é motoboy': luta de classes domina jogos universitários - Programa: G1 Educação \" class=\"bstn-fd-picture-image\" elementtiming=\"image-ssr\" loading=\"lazy\" sizes=\"(min-width: 540px) 50vw, (min-width: 900px) 30vw, 100vw\" src=\"https://s2-g1.glbimg.com/-v8nqq1JhMIMjxUYU7T8WFdRLCY=/0x0:1920x1080/540x304/smart/filters:max_age(3600)/http://s01.video.glbimg.com/deo/vi/63/32/13123263\" srcset=\"https://s2-g1.glbimg.com/-v8nqq1JhMIMjxUYU7T8WFdRLCY=/0x0:1920x1080/540x304/smart/filters:max_age(3600)/http://s01.video.glbimg.com/deo/vi/63/32/13123263 540w,https://s2-g1.glbimg.com/pzqIkjD2TU1-miY2UPzIOQ1m_Yg=/0x0:1920x1080/810x456/smart/filters:max_age(3600)/http://s01.video.glbimg.com/deo/vi/63/32/13123263 810w,https://s2-g1.glbimg.com/Ozdrw2gkARDCL-EEXGf1CzIwUgE=/0x0:1920x1080/1080x608/smart/filters:max_age(3600)/http://s01.video.glbimg.com/deo/vi/63/32/13123263 1080w\" title=\"'Sou playboy, seu pai é motoboy': luta de classes domina jogos universitários - Programa: G1 Educação \"/></picture></div></a></div><div class=\"feed-post-metadata\"><span class=\"feed-post-datetime\">Há 7 minutos</span><span class=\"feed-post-metadata-section\"> Educação </span></div></div>\n",
            "<div class=\"feed-post-body\"><div class=\"feed-post-header with-post-chapeu\"><span class=\"feed-post-header-chapeu\">🎧 Podcast</span></div><div class=\"feed-post-body-title gui-color-primary gui-color-hover\"><div class=\"_evt\"><h2><a class=\"feed-post-link gui-color-primary gui-color-hover\" href=\"https://g1.globo.com/podcast/o-assunto/noticia/2024/11/25/o-assunto-1352-o-brasil-que-nao-le.ghtml\"><p elementtiming=\"text-ssr\">O ASSUNTO: o que está por trás do desinteresse pela leitura; OUÇA</p></a></h2></div></div><div class=\"feed-media-wrapper\"><a class=\"feed-post-figure-link gui-image-hover\" href=\"https://g1.globo.com/podcast/o-assunto/noticia/2024/11/25/o-assunto-1352-o-brasil-que-nao-le.ghtml\"><div class=\"bstn-fd-item-cover\"><picture class=\"bstn-fd-cover-picture\"><img alt=\"O ASSUNTO: o que está por trás do desinteresse pela leitura; OUÇA - Foto: (Freepik)\" class=\"bstn-fd-picture-image\" elementtiming=\"image-ssr\" loading=\"lazy\" sizes=\"(min-width: 540px) 50vw, (min-width: 900px) 30vw, 100vw\" src=\"https://s2-g1.glbimg.com/njSDob5YvmYDOmcTqZHsPFiI0o4=/363x0:5766x3039/540x304/smart/filters:max_age(3600)/https://i.s3.glbimg.com/v1/AUTH_59edd422c0c84a879bd37670ae4f538a/internal_photos/bs/2024/2/D/bWiBOaQ9CNltzGq8Mjng/stack-books-with-library-scene.jpg\" srcset=\"https://s2-g1.glbimg.com/njSDob5YvmYDOmcTqZHsPFiI0o4=/363x0:5766x3039/540x304/smart/filters:max_age(3600)/https://i.s3.glbimg.com/v1/AUTH_59edd422c0c84a879bd37670ae4f538a/internal_photos/bs/2024/2/D/bWiBOaQ9CNltzGq8Mjng/stack-books-with-library-scene.jpg 540w,https://s2-g1.glbimg.com/GI23DYfnwtrhR-0AIdUxvMoPVXM=/363x0:5766x3039/810x456/smart/filters:max_age(3600)/https://i.s3.glbimg.com/v1/AUTH_59edd422c0c84a879bd37670ae4f538a/internal_photos/bs/2024/2/D/bWiBOaQ9CNltzGq8Mjng/stack-books-with-library-scene.jpg 810w,https://s2-g1.glbimg.com/JGKf6ybv50l0OqbZ4IpiqrlHm7A=/363x0:5766x3039/1080x608/smart/filters:max_age(3600)/https://i.s3.glbimg.com/v1/AUTH_59edd422c0c84a879bd37670ae4f538a/internal_photos/bs/2024/2/D/bWiBOaQ9CNltzGq8Mjng/stack-books-with-library-scene.jpg 1080w\" title=\"O ASSUNTO: o que está por trás do desinteresse pela leitura; OUÇA - Foto: (Freepik)\"/></picture></div></a></div><div class=\"feed-post-metadata\"><span class=\"feed-post-datetime\">Há 5 horas</span><span class=\"feed-post-metadata-section\"> O Assunto </span></div></div>\n",
            "[INFO] 2024-11-25 09:27:27 - Dados coletados com sucesso na URL: https://g1.globo.com;\n",
            "[INFO] 2024-11-25 09:27:27 - Os resultados foram salvos no arquivo: ./corpora/g1_noticias.csv.\n"
          ]
        }
      ]
    },
    {
      "cell_type": "code",
      "source": [
        "# Carrega os dados do arquivo csv especificados no DataFrame 'noticias_g1_df'\n",
        "noticias_g1_df = pd.read_csv(noticias_caminho)\n",
        "noticias_g1_df.head(10)"
      ],
      "metadata": {
        "colab": {
          "base_uri": "https://localhost:8080/",
          "height": 269
        },
        "id": "dnSjLYNXdN5W",
        "outputId": "9238eadd-d2ff-4bf7-9b40-4e365e519048"
      },
      "execution_count": 7,
      "outputs": [
        {
          "output_type": "execute_result",
          "data": {
            "text/plain": [
              "                                              titulo  \\\n",
              "0  Quem é Yamandú Orsi, pupilo de Mujica eleito p...   \n",
              "1  Morte de advogada tem reviravolta após família...   \n",
              "2                REVEJA as reportagens do Fantástico   \n",
              "3  Avião cargueiro cai em cima de casa na Lituâni...   \n",
              "4  Ônibus capota em ribanceira e deixa 17 mortos ...   \n",
              "5  'Sou playboy, seu pai é motoboy': luta de clas...   \n",
              "6  O ASSUNTO: o que está por trás do desinteresse...   \n",
              "\n",
              "                                           subtitulo  \\\n",
              "0                                                NaN   \n",
              "1  Caso havia sido inicialmente tratado como suic...   \n",
              "2                                                NaN   \n",
              "3                                                NaN   \n",
              "4                                                NaN   \n",
              "5                                                NaN   \n",
              "6                                                NaN   \n",
              "\n",
              "                                                link  \n",
              "0  https://g1.globo.com/mundo/noticia/2024/11/25/...  \n",
              "1  https://g1.globo.com/fantastico/noticia/2024/1...  \n",
              "2  https://g1.globo.com/fantastico/playlist/video...  \n",
              "3  https://g1.globo.com/mundo/noticia/2024/11/25/...  \n",
              "4  https://g1.globo.com/al/alagoas/noticia/2024/1...  \n",
              "5  https://g1.globo.com/educacao/noticia/2024/11/...  \n",
              "6  https://g1.globo.com/podcast/o-assunto/noticia...  "
            ],
            "text/html": [
              "\n",
              "  <div id=\"df-81b735eb-e1ce-4282-832d-c3ed44213b16\" class=\"colab-df-container\">\n",
              "    <div>\n",
              "<style scoped>\n",
              "    .dataframe tbody tr th:only-of-type {\n",
              "        vertical-align: middle;\n",
              "    }\n",
              "\n",
              "    .dataframe tbody tr th {\n",
              "        vertical-align: top;\n",
              "    }\n",
              "\n",
              "    .dataframe thead th {\n",
              "        text-align: right;\n",
              "    }\n",
              "</style>\n",
              "<table border=\"1\" class=\"dataframe\">\n",
              "  <thead>\n",
              "    <tr style=\"text-align: right;\">\n",
              "      <th></th>\n",
              "      <th>titulo</th>\n",
              "      <th>subtitulo</th>\n",
              "      <th>link</th>\n",
              "    </tr>\n",
              "  </thead>\n",
              "  <tbody>\n",
              "    <tr>\n",
              "      <th>0</th>\n",
              "      <td>Quem é Yamandú Orsi, pupilo de Mujica eleito p...</td>\n",
              "      <td>NaN</td>\n",
              "      <td>https://g1.globo.com/mundo/noticia/2024/11/25/...</td>\n",
              "    </tr>\n",
              "    <tr>\n",
              "      <th>1</th>\n",
              "      <td>Morte de advogada tem reviravolta após família...</td>\n",
              "      <td>Caso havia sido inicialmente tratado como suic...</td>\n",
              "      <td>https://g1.globo.com/fantastico/noticia/2024/1...</td>\n",
              "    </tr>\n",
              "    <tr>\n",
              "      <th>2</th>\n",
              "      <td>REVEJA as reportagens do Fantástico</td>\n",
              "      <td>NaN</td>\n",
              "      <td>https://g1.globo.com/fantastico/playlist/video...</td>\n",
              "    </tr>\n",
              "    <tr>\n",
              "      <th>3</th>\n",
              "      <td>Avião cargueiro cai em cima de casa na Lituâni...</td>\n",
              "      <td>NaN</td>\n",
              "      <td>https://g1.globo.com/mundo/noticia/2024/11/25/...</td>\n",
              "    </tr>\n",
              "    <tr>\n",
              "      <th>4</th>\n",
              "      <td>Ônibus capota em ribanceira e deixa 17 mortos ...</td>\n",
              "      <td>NaN</td>\n",
              "      <td>https://g1.globo.com/al/alagoas/noticia/2024/1...</td>\n",
              "    </tr>\n",
              "    <tr>\n",
              "      <th>5</th>\n",
              "      <td>'Sou playboy, seu pai é motoboy': luta de clas...</td>\n",
              "      <td>NaN</td>\n",
              "      <td>https://g1.globo.com/educacao/noticia/2024/11/...</td>\n",
              "    </tr>\n",
              "    <tr>\n",
              "      <th>6</th>\n",
              "      <td>O ASSUNTO: o que está por trás do desinteresse...</td>\n",
              "      <td>NaN</td>\n",
              "      <td>https://g1.globo.com/podcast/o-assunto/noticia...</td>\n",
              "    </tr>\n",
              "  </tbody>\n",
              "</table>\n",
              "</div>\n",
              "    <div class=\"colab-df-buttons\">\n",
              "\n",
              "  <div class=\"colab-df-container\">\n",
              "    <button class=\"colab-df-convert\" onclick=\"convertToInteractive('df-81b735eb-e1ce-4282-832d-c3ed44213b16')\"\n",
              "            title=\"Convert this dataframe to an interactive table.\"\n",
              "            style=\"display:none;\">\n",
              "\n",
              "  <svg xmlns=\"http://www.w3.org/2000/svg\" height=\"24px\" viewBox=\"0 -960 960 960\">\n",
              "    <path d=\"M120-120v-720h720v720H120Zm60-500h600v-160H180v160Zm220 220h160v-160H400v160Zm0 220h160v-160H400v160ZM180-400h160v-160H180v160Zm440 0h160v-160H620v160ZM180-180h160v-160H180v160Zm440 0h160v-160H620v160Z\"/>\n",
              "  </svg>\n",
              "    </button>\n",
              "\n",
              "  <style>\n",
              "    .colab-df-container {\n",
              "      display:flex;\n",
              "      gap: 12px;\n",
              "    }\n",
              "\n",
              "    .colab-df-convert {\n",
              "      background-color: #E8F0FE;\n",
              "      border: none;\n",
              "      border-radius: 50%;\n",
              "      cursor: pointer;\n",
              "      display: none;\n",
              "      fill: #1967D2;\n",
              "      height: 32px;\n",
              "      padding: 0 0 0 0;\n",
              "      width: 32px;\n",
              "    }\n",
              "\n",
              "    .colab-df-convert:hover {\n",
              "      background-color: #E2EBFA;\n",
              "      box-shadow: 0px 1px 2px rgba(60, 64, 67, 0.3), 0px 1px 3px 1px rgba(60, 64, 67, 0.15);\n",
              "      fill: #174EA6;\n",
              "    }\n",
              "\n",
              "    .colab-df-buttons div {\n",
              "      margin-bottom: 4px;\n",
              "    }\n",
              "\n",
              "    [theme=dark] .colab-df-convert {\n",
              "      background-color: #3B4455;\n",
              "      fill: #D2E3FC;\n",
              "    }\n",
              "\n",
              "    [theme=dark] .colab-df-convert:hover {\n",
              "      background-color: #434B5C;\n",
              "      box-shadow: 0px 1px 3px 1px rgba(0, 0, 0, 0.15);\n",
              "      filter: drop-shadow(0px 1px 2px rgba(0, 0, 0, 0.3));\n",
              "      fill: #FFFFFF;\n",
              "    }\n",
              "  </style>\n",
              "\n",
              "    <script>\n",
              "      const buttonEl =\n",
              "        document.querySelector('#df-81b735eb-e1ce-4282-832d-c3ed44213b16 button.colab-df-convert');\n",
              "      buttonEl.style.display =\n",
              "        google.colab.kernel.accessAllowed ? 'block' : 'none';\n",
              "\n",
              "      async function convertToInteractive(key) {\n",
              "        const element = document.querySelector('#df-81b735eb-e1ce-4282-832d-c3ed44213b16');\n",
              "        const dataTable =\n",
              "          await google.colab.kernel.invokeFunction('convertToInteractive',\n",
              "                                                    [key], {});\n",
              "        if (!dataTable) return;\n",
              "\n",
              "        const docLinkHtml = 'Like what you see? Visit the ' +\n",
              "          '<a target=\"_blank\" href=https://colab.research.google.com/notebooks/data_table.ipynb>data table notebook</a>'\n",
              "          + ' to learn more about interactive tables.';\n",
              "        element.innerHTML = '';\n",
              "        dataTable['output_type'] = 'display_data';\n",
              "        await google.colab.output.renderOutput(dataTable, element);\n",
              "        const docLink = document.createElement('div');\n",
              "        docLink.innerHTML = docLinkHtml;\n",
              "        element.appendChild(docLink);\n",
              "      }\n",
              "    </script>\n",
              "  </div>\n",
              "\n",
              "\n",
              "<div id=\"df-4253ba07-991d-40fa-bdef-95169dcdce6d\">\n",
              "  <button class=\"colab-df-quickchart\" onclick=\"quickchart('df-4253ba07-991d-40fa-bdef-95169dcdce6d')\"\n",
              "            title=\"Suggest charts\"\n",
              "            style=\"display:none;\">\n",
              "\n",
              "<svg xmlns=\"http://www.w3.org/2000/svg\" height=\"24px\"viewBox=\"0 0 24 24\"\n",
              "     width=\"24px\">\n",
              "    <g>\n",
              "        <path d=\"M19 3H5c-1.1 0-2 .9-2 2v14c0 1.1.9 2 2 2h14c1.1 0 2-.9 2-2V5c0-1.1-.9-2-2-2zM9 17H7v-7h2v7zm4 0h-2V7h2v10zm4 0h-2v-4h2v4z\"/>\n",
              "    </g>\n",
              "</svg>\n",
              "  </button>\n",
              "\n",
              "<style>\n",
              "  .colab-df-quickchart {\n",
              "      --bg-color: #E8F0FE;\n",
              "      --fill-color: #1967D2;\n",
              "      --hover-bg-color: #E2EBFA;\n",
              "      --hover-fill-color: #174EA6;\n",
              "      --disabled-fill-color: #AAA;\n",
              "      --disabled-bg-color: #DDD;\n",
              "  }\n",
              "\n",
              "  [theme=dark] .colab-df-quickchart {\n",
              "      --bg-color: #3B4455;\n",
              "      --fill-color: #D2E3FC;\n",
              "      --hover-bg-color: #434B5C;\n",
              "      --hover-fill-color: #FFFFFF;\n",
              "      --disabled-bg-color: #3B4455;\n",
              "      --disabled-fill-color: #666;\n",
              "  }\n",
              "\n",
              "  .colab-df-quickchart {\n",
              "    background-color: var(--bg-color);\n",
              "    border: none;\n",
              "    border-radius: 50%;\n",
              "    cursor: pointer;\n",
              "    display: none;\n",
              "    fill: var(--fill-color);\n",
              "    height: 32px;\n",
              "    padding: 0;\n",
              "    width: 32px;\n",
              "  }\n",
              "\n",
              "  .colab-df-quickchart:hover {\n",
              "    background-color: var(--hover-bg-color);\n",
              "    box-shadow: 0 1px 2px rgba(60, 64, 67, 0.3), 0 1px 3px 1px rgba(60, 64, 67, 0.15);\n",
              "    fill: var(--button-hover-fill-color);\n",
              "  }\n",
              "\n",
              "  .colab-df-quickchart-complete:disabled,\n",
              "  .colab-df-quickchart-complete:disabled:hover {\n",
              "    background-color: var(--disabled-bg-color);\n",
              "    fill: var(--disabled-fill-color);\n",
              "    box-shadow: none;\n",
              "  }\n",
              "\n",
              "  .colab-df-spinner {\n",
              "    border: 2px solid var(--fill-color);\n",
              "    border-color: transparent;\n",
              "    border-bottom-color: var(--fill-color);\n",
              "    animation:\n",
              "      spin 1s steps(1) infinite;\n",
              "  }\n",
              "\n",
              "  @keyframes spin {\n",
              "    0% {\n",
              "      border-color: transparent;\n",
              "      border-bottom-color: var(--fill-color);\n",
              "      border-left-color: var(--fill-color);\n",
              "    }\n",
              "    20% {\n",
              "      border-color: transparent;\n",
              "      border-left-color: var(--fill-color);\n",
              "      border-top-color: var(--fill-color);\n",
              "    }\n",
              "    30% {\n",
              "      border-color: transparent;\n",
              "      border-left-color: var(--fill-color);\n",
              "      border-top-color: var(--fill-color);\n",
              "      border-right-color: var(--fill-color);\n",
              "    }\n",
              "    40% {\n",
              "      border-color: transparent;\n",
              "      border-right-color: var(--fill-color);\n",
              "      border-top-color: var(--fill-color);\n",
              "    }\n",
              "    60% {\n",
              "      border-color: transparent;\n",
              "      border-right-color: var(--fill-color);\n",
              "    }\n",
              "    80% {\n",
              "      border-color: transparent;\n",
              "      border-right-color: var(--fill-color);\n",
              "      border-bottom-color: var(--fill-color);\n",
              "    }\n",
              "    90% {\n",
              "      border-color: transparent;\n",
              "      border-bottom-color: var(--fill-color);\n",
              "    }\n",
              "  }\n",
              "</style>\n",
              "\n",
              "  <script>\n",
              "    async function quickchart(key) {\n",
              "      const quickchartButtonEl =\n",
              "        document.querySelector('#' + key + ' button');\n",
              "      quickchartButtonEl.disabled = true;  // To prevent multiple clicks.\n",
              "      quickchartButtonEl.classList.add('colab-df-spinner');\n",
              "      try {\n",
              "        const charts = await google.colab.kernel.invokeFunction(\n",
              "            'suggestCharts', [key], {});\n",
              "      } catch (error) {\n",
              "        console.error('Error during call to suggestCharts:', error);\n",
              "      }\n",
              "      quickchartButtonEl.classList.remove('colab-df-spinner');\n",
              "      quickchartButtonEl.classList.add('colab-df-quickchart-complete');\n",
              "    }\n",
              "    (() => {\n",
              "      let quickchartButtonEl =\n",
              "        document.querySelector('#df-4253ba07-991d-40fa-bdef-95169dcdce6d button');\n",
              "      quickchartButtonEl.style.display =\n",
              "        google.colab.kernel.accessAllowed ? 'block' : 'none';\n",
              "    })();\n",
              "  </script>\n",
              "</div>\n",
              "\n",
              "    </div>\n",
              "  </div>\n"
            ],
            "application/vnd.google.colaboratory.intrinsic+json": {
              "type": "dataframe",
              "variable_name": "noticias_g1_df",
              "summary": "{\n  \"name\": \"noticias_g1_df\",\n  \"rows\": 7,\n  \"fields\": [\n    {\n      \"column\": \"titulo\",\n      \"properties\": {\n        \"dtype\": \"string\",\n        \"num_unique_values\": 7,\n        \"samples\": [\n          \"Quem \\u00e9 Yamand\\u00fa Orsi, pupilo de Mujica eleito presidente do Uruguai \",\n          \"Morte de advogada tem reviravolta ap\\u00f3s fam\\u00edlia ver c\\u00e2meras de seguran\\u00e7a\",\n          \"'Sou playboy, seu pai \\u00e9 motoboy': luta de classes domina jogos universit\\u00e1rios\"\n        ],\n        \"semantic_type\": \"\",\n        \"description\": \"\"\n      }\n    },\n    {\n      \"column\": \"subtitulo\",\n      \"properties\": {\n        \"dtype\": \"category\",\n        \"num_unique_values\": 1,\n        \"samples\": [\n          \"Caso havia sido inicialmente tratado como suic\\u00eddio; namorado da v\\u00edtima foi preso.\"\n        ],\n        \"semantic_type\": \"\",\n        \"description\": \"\"\n      }\n    },\n    {\n      \"column\": \"link\",\n      \"properties\": {\n        \"dtype\": \"string\",\n        \"num_unique_values\": 7,\n        \"samples\": [\n          \"https://g1.globo.com/mundo/noticia/2024/11/25/quem-e-yamandu-orsi-pupilo-de-mujica-que-sera-o-proximo-do-presidente-do-uruguai.ghtml\"\n        ],\n        \"semantic_type\": \"\",\n        \"description\": \"\"\n      }\n    }\n  ]\n}"
            }
          },
          "metadata": {},
          "execution_count": 7
        }
      ]
    },
    {
      "cell_type": "code",
      "source": [],
      "metadata": {
        "id": "6bJhG0OugOMA"
      },
      "execution_count": null,
      "outputs": []
    }
  ]
}