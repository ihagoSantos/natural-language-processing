{
  "nbformat": 4,
  "nbformat_minor": 0,
  "metadata": {
    "colab": {
      "provenance": [],
      "authorship_tag": "ABX9TyPpsnLq+uyTD09sQTv4x/6x",
      "include_colab_link": true
    },
    "kernelspec": {
      "name": "python3",
      "display_name": "Python 3"
    },
    "language_info": {
      "name": "python"
    }
  },
  "cells": [
    {
      "cell_type": "markdown",
      "metadata": {
        "id": "view-in-github",
        "colab_type": "text"
      },
      "source": [
        "<a href=\"https://colab.research.google.com/github/ihagoSantos/natural-language-processing/blob/main/data_acquisition_with_data_scraping.ipynb\" target=\"_parent\"><img src=\"https://colab.research.google.com/assets/colab-badge.svg\" alt=\"Open In Colab\"/></a>"
      ]
    },
    {
      "cell_type": "markdown",
      "source": [
        "# Aquisição de dados com raspagem de dados"
      ],
      "metadata": {
        "id": "65j6aNKVYF9K"
      }
    },
    {
      "cell_type": "code",
      "execution_count": 2,
      "metadata": {
        "colab": {
          "base_uri": "https://localhost:8080/"
        },
        "id": "hYnLUZBUYA5D",
        "outputId": "9a040ba2-6de2-4ef5-c2e1-4fabe51f71e1"
      },
      "outputs": [
        {
          "output_type": "stream",
          "name": "stdout",
          "text": [
            "Requirement already satisfied: beautifulsoup4 in /usr/local/lib/python3.10/dist-packages (4.12.3)\n",
            "Requirement already satisfied: pandas in /usr/local/lib/python3.10/dist-packages (2.2.2)\n",
            "Requirement already satisfied: requests in /usr/local/lib/python3.10/dist-packages (2.32.3)\n",
            "Requirement already satisfied: soupsieve>1.2 in /usr/local/lib/python3.10/dist-packages (from beautifulsoup4) (2.6)\n",
            "Requirement already satisfied: numpy>=1.22.4 in /usr/local/lib/python3.10/dist-packages (from pandas) (1.26.4)\n",
            "Requirement already satisfied: python-dateutil>=2.8.2 in /usr/local/lib/python3.10/dist-packages (from pandas) (2.8.2)\n",
            "Requirement already satisfied: pytz>=2020.1 in /usr/local/lib/python3.10/dist-packages (from pandas) (2024.2)\n",
            "Requirement already satisfied: tzdata>=2022.7 in /usr/local/lib/python3.10/dist-packages (from pandas) (2024.2)\n",
            "Requirement already satisfied: charset-normalizer<4,>=2 in /usr/local/lib/python3.10/dist-packages (from requests) (3.4.0)\n",
            "Requirement already satisfied: idna<4,>=2.5 in /usr/local/lib/python3.10/dist-packages (from requests) (3.10)\n",
            "Requirement already satisfied: urllib3<3,>=1.21.1 in /usr/local/lib/python3.10/dist-packages (from requests) (2.2.3)\n",
            "Requirement already satisfied: certifi>=2017.4.17 in /usr/local/lib/python3.10/dist-packages (from requests) (2024.8.30)\n",
            "Requirement already satisfied: six>=1.5 in /usr/local/lib/python3.10/dist-packages (from python-dateutil>=2.8.2->pandas) (1.16.0)\n"
          ]
        }
      ],
      "source": [
        "# Instalação de pacotes para raspagem e análise de dados\n",
        "!pip install beautifulsoup4 pandas requests"
      ]
    },
    {
      "cell_type": "code",
      "source": [
        "# Declara funções utilitárias utilizadas no notebook\n",
        "import datetime\n",
        "def formata_msg(nivel, msg):\n",
        "  \"\"\"\n",
        "  Formata mensagem de log definindo nível de severidade, timestamp e a mensagem.\n",
        "\n",
        "  Parâmetros:\n",
        "  - nivel (str): Nível de severidade da mensagem (ex: 'INFO', 'ERROR', 'WARNING')\n",
        "  - msg (str): A mensagem de log propriamente dita\n",
        "\n",
        "  Retorna:\n",
        "  - str: A mensagem de log formatada\n",
        "  \"\"\"\n",
        "  timestamp = datetime.datetime.now().strftime('%Y-%m-%d %H:%M:%M')\n",
        "  return f\"[{nivel}] {timestamp} - {msg}\"\n"
      ],
      "metadata": {
        "id": "nh9D1hv8YP0B"
      },
      "execution_count": 3,
      "outputs": []
    },
    {
      "cell_type": "code",
      "source": [
        "# Importa os módulos essenciais para o notebook\n",
        "import os\n",
        "\n",
        "import pandas as pd\n",
        "import requests\n",
        "from bs4 import BeautifulSoup\n",
        "\n",
        "print(formata_msg(\"INFO\", \"Bibliotecas importadas com sucesso; ambiente pronto.\"))"
      ],
      "metadata": {
        "colab": {
          "base_uri": "https://localhost:8080/"
        },
        "id": "1wEUVwTCZCN0",
        "outputId": "8ec8d9d2-ab3f-4a34-d8ab-3a027a3c66fb"
      },
      "execution_count": 4,
      "outputs": [
        {
          "output_type": "stream",
          "name": "stdout",
          "text": [
            "[INFO] 2024-11-22 10:26:26 - Bibliotecas importadas com sucesso; ambiente pronto.\n"
          ]
        }
      ]
    },
    {
      "cell_type": "code",
      "source": [
        "corpora_caminho = './corpora'\n",
        "\n",
        "if not os.path.exists(corpora_caminho):\n",
        "  os.mkdir(corpora_caminho)\n",
        "  print(formata_msg('INFO', f'Diretório {corpora_caminho} criado com sucesso!'))\n",
        "else:\n",
        "  print(formata_msg('INFO', f'Diretório {corpora_caminho} já existe no sistema!'))"
      ],
      "metadata": {
        "colab": {
          "base_uri": "https://localhost:8080/"
        },
        "id": "HjPGAtR3ZVtl",
        "outputId": "acc58905-a48b-4794-9500-d52d550a07f6"
      },
      "execution_count": 5,
      "outputs": [
        {
          "output_type": "stream",
          "name": "stdout",
          "text": [
            "[INFO] 2024-11-22 10:31:31 - Diretório ./corpora criado com sucesso!\n"
          ]
        }
      ]
    },
    {
      "cell_type": "markdown",
      "source": [
        "# 1. G1"
      ],
      "metadata": {
        "id": "kgATesFtafpY"
      }
    },
    {
      "cell_type": "markdown",
      "source": [
        "## Raspagem de dados de notícias do G1\n",
        "\n",
        "Os elementos estruturais da página principal, essenciais para a raspagem de dados incluem as seguintes classes CSS:\n",
        "- feed-post-body: corpo da notícia\n",
        "- feed-post-link: título da notícia\n",
        "- feed-post-body-resumo: subtítulo da notícia (opcional)"
      ],
      "metadata": {
        "id": "KYl8xoQlag4J"
      }
    },
    {
      "cell_type": "code",
      "source": [
        "url = 'https://g1.globo.com'"
      ],
      "metadata": {
        "id": "8fOuTigRads3"
      },
      "execution_count": 7,
      "outputs": []
    },
    {
      "cell_type": "code",
      "source": [
        "noticias_arquivo = 'g1_noticias.csv'\n",
        "\n",
        "noticias_caminho = os.path.join(corpora_caminho, noticias_arquivo)\n",
        "\n",
        "noticias_g1 = []\n",
        "\n",
        "resposta = requests.get(url)\n",
        "\n",
        "if resposta.status_code == 200:\n",
        "  pagina = resposta.content\n",
        "  soup = BeautifulSoup(pagina, 'html.parser')\n",
        "\n",
        "  # encontra todos os elementos que correspondem ao corpo da notícia\n",
        "  noticias = soup.find_all('div', attrs={'class': 'feed-post-body'})\n",
        "\n",
        "  for noticia in noticias:\n",
        "    print(noticia)\n",
        "    # Acha o título da notícia\n",
        "    titulo = noticia.find('a', attrs={'class': 'feed-post-link'})\n",
        "\n",
        "    # Tenta achar o subtítulo da notícia\n",
        "    subtitulo = noticia.find('div', attrs={'class': 'feed-post-body-resumo'})\n",
        "\n",
        "    noticias_g1.append([\n",
        "        titulo.text if titulo and titulo.text else '',\n",
        "        subtitulo.text if subtitulo and subtitulo.text else '',\n",
        "        titulo.attrs['href'] if titulo.has_attr('href') else ''\n",
        "    ])\n",
        "\n",
        "\n",
        "  # Converte a lista de notícias em um dataframe para facilitar a manipulação\n",
        "  noticias_g1_df = pd.DataFrame(noticias_g1, columns=['titulo', 'subtitulo', 'link'])\n",
        "\n",
        "  # Salva os dados coletados em um arquivo csv\n",
        "  noticias_g1_df.to_csv(noticias_caminho, index=False)\n",
        "\n",
        "  print(formata_msg('INFO', f'Dados coletados com sucesso na URL: {url};'))\n",
        "  print(formata_msg('INFO', f'Os resultados foram salvos no arquivo: {noticias_caminho}.'))\n",
        "else:\n",
        "  print(formata_msg('ERROR', f'Falha na solicitação, código de status: {resposta.status_code}.'))"
      ],
      "metadata": {
        "colab": {
          "base_uri": "https://localhost:8080/"
        },
        "id": "hCZU-Q41abpW",
        "outputId": "8cc9f18a-9ea4-45c4-86da-9c92fa10347e"
      },
      "execution_count": 29,
      "outputs": [
        {
          "output_type": "stream",
          "name": "stdout",
          "text": [
            "<div class=\"feed-post-body\"><div class=\"feed-post-header\"></div><div class=\"feed-post-body-title gui-color-primary gui-color-hover\"><div class=\"_evt\"><h2><a class=\"feed-post-link gui-color-primary gui-color-hover\" href=\"https://g1.globo.com/politica/blog/natuza-nery/post/2024/11/22/indiciamento-na-tentativa-de-golpe-e-o-mais-problematico-para-bolsonaro-e-situacao-do-ex-presidente-piora-ainda-mais.ghtml\"><p elementtiming=\"text-ssr\">NATUZA: PF coloca Bolsonaro como articulador do golpe</p></a></h2></div></div><div class=\"feed-media-wrapper\"><a class=\"feed-post-figure-link gui-image-hover\" href=\"https://g1.globo.com/politica/blog/natuza-nery/post/2024/11/22/indiciamento-na-tentativa-de-golpe-e-o-mais-problematico-para-bolsonaro-e-situacao-do-ex-presidente-piora-ainda-mais.ghtml\"><div class=\"bstn-fd-item-cover\"><picture class=\"bstn-fd-cover-picture\"><img alt=\"NATUZA: PF coloca Bolsonaro como articulador do golpe - Foto: (REUTERS/Adriano Machado)\" class=\"bstn-fd-picture-image\" elementtiming=\"image-ssr\" loading=\"lazy\" sizes=\"(min-width: 540px) 50vw, (min-width: 900px) 30vw, 100vw\" src=\"https://s2-g1.glbimg.com/ThIi5EbUfQaqZhh7dk_IesPdQ_o=/0x384:3671x2449/540x304/smart/filters:max_age(3600)/https://i.s3.glbimg.com/v1/AUTH_59edd422c0c84a879bd37670ae4f538a/internal_photos/bs/2024/2/7/AeHtBgQtCJs7SCMbDpEA/2024-02-08t220137z-2-lynxmpek170y3-rtroptp-4-brazil-election.jpg\" srcset=\"https://s2-g1.glbimg.com/ThIi5EbUfQaqZhh7dk_IesPdQ_o=/0x384:3671x2449/540x304/smart/filters:max_age(3600)/https://i.s3.glbimg.com/v1/AUTH_59edd422c0c84a879bd37670ae4f538a/internal_photos/bs/2024/2/7/AeHtBgQtCJs7SCMbDpEA/2024-02-08t220137z-2-lynxmpek170y3-rtroptp-4-brazil-election.jpg 540w,https://s2-g1.glbimg.com/L-ik932ru4m5EBpdCnKZwJztYUE=/0x384:3671x2449/810x456/smart/filters:max_age(3600)/https://i.s3.glbimg.com/v1/AUTH_59edd422c0c84a879bd37670ae4f538a/internal_photos/bs/2024/2/7/AeHtBgQtCJs7SCMbDpEA/2024-02-08t220137z-2-lynxmpek170y3-rtroptp-4-brazil-election.jpg 810w,https://s2-g1.glbimg.com/v8NpxhZXRNXn8MTvy8eqzArornI=/0x384:3671x2449/1080x608/smart/filters:max_age(3600)/https://i.s3.glbimg.com/v1/AUTH_59edd422c0c84a879bd37670ae4f538a/internal_photos/bs/2024/2/7/AeHtBgQtCJs7SCMbDpEA/2024-02-08t220137z-2-lynxmpek170y3-rtroptp-4-brazil-election.jpg 1080w\" title=\"NATUZA: PF coloca Bolsonaro como articulador do golpe - Foto: (REUTERS/Adriano Machado)\"/></picture></div></a></div><div class=\"feed-post-metadata\"><span class=\"feed-post-datetime\">Há 2 horas</span><span class=\"feed-post-metadata-section\"> Blog da Natuza Nery </span></div><div class=\"bstn-related\"><ul class=\"bstn-relateditems\"><li class=\"bstn-relateditem\"><div class=\"bstn-fd-relatedtext\"><a class=\"gui-color-primary gui-color-hover feed-post-body-title bstn-relatedtext\" href=\"https://g1.globo.com/politica/blog/andreia-sadi/post/2024/11/22/golpe-codigo-penal-preve-punicao-mesmo-que-crime-nao-tenha-sido-consumado.ghtml\">SADI: golpe só não ocorreu por fator externo, avalia STF</a><div class=\"feed-post-metadata\"><span class=\"feed-post-datetime\">Há 2 horas</span></div></div></li><li class=\"bstn-relateditem\"><div class=\"bstn-fd-relatedtext\"><a class=\"gui-color-primary gui-color-hover feed-post-body-title bstn-relatedtext\" href=\"https://g1.globo.com/podcast/o-assunto/noticia/2024/11/22/o-assunto-1351-tentativa-de-golpe-bolsonaro-e-militares-indiciados.ghtml\">🎧 O ASSUNTO: inquérito é o mais complicado para Bolsonaro</a><div class=\"feed-post-metadata\"><span class=\"feed-post-datetime\">Há 2 horas</span></div></div></li></ul></div></div>\n",
            "<div class=\"feed-post-body\"><div class=\"feed-post-header\"></div><div class=\"feed-post-body-title gui-color-primary gui-color-hover\"><div class=\"_evt\"><h2><a class=\"feed-post-link gui-color-primary gui-color-hover\" href=\"https://g1.globo.com/politica/noticia/2024/11/22/tentativa-de-golpe-entenda-o-que-pode-acontecer-com-militares-indiciados.ghtml\"><p elementtiming=\"text-ssr\">Heleno, Braga Netto: o que pode acontecer com militares indiciados </p></a></h2></div></div><div class=\"feed-media-wrapper\"><a class=\"feed-post-figure-link gui-image-hover\" href=\"https://g1.globo.com/politica/noticia/2024/11/22/tentativa-de-golpe-entenda-o-que-pode-acontecer-com-militares-indiciados.ghtml\"><div class=\"bstn-fd-item-cover\"><picture class=\"bstn-fd-cover-picture\"><img alt=\"Heleno, Braga Netto: o que pode acontecer com militares indiciados  - Foto: (Evaristo Sa/AFP)\" class=\"bstn-fd-picture-image\" elementtiming=\"image-ssr\" loading=\"lazy\" sizes=\"(min-width: 540px) 50vw, (min-width: 900px) 30vw, 100vw\" src=\"https://s2-g1.glbimg.com/48ivpgLtfp9QaCc8yehvW0Cazj4=/0x0:562x316/540x304/smart/filters:max_age(3600)/https://i.s3.glbimg.com/v1/AUTH_59edd422c0c84a879bd37670ae4f538a/internal_photos/bs/2024/A/Q/2AVgRKRSKm4sqs4Ll29w/fotojet-2024-11-22t063031.857.jpg\" srcset=\"https://s2-g1.glbimg.com/48ivpgLtfp9QaCc8yehvW0Cazj4=/0x0:562x316/540x304/smart/filters:max_age(3600)/https://i.s3.glbimg.com/v1/AUTH_59edd422c0c84a879bd37670ae4f538a/internal_photos/bs/2024/A/Q/2AVgRKRSKm4sqs4Ll29w/fotojet-2024-11-22t063031.857.jpg 540w,https://s2-g1.glbimg.com/Zd8GAf6fGAJiThSTmIryB-7khU8=/0x0:562x316/810x456/smart/filters:max_age(3600)/https://i.s3.glbimg.com/v1/AUTH_59edd422c0c84a879bd37670ae4f538a/internal_photos/bs/2024/A/Q/2AVgRKRSKm4sqs4Ll29w/fotojet-2024-11-22t063031.857.jpg 810w,https://s2-g1.glbimg.com/BIx-dWQkLIO8V7ot7jmHgHlantg=/0x0:562x316/1080x608/smart/filters:max_age(3600)/https://i.s3.glbimg.com/v1/AUTH_59edd422c0c84a879bd37670ae4f538a/internal_photos/bs/2024/A/Q/2AVgRKRSKm4sqs4Ll29w/fotojet-2024-11-22t063031.857.jpg 1080w\" title=\"Heleno, Braga Netto: o que pode acontecer com militares indiciados  - Foto: (Evaristo Sa/AFP)\"/></picture></div></a></div><div class=\"feed-post-metadata\"><span class=\"feed-post-datetime\">Há 7 horas</span><span class=\"feed-post-metadata-section\"> Política </span></div><div class=\"bstn-related\"><ul class=\"bstn-relateditems\"><li class=\"bstn-relateditem\"><div class=\"bstn-fd-relatedtext\"><a class=\"gui-color-primary gui-color-hover feed-post-body-title bstn-relatedtext\" href=\"https://g1.globo.com/politica/noticia/2024/11/21/em-relatorio-pf-aponta-6-nucleos-de-golpistas-que-se-articularam-para-derrubar-o-estado-democratico-de-direito.ghtml\">Relatório da PF aponta 6 núcleos golpistas; veja lista</a><div class=\"feed-post-metadata\"><span class=\"feed-post-datetime\">Há 7 horas</span></div></div></li><li class=\"bstn-relateditem\"><div class=\"bstn-fd-relatedtext\"><a class=\"gui-color-primary gui-color-hover feed-post-body-title bstn-relatedtext\" href=\"https://g1.globo.com/politica/noticia/2024/11/21/pf-indicia-37-no-inquerito-do-golpe-de-estado-o-que-dizem-os-citados.ghtml\">O que que dizem os indiciados</a><div class=\"feed-post-metadata\"><span class=\"feed-post-datetime\">Há 7 horas</span></div></div></li></ul></div></div>\n",
            "<div class=\"feed-post-body\"><div class=\"feed-post-header\"></div><div class=\"feed-post-body-title gui-color-primary gui-color-hover\"><div class=\"_evt\"><h2><a class=\"feed-post-link gui-color-primary gui-color-hover\"><p elementtiming=\"text-ssr\">Inquérito do golpe</p></a></h2></div></div><div class=\"feed-post-metadata\"><span class=\"feed-post-datetime\">Há 2 horas</span></div></div>\n",
            "<div class=\"feed-post-body\"><div class=\"feed-post-header with-post-chapeu\"><span class=\"feed-post-header-chapeu\">Contas públicas</span></div><div class=\"feed-post-body-title gui-color-primary gui-color-hover\"><div class=\"_evt\"><h2><a class=\"feed-post-link gui-color-primary gui-color-hover\" href=\"https://g1.globo.com/economia/noticia/2024/11/22/contas-publicas-governo-deve-anunciar-novo-bloqueio-no-orcamento-de-2024-nesta-sexta.ghtml\"><p elementtiming=\"text-ssr\">Governo deve anunciar hoje novo bloqueio no Orçamento</p></a></h2></div></div><div class=\"feed-media-wrapper\"><a class=\"feed-post-figure-link gui-image-hover\" href=\"https://g1.globo.com/economia/noticia/2024/11/22/contas-publicas-governo-deve-anunciar-novo-bloqueio-no-orcamento-de-2024-nesta-sexta.ghtml\"><div class=\"bstn-fd-item-cover\"><picture class=\"bstn-fd-cover-picture\"><img alt=\"Governo deve anunciar hoje novo bloqueio no Orçamento - Foto: (Reuters)\" class=\"bstn-fd-picture-image\" elementtiming=\"image-ssr\" loading=\"lazy\" sizes=\"(min-width: 540px) 50vw, (min-width: 900px) 30vw, 100vw\" src=\"https://s2-g1.glbimg.com/ku_kb3GxUHdo19ePAuARs3nXWZM=/0x0:800x450/540x304/smart/filters:max_age(3600)/https://i.s3.glbimg.com/v1/AUTH_59edd422c0c84a879bd37670ae4f538a/internal_photos/bs/2023/5/G/JkwMjhScqNkKFW8vYjDA/6.jpeg\" srcset=\"https://s2-g1.glbimg.com/ku_kb3GxUHdo19ePAuARs3nXWZM=/0x0:800x450/540x304/smart/filters:max_age(3600)/https://i.s3.glbimg.com/v1/AUTH_59edd422c0c84a879bd37670ae4f538a/internal_photos/bs/2023/5/G/JkwMjhScqNkKFW8vYjDA/6.jpeg 540w,https://s2-g1.glbimg.com/LecZTcsFV4q9DPXYW0Z4Z0H-TCg=/0x0:800x450/810x456/smart/filters:max_age(3600)/https://i.s3.glbimg.com/v1/AUTH_59edd422c0c84a879bd37670ae4f538a/internal_photos/bs/2023/5/G/JkwMjhScqNkKFW8vYjDA/6.jpeg 810w,https://s2-g1.glbimg.com/GSadWEdi4jDqNGLeQz_3T0qVPik=/0x0:800x450/1080x608/smart/filters:max_age(3600)/https://i.s3.glbimg.com/v1/AUTH_59edd422c0c84a879bd37670ae4f538a/internal_photos/bs/2023/5/G/JkwMjhScqNkKFW8vYjDA/6.jpeg 1080w\" title=\"Governo deve anunciar hoje novo bloqueio no Orçamento - Foto: (Reuters)\"/></picture></div></a></div><div class=\"feed-post-metadata\"><span class=\"feed-post-datetime\">Há 7 horas</span><span class=\"feed-post-metadata-section\"> Economia </span></div></div>\n",
            "<div class=\"feed-post-body\"><div class=\"feed-post-header with-post-chapeu\"><span class=\"feed-post-header-chapeu\">Direito trabalhista</span></div><div class=\"feed-post-body-title gui-color-primary gui-color-hover\"><div class=\"_evt\"><h2><a class=\"feed-post-link gui-color-primary gui-color-hover\" href=\"https://g1.globo.com/economia/educacao-financeira/noticia/2024/11/22/como-surgiu-o-13-salario-e-qual-a-importancia-de-enxerga-lo-como-um-direito-e-nao-um-bonus.ghtml\"><p elementtiming=\"text-ssr\">Não é um bônus! Relembre como surgiu o 13° salário no Brasil</p></a></h2></div></div><div class=\"feed-media-wrapper\"><a class=\"feed-post-figure-link gui-image-hover\" href=\"https://g1.globo.com/economia/educacao-financeira/noticia/2024/11/22/como-surgiu-o-13-salario-e-qual-a-importancia-de-enxerga-lo-como-um-direito-e-nao-um-bonus.ghtml\"><div class=\"bstn-fd-item-cover\"><picture class=\"bstn-fd-cover-picture\"><img alt=\"Não é um bônus! Relembre como surgiu o 13° salário no Brasil\" class=\"bstn-fd-picture-image\" elementtiming=\"image-ssr\" loading=\"lazy\" sizes=\"(min-width: 540px) 50vw, (min-width: 900px) 30vw, 100vw\" src=\"https://s2-g1.glbimg.com/BfMA2Rr9obrsP9UrhNCkjLRszS4=/0x0:5184x2916/540x304/smart/filters:max_age(3600)/https://i.s3.glbimg.com/v1/AUTH_59edd422c0c84a879bd37670ae4f538a/internal_photos/bs/2024/l/3/9KETPSQwuEsBZiOqm8eQ/realdinheiro-moeda-1310202270.jpg\" srcset=\"https://s2-g1.glbimg.com/BfMA2Rr9obrsP9UrhNCkjLRszS4=/0x0:5184x2916/540x304/smart/filters:max_age(3600)/https://i.s3.glbimg.com/v1/AUTH_59edd422c0c84a879bd37670ae4f538a/internal_photos/bs/2024/l/3/9KETPSQwuEsBZiOqm8eQ/realdinheiro-moeda-1310202270.jpg 540w,https://s2-g1.glbimg.com/PSHONE-IbpPR-vQ1qppk9aZgvHU=/0x0:5184x2916/810x456/smart/filters:max_age(3600)/https://i.s3.glbimg.com/v1/AUTH_59edd422c0c84a879bd37670ae4f538a/internal_photos/bs/2024/l/3/9KETPSQwuEsBZiOqm8eQ/realdinheiro-moeda-1310202270.jpg 810w,https://s2-g1.glbimg.com/GNYPkTQnWoK-2d4nx7VJn-W5Qrc=/0x0:5184x2916/1080x608/smart/filters:max_age(3600)/https://i.s3.glbimg.com/v1/AUTH_59edd422c0c84a879bd37670ae4f538a/internal_photos/bs/2024/l/3/9KETPSQwuEsBZiOqm8eQ/realdinheiro-moeda-1310202270.jpg 1080w\" title=\"Não é um bônus! Relembre como surgiu o 13° salário no Brasil\"/></picture></div></a></div><div class=\"feed-post-metadata\"><span class=\"feed-post-datetime\">Há 1 hora</span><span class=\"feed-post-metadata-section\"> Educação Financeira </span></div><div class=\"bstn-related\"><ul class=\"bstn-relateditems\"><li class=\"bstn-relateditem\"><div class=\"bstn-fd-relatedtext\"><a class=\"gui-color-primary gui-color-hover feed-post-body-title bstn-relatedtext\" href=\"https://g1.globo.com/jornal-nacional/noticia/2024/11/21/preco-das-frutas-sobe-muito-acima-da-inflacao-e-incomoda-consumidores.ghtml\">Preço das frutas sobe muito acima da inflação</a><div class=\"feed-post-metadata\"><span class=\"feed-post-datetime\">Há 1 hora</span></div></div></li><li class=\"bstn-relateditem\"><div class=\"bstn-fd-relatedtext\"><a class=\"gui-color-primary gui-color-hover feed-post-body-title bstn-relatedtext\" href=\"https://g1.globo.com/economia/imposto-de-renda/noticia/2024/11/22/imposto-de-renda-2024-receita-divulga-lote-residual-da-restituicao-veja-como-consultar.ghtml\">Receita divulga hoje 2º lote residual da restituição</a><div class=\"feed-post-metadata\"><span class=\"feed-post-datetime\">Há 1 hora</span></div></div></li></ul></div></div>\n",
            "<div class=\"feed-post-body\"><div class=\"feed-post-header with-post-chapeu\"><span class=\"feed-post-header-chapeu\">Blog da Sandra Cohen </span></div><div class=\"feed-post-body-title gui-color-primary gui-color-hover\"><div class=\"_evt\"><h2><a class=\"feed-post-link gui-color-primary gui-color-hover\" href=\"https://g1.globo.com/mundo/blog/sandra-cohen/post/2024/11/22/que-impacto-tera-para-netanyahu-o-mandado-de-prisao-emitido-pelo-tpi.ghtml\"><p elementtiming=\"text-ssr\">Qual a chance de Netanyahu ser preso (e como Trump pode influenciar)</p></a></h2></div></div><div class=\"feed-media-wrapper\"><a class=\"feed-post-figure-link gui-image-hover\" href=\"https://g1.globo.com/mundo/blog/sandra-cohen/post/2024/11/22/que-impacto-tera-para-netanyahu-o-mandado-de-prisao-emitido-pelo-tpi.ghtml\"><div class=\"bstn-fd-item-cover\"><picture class=\"bstn-fd-cover-picture\"><img alt=\"Qual a chance de Netanyahu ser preso (e como Trump pode influenciar) - Foto: (Reuters/Amir Cohen/File Photo)\" class=\"bstn-fd-picture-image\" elementtiming=\"image-ssr\" loading=\"lazy\" sizes=\"(min-width: 540px) 50vw, (min-width: 900px) 30vw, 100vw\" src=\"https://s2-g1.glbimg.com/zFrbT4YH5oEa1egnHC1Zahyc4S8=/985x367:4629x2417/540x304/smart/filters:max_age(3600)/https://i.s3.glbimg.com/v1/AUTH_59edd422c0c84a879bd37670ae4f538a/internal_photos/bs/2024/t/s/rqxh3GSWelnrEcL6jzjQ/2024-11-18t172209z-457287034-rc2s7bachiek-rtrmadp-3-israel-palestinians-iran-netanyahu.jpg\" srcset=\"https://s2-g1.glbimg.com/zFrbT4YH5oEa1egnHC1Zahyc4S8=/985x367:4629x2417/540x304/smart/filters:max_age(3600)/https://i.s3.glbimg.com/v1/AUTH_59edd422c0c84a879bd37670ae4f538a/internal_photos/bs/2024/t/s/rqxh3GSWelnrEcL6jzjQ/2024-11-18t172209z-457287034-rc2s7bachiek-rtrmadp-3-israel-palestinians-iran-netanyahu.jpg 540w,https://s2-g1.glbimg.com/-9PEBYOnyeNDOuI4UH7MNT2e-Eo=/985x367:4629x2417/810x456/smart/filters:max_age(3600)/https://i.s3.glbimg.com/v1/AUTH_59edd422c0c84a879bd37670ae4f538a/internal_photos/bs/2024/t/s/rqxh3GSWelnrEcL6jzjQ/2024-11-18t172209z-457287034-rc2s7bachiek-rtrmadp-3-israel-palestinians-iran-netanyahu.jpg 810w,https://s2-g1.glbimg.com/xpo0c-QGjf9nezE4RsJvTPymviE=/985x367:4629x2417/1080x608/smart/filters:max_age(3600)/https://i.s3.glbimg.com/v1/AUTH_59edd422c0c84a879bd37670ae4f538a/internal_photos/bs/2024/t/s/rqxh3GSWelnrEcL6jzjQ/2024-11-18t172209z-457287034-rc2s7bachiek-rtrmadp-3-israel-palestinians-iran-netanyahu.jpg 1080w\" title=\"Qual a chance de Netanyahu ser preso (e como Trump pode influenciar) - Foto: (Reuters/Amir Cohen/File Photo)\"/></picture></div></a></div><div class=\"feed-post-metadata\"><span class=\"feed-post-datetime\">Há 1 hora</span><span class=\"feed-post-metadata-section\"> Blog da Sandra Cohen  </span></div><div class=\"bstn-related\"><ul class=\"bstn-relateditems\"><li class=\"bstn-relateditem\"><div class=\"bstn-fd-relatedtext\"><a class=\"gui-color-primary gui-color-hover feed-post-body-title bstn-relatedtext\" href=\"https://g1.globo.com/mundo/noticia/2024/11/22/orban-anuncia-que-convidara-netanyahu-a-hungria-para-desafiar-ordem-de-prisao-do-tpi.ghtml\">Premiê da Hungria quer 'desafiar' ordem de prisão contra Netanyahu</a><div class=\"feed-post-metadata\"><span class=\"feed-post-datetime\">Há 1 hora</span></div></div></li></ul></div></div>\n",
            "<div class=\"feed-post-body\"><div class=\"feed-post-header with-post-chapeu\"><span class=\"feed-post-header-chapeu\">Tiro à queima-roupa em SP</span></div><div class=\"feed-post-body-title gui-color-primary gui-color-hover\"><div class=\"_evt\"><h2><a class=\"feed-post-link gui-color-primary gui-color-hover\" href=\"https://g1.globo.com/sp/sao-paulo/noticia/2024/11/22/tarcisio-lamenta-morte-de-estudante-de-medicina-e-diz-que-abusos-nunca-vao-ser-tolerados-e-serao-severamente-punidos.ghtml\"><p elementtiming=\"text-ssr\">Cobrado por pais, Tarcísio lamenta morte de estudante baleado por PM</p></a></h2></div></div><div class=\"feed-media-wrapper\"><a class=\"feed-post-figure-link gui-image-hover\" href=\"https://g1.globo.com/sp/sao-paulo/noticia/2024/11/22/tarcisio-lamenta-morte-de-estudante-de-medicina-e-diz-que-abusos-nunca-vao-ser-tolerados-e-serao-severamente-punidos.ghtml\"><div class=\"bstn-fd-item-cover\"><picture class=\"bstn-fd-cover-picture\"><img alt=\"Cobrado por pais, Tarcísio lamenta morte de estudante baleado por PM - Foto: (Reprodução)\" class=\"bstn-fd-picture-image\" elementtiming=\"image-ssr\" loading=\"lazy\" sizes=\"(min-width: 540px) 50vw, (min-width: 900px) 30vw, 100vw\" src=\"https://s2-g1.glbimg.com/FLhfCqe0fkFLUpd1IcbI2t138mU=/0x0:562x316/540x304/smart/filters:max_age(3600)/https://i.s3.glbimg.com/v1/AUTH_59edd422c0c84a879bd37670ae4f538a/internal_photos/bs/2024/g/A/U10z8pTYu9NkjjUlOBvA/fotojet-2024-11-21t061554.310.jpg\" srcset=\"https://s2-g1.glbimg.com/FLhfCqe0fkFLUpd1IcbI2t138mU=/0x0:562x316/540x304/smart/filters:max_age(3600)/https://i.s3.glbimg.com/v1/AUTH_59edd422c0c84a879bd37670ae4f538a/internal_photos/bs/2024/g/A/U10z8pTYu9NkjjUlOBvA/fotojet-2024-11-21t061554.310.jpg 540w,https://s2-g1.glbimg.com/w1nXe4lpFW4HKczSb_alOfxUCx4=/0x0:562x316/810x456/smart/filters:max_age(3600)/https://i.s3.glbimg.com/v1/AUTH_59edd422c0c84a879bd37670ae4f538a/internal_photos/bs/2024/g/A/U10z8pTYu9NkjjUlOBvA/fotojet-2024-11-21t061554.310.jpg 810w,https://s2-g1.glbimg.com/LgRkJfuf5FKrsIj9LLpGkBiPrXo=/0x0:562x316/1080x608/smart/filters:max_age(3600)/https://i.s3.glbimg.com/v1/AUTH_59edd422c0c84a879bd37670ae4f538a/internal_photos/bs/2024/g/A/U10z8pTYu9NkjjUlOBvA/fotojet-2024-11-21t061554.310.jpg 1080w\" title=\"Cobrado por pais, Tarcísio lamenta morte de estudante baleado por PM - Foto: (Reprodução)\"/></picture></div></a></div><div class=\"feed-post-metadata\"><span class=\"feed-post-datetime\">Há 49 minutos</span><span class=\"feed-post-metadata-section\"> São Paulo </span></div><div class=\"bstn-related\"><ul class=\"bstn-relateditems\"><li class=\"bstn-relateditem\"><div class=\"bstn-fd-relatedtext\"><a class=\"gui-color-primary gui-color-hover feed-post-body-title bstn-relatedtext\" href=\"https://g1.globo.com/sp/sao-paulo/noticia/2024/11/22/mortes-pela-pm-de-sp-aumentam-46percent-em-2024-segundo-ano-da-gestao-tarcisio.ghtml\">Mortes pela PM de SP aumentam 46% em 2024</a><div class=\"feed-post-metadata\"><span class=\"feed-post-datetime\">Há 49 minutos</span></div></div></li></ul></div></div>\n",
            "<div class=\"feed-post-body\"><div class=\"feed-post-header with-post-chapeu\"><span class=\"feed-post-header-chapeu\">Atingida na barriga</span></div><div class=\"feed-post-body-title gui-color-primary gui-color-hover\"><div class=\"_evt\"><h2><a class=\"feed-post-link gui-color-primary gui-color-hover\" href=\"https://g1.globo.com/rj/rio-de-janeiro/noticia/2024/11/22/mulher-e-baleada-dentro-do-carro-no-meier.ghtml\"><p elementtiming=\"text-ssr\">Mulher é baleada dentro de carro no Rio; família acusa PMs por disparos</p></a></h2></div></div><div class=\"feed-media-wrapper\"><a class=\"feed-post-figure-link gui-image-hover\" href=\"https://g1.globo.com/rj/rio-de-janeiro/noticia/2024/11/22/mulher-e-baleada-dentro-do-carro-no-meier.ghtml\"><div class=\"bstn-fd-item-cover\"><picture class=\"bstn-fd-cover-picture\"><img alt=\"Mulher é baleada dentro de carro no Rio; família acusa PMs por disparos - Foto: (Reprodução/ TV Globo)\" class=\"bstn-fd-picture-image\" elementtiming=\"image-ssr\" loading=\"lazy\" sizes=\"(min-width: 540px) 50vw, (min-width: 900px) 30vw, 100vw\" src=\"https://s2-g1.glbimg.com/QWG0Shjgg7lM1uG9JyKVCXlSau8=/0x0:1920x1080/540x304/smart/filters:max_age(3600)/https://i.s3.glbimg.com/v1/AUTH_59edd422c0c84a879bd37670ae4f538a/internal_photos/bs/2024/Q/P/JLIzRcQxawFmgKI1EqVQ/bdrj-mulher-1-.jpeg\" srcset=\"https://s2-g1.glbimg.com/QWG0Shjgg7lM1uG9JyKVCXlSau8=/0x0:1920x1080/540x304/smart/filters:max_age(3600)/https://i.s3.glbimg.com/v1/AUTH_59edd422c0c84a879bd37670ae4f538a/internal_photos/bs/2024/Q/P/JLIzRcQxawFmgKI1EqVQ/bdrj-mulher-1-.jpeg 540w,https://s2-g1.glbimg.com/t_9c91mRvnKsXuGtJw9Dzuxm5K8=/0x0:1920x1080/810x456/smart/filters:max_age(3600)/https://i.s3.glbimg.com/v1/AUTH_59edd422c0c84a879bd37670ae4f538a/internal_photos/bs/2024/Q/P/JLIzRcQxawFmgKI1EqVQ/bdrj-mulher-1-.jpeg 810w,https://s2-g1.glbimg.com/ud6oqMppT2cSUNjev2XBoOfaFbU=/0x0:1920x1080/1080x608/smart/filters:max_age(3600)/https://i.s3.glbimg.com/v1/AUTH_59edd422c0c84a879bd37670ae4f538a/internal_photos/bs/2024/Q/P/JLIzRcQxawFmgKI1EqVQ/bdrj-mulher-1-.jpeg 1080w\" title=\"Mulher é baleada dentro de carro no Rio; família acusa PMs por disparos - Foto: (Reprodução/ TV Globo)\"/></picture></div></a></div><div class=\"feed-post-metadata\"><span class=\"feed-post-datetime\">Há 22 minutos</span><span class=\"feed-post-metadata-section\"> Rio de Janeiro </span></div></div>\n",
            "<div class=\"feed-post-body\"><div class=\"feed-post-header\"></div><div class=\"feed-post-body-title gui-color-primary gui-color-hover\"><div class=\"_evt\"><h2><a class=\"feed-post-link gui-color-primary gui-color-hover\"><p elementtiming=\"text-ssr\">Vídeos curtos do g1</p></a></h2></div></div><div class=\"feed-post-metadata\"><span class=\"feed-post-datetime\">Há 6 meses</span></div></div>\n",
            "[INFO] 2024-11-22 10:53:53 - Dados coletados com sucesso na URL: https://g1.globo.com;\n",
            "[INFO] 2024-11-22 10:53:53 - Os resultados foram salvos no arquivo: ./corpora/g1_noticias.csv.\n"
          ]
        }
      ]
    },
    {
      "cell_type": "code",
      "source": [
        "# Carrega os dados do arquivo csv especificados no DataFrame 'noticias_g1_df'\n",
        "noticias_g1_df = pd.read_csv(noticias_caminho)\n",
        "noticias_g1_df.head(10)"
      ],
      "metadata": {
        "colab": {
          "base_uri": "https://localhost:8080/",
          "height": 332
        },
        "id": "dnSjLYNXdN5W",
        "outputId": "7c76385a-ad1c-4b83-eeb2-4c2eaed6b735"
      },
      "execution_count": 30,
      "outputs": [
        {
          "output_type": "execute_result",
          "data": {
            "text/plain": [
              "                                              titulo  subtitulo  \\\n",
              "0  NATUZA: PF coloca Bolsonaro como articulador d...        NaN   \n",
              "1  Heleno, Braga Netto: o que pode acontecer com ...        NaN   \n",
              "2                                 Inquérito do golpe        NaN   \n",
              "3  Governo deve anunciar hoje novo bloqueio no Or...        NaN   \n",
              "4  Não é um bônus! Relembre como surgiu o 13° sal...        NaN   \n",
              "5  Qual a chance de Netanyahu ser preso (e como T...        NaN   \n",
              "6  Cobrado por pais, Tarcísio lamenta morte de es...        NaN   \n",
              "7  Mulher é baleada dentro de carro no Rio; famíl...        NaN   \n",
              "8                                Vídeos curtos do g1        NaN   \n",
              "\n",
              "                                                link  \n",
              "0  https://g1.globo.com/politica/blog/natuza-nery...  \n",
              "1  https://g1.globo.com/politica/noticia/2024/11/...  \n",
              "2                                                NaN  \n",
              "3  https://g1.globo.com/economia/noticia/2024/11/...  \n",
              "4  https://g1.globo.com/economia/educacao-finance...  \n",
              "5  https://g1.globo.com/mundo/blog/sandra-cohen/p...  \n",
              "6  https://g1.globo.com/sp/sao-paulo/noticia/2024...  \n",
              "7  https://g1.globo.com/rj/rio-de-janeiro/noticia...  \n",
              "8                                                NaN  "
            ],
            "text/html": [
              "\n",
              "  <div id=\"df-2379e92c-23e9-4b51-a8a2-649bc3b46c7d\" class=\"colab-df-container\">\n",
              "    <div>\n",
              "<style scoped>\n",
              "    .dataframe tbody tr th:only-of-type {\n",
              "        vertical-align: middle;\n",
              "    }\n",
              "\n",
              "    .dataframe tbody tr th {\n",
              "        vertical-align: top;\n",
              "    }\n",
              "\n",
              "    .dataframe thead th {\n",
              "        text-align: right;\n",
              "    }\n",
              "</style>\n",
              "<table border=\"1\" class=\"dataframe\">\n",
              "  <thead>\n",
              "    <tr style=\"text-align: right;\">\n",
              "      <th></th>\n",
              "      <th>titulo</th>\n",
              "      <th>subtitulo</th>\n",
              "      <th>link</th>\n",
              "    </tr>\n",
              "  </thead>\n",
              "  <tbody>\n",
              "    <tr>\n",
              "      <th>0</th>\n",
              "      <td>NATUZA: PF coloca Bolsonaro como articulador d...</td>\n",
              "      <td>NaN</td>\n",
              "      <td>https://g1.globo.com/politica/blog/natuza-nery...</td>\n",
              "    </tr>\n",
              "    <tr>\n",
              "      <th>1</th>\n",
              "      <td>Heleno, Braga Netto: o que pode acontecer com ...</td>\n",
              "      <td>NaN</td>\n",
              "      <td>https://g1.globo.com/politica/noticia/2024/11/...</td>\n",
              "    </tr>\n",
              "    <tr>\n",
              "      <th>2</th>\n",
              "      <td>Inquérito do golpe</td>\n",
              "      <td>NaN</td>\n",
              "      <td>NaN</td>\n",
              "    </tr>\n",
              "    <tr>\n",
              "      <th>3</th>\n",
              "      <td>Governo deve anunciar hoje novo bloqueio no Or...</td>\n",
              "      <td>NaN</td>\n",
              "      <td>https://g1.globo.com/economia/noticia/2024/11/...</td>\n",
              "    </tr>\n",
              "    <tr>\n",
              "      <th>4</th>\n",
              "      <td>Não é um bônus! Relembre como surgiu o 13° sal...</td>\n",
              "      <td>NaN</td>\n",
              "      <td>https://g1.globo.com/economia/educacao-finance...</td>\n",
              "    </tr>\n",
              "    <tr>\n",
              "      <th>5</th>\n",
              "      <td>Qual a chance de Netanyahu ser preso (e como T...</td>\n",
              "      <td>NaN</td>\n",
              "      <td>https://g1.globo.com/mundo/blog/sandra-cohen/p...</td>\n",
              "    </tr>\n",
              "    <tr>\n",
              "      <th>6</th>\n",
              "      <td>Cobrado por pais, Tarcísio lamenta morte de es...</td>\n",
              "      <td>NaN</td>\n",
              "      <td>https://g1.globo.com/sp/sao-paulo/noticia/2024...</td>\n",
              "    </tr>\n",
              "    <tr>\n",
              "      <th>7</th>\n",
              "      <td>Mulher é baleada dentro de carro no Rio; famíl...</td>\n",
              "      <td>NaN</td>\n",
              "      <td>https://g1.globo.com/rj/rio-de-janeiro/noticia...</td>\n",
              "    </tr>\n",
              "    <tr>\n",
              "      <th>8</th>\n",
              "      <td>Vídeos curtos do g1</td>\n",
              "      <td>NaN</td>\n",
              "      <td>NaN</td>\n",
              "    </tr>\n",
              "  </tbody>\n",
              "</table>\n",
              "</div>\n",
              "    <div class=\"colab-df-buttons\">\n",
              "\n",
              "  <div class=\"colab-df-container\">\n",
              "    <button class=\"colab-df-convert\" onclick=\"convertToInteractive('df-2379e92c-23e9-4b51-a8a2-649bc3b46c7d')\"\n",
              "            title=\"Convert this dataframe to an interactive table.\"\n",
              "            style=\"display:none;\">\n",
              "\n",
              "  <svg xmlns=\"http://www.w3.org/2000/svg\" height=\"24px\" viewBox=\"0 -960 960 960\">\n",
              "    <path d=\"M120-120v-720h720v720H120Zm60-500h600v-160H180v160Zm220 220h160v-160H400v160Zm0 220h160v-160H400v160ZM180-400h160v-160H180v160Zm440 0h160v-160H620v160ZM180-180h160v-160H180v160Zm440 0h160v-160H620v160Z\"/>\n",
              "  </svg>\n",
              "    </button>\n",
              "\n",
              "  <style>\n",
              "    .colab-df-container {\n",
              "      display:flex;\n",
              "      gap: 12px;\n",
              "    }\n",
              "\n",
              "    .colab-df-convert {\n",
              "      background-color: #E8F0FE;\n",
              "      border: none;\n",
              "      border-radius: 50%;\n",
              "      cursor: pointer;\n",
              "      display: none;\n",
              "      fill: #1967D2;\n",
              "      height: 32px;\n",
              "      padding: 0 0 0 0;\n",
              "      width: 32px;\n",
              "    }\n",
              "\n",
              "    .colab-df-convert:hover {\n",
              "      background-color: #E2EBFA;\n",
              "      box-shadow: 0px 1px 2px rgba(60, 64, 67, 0.3), 0px 1px 3px 1px rgba(60, 64, 67, 0.15);\n",
              "      fill: #174EA6;\n",
              "    }\n",
              "\n",
              "    .colab-df-buttons div {\n",
              "      margin-bottom: 4px;\n",
              "    }\n",
              "\n",
              "    [theme=dark] .colab-df-convert {\n",
              "      background-color: #3B4455;\n",
              "      fill: #D2E3FC;\n",
              "    }\n",
              "\n",
              "    [theme=dark] .colab-df-convert:hover {\n",
              "      background-color: #434B5C;\n",
              "      box-shadow: 0px 1px 3px 1px rgba(0, 0, 0, 0.15);\n",
              "      filter: drop-shadow(0px 1px 2px rgba(0, 0, 0, 0.3));\n",
              "      fill: #FFFFFF;\n",
              "    }\n",
              "  </style>\n",
              "\n",
              "    <script>\n",
              "      const buttonEl =\n",
              "        document.querySelector('#df-2379e92c-23e9-4b51-a8a2-649bc3b46c7d button.colab-df-convert');\n",
              "      buttonEl.style.display =\n",
              "        google.colab.kernel.accessAllowed ? 'block' : 'none';\n",
              "\n",
              "      async function convertToInteractive(key) {\n",
              "        const element = document.querySelector('#df-2379e92c-23e9-4b51-a8a2-649bc3b46c7d');\n",
              "        const dataTable =\n",
              "          await google.colab.kernel.invokeFunction('convertToInteractive',\n",
              "                                                    [key], {});\n",
              "        if (!dataTable) return;\n",
              "\n",
              "        const docLinkHtml = 'Like what you see? Visit the ' +\n",
              "          '<a target=\"_blank\" href=https://colab.research.google.com/notebooks/data_table.ipynb>data table notebook</a>'\n",
              "          + ' to learn more about interactive tables.';\n",
              "        element.innerHTML = '';\n",
              "        dataTable['output_type'] = 'display_data';\n",
              "        await google.colab.output.renderOutput(dataTable, element);\n",
              "        const docLink = document.createElement('div');\n",
              "        docLink.innerHTML = docLinkHtml;\n",
              "        element.appendChild(docLink);\n",
              "      }\n",
              "    </script>\n",
              "  </div>\n",
              "\n",
              "\n",
              "<div id=\"df-fa035fe4-81c7-451b-8fbe-016276664414\">\n",
              "  <button class=\"colab-df-quickchart\" onclick=\"quickchart('df-fa035fe4-81c7-451b-8fbe-016276664414')\"\n",
              "            title=\"Suggest charts\"\n",
              "            style=\"display:none;\">\n",
              "\n",
              "<svg xmlns=\"http://www.w3.org/2000/svg\" height=\"24px\"viewBox=\"0 0 24 24\"\n",
              "     width=\"24px\">\n",
              "    <g>\n",
              "        <path d=\"M19 3H5c-1.1 0-2 .9-2 2v14c0 1.1.9 2 2 2h14c1.1 0 2-.9 2-2V5c0-1.1-.9-2-2-2zM9 17H7v-7h2v7zm4 0h-2V7h2v10zm4 0h-2v-4h2v4z\"/>\n",
              "    </g>\n",
              "</svg>\n",
              "  </button>\n",
              "\n",
              "<style>\n",
              "  .colab-df-quickchart {\n",
              "      --bg-color: #E8F0FE;\n",
              "      --fill-color: #1967D2;\n",
              "      --hover-bg-color: #E2EBFA;\n",
              "      --hover-fill-color: #174EA6;\n",
              "      --disabled-fill-color: #AAA;\n",
              "      --disabled-bg-color: #DDD;\n",
              "  }\n",
              "\n",
              "  [theme=dark] .colab-df-quickchart {\n",
              "      --bg-color: #3B4455;\n",
              "      --fill-color: #D2E3FC;\n",
              "      --hover-bg-color: #434B5C;\n",
              "      --hover-fill-color: #FFFFFF;\n",
              "      --disabled-bg-color: #3B4455;\n",
              "      --disabled-fill-color: #666;\n",
              "  }\n",
              "\n",
              "  .colab-df-quickchart {\n",
              "    background-color: var(--bg-color);\n",
              "    border: none;\n",
              "    border-radius: 50%;\n",
              "    cursor: pointer;\n",
              "    display: none;\n",
              "    fill: var(--fill-color);\n",
              "    height: 32px;\n",
              "    padding: 0;\n",
              "    width: 32px;\n",
              "  }\n",
              "\n",
              "  .colab-df-quickchart:hover {\n",
              "    background-color: var(--hover-bg-color);\n",
              "    box-shadow: 0 1px 2px rgba(60, 64, 67, 0.3), 0 1px 3px 1px rgba(60, 64, 67, 0.15);\n",
              "    fill: var(--button-hover-fill-color);\n",
              "  }\n",
              "\n",
              "  .colab-df-quickchart-complete:disabled,\n",
              "  .colab-df-quickchart-complete:disabled:hover {\n",
              "    background-color: var(--disabled-bg-color);\n",
              "    fill: var(--disabled-fill-color);\n",
              "    box-shadow: none;\n",
              "  }\n",
              "\n",
              "  .colab-df-spinner {\n",
              "    border: 2px solid var(--fill-color);\n",
              "    border-color: transparent;\n",
              "    border-bottom-color: var(--fill-color);\n",
              "    animation:\n",
              "      spin 1s steps(1) infinite;\n",
              "  }\n",
              "\n",
              "  @keyframes spin {\n",
              "    0% {\n",
              "      border-color: transparent;\n",
              "      border-bottom-color: var(--fill-color);\n",
              "      border-left-color: var(--fill-color);\n",
              "    }\n",
              "    20% {\n",
              "      border-color: transparent;\n",
              "      border-left-color: var(--fill-color);\n",
              "      border-top-color: var(--fill-color);\n",
              "    }\n",
              "    30% {\n",
              "      border-color: transparent;\n",
              "      border-left-color: var(--fill-color);\n",
              "      border-top-color: var(--fill-color);\n",
              "      border-right-color: var(--fill-color);\n",
              "    }\n",
              "    40% {\n",
              "      border-color: transparent;\n",
              "      border-right-color: var(--fill-color);\n",
              "      border-top-color: var(--fill-color);\n",
              "    }\n",
              "    60% {\n",
              "      border-color: transparent;\n",
              "      border-right-color: var(--fill-color);\n",
              "    }\n",
              "    80% {\n",
              "      border-color: transparent;\n",
              "      border-right-color: var(--fill-color);\n",
              "      border-bottom-color: var(--fill-color);\n",
              "    }\n",
              "    90% {\n",
              "      border-color: transparent;\n",
              "      border-bottom-color: var(--fill-color);\n",
              "    }\n",
              "  }\n",
              "</style>\n",
              "\n",
              "  <script>\n",
              "    async function quickchart(key) {\n",
              "      const quickchartButtonEl =\n",
              "        document.querySelector('#' + key + ' button');\n",
              "      quickchartButtonEl.disabled = true;  // To prevent multiple clicks.\n",
              "      quickchartButtonEl.classList.add('colab-df-spinner');\n",
              "      try {\n",
              "        const charts = await google.colab.kernel.invokeFunction(\n",
              "            'suggestCharts', [key], {});\n",
              "      } catch (error) {\n",
              "        console.error('Error during call to suggestCharts:', error);\n",
              "      }\n",
              "      quickchartButtonEl.classList.remove('colab-df-spinner');\n",
              "      quickchartButtonEl.classList.add('colab-df-quickchart-complete');\n",
              "    }\n",
              "    (() => {\n",
              "      let quickchartButtonEl =\n",
              "        document.querySelector('#df-fa035fe4-81c7-451b-8fbe-016276664414 button');\n",
              "      quickchartButtonEl.style.display =\n",
              "        google.colab.kernel.accessAllowed ? 'block' : 'none';\n",
              "    })();\n",
              "  </script>\n",
              "</div>\n",
              "\n",
              "    </div>\n",
              "  </div>\n"
            ],
            "application/vnd.google.colaboratory.intrinsic+json": {
              "type": "dataframe",
              "variable_name": "noticias_g1_df",
              "summary": "{\n  \"name\": \"noticias_g1_df\",\n  \"rows\": 9,\n  \"fields\": [\n    {\n      \"column\": \"titulo\",\n      \"properties\": {\n        \"dtype\": \"string\",\n        \"num_unique_values\": 9,\n        \"samples\": [\n          \"Mulher \\u00e9 baleada dentro de carro no Rio; fam\\u00edlia acusa PMs por disparos\",\n          \"Heleno, Braga Netto: o que pode acontecer com militares indiciados \",\n          \"Qual a chance de Netanyahu ser preso (e como Trump pode influenciar)\"\n        ],\n        \"semantic_type\": \"\",\n        \"description\": \"\"\n      }\n    },\n    {\n      \"column\": \"subtitulo\",\n      \"properties\": {\n        \"dtype\": \"number\",\n        \"std\": null,\n        \"min\": null,\n        \"max\": null,\n        \"num_unique_values\": 0,\n        \"samples\": [],\n        \"semantic_type\": \"\",\n        \"description\": \"\"\n      }\n    },\n    {\n      \"column\": \"link\",\n      \"properties\": {\n        \"dtype\": \"string\",\n        \"num_unique_values\": 7,\n        \"samples\": [],\n        \"semantic_type\": \"\",\n        \"description\": \"\"\n      }\n    }\n  ]\n}"
            }
          },
          "metadata": {},
          "execution_count": 30
        }
      ]
    },
    {
      "cell_type": "code",
      "source": [],
      "metadata": {
        "id": "6bJhG0OugOMA"
      },
      "execution_count": null,
      "outputs": []
    }
  ]
}