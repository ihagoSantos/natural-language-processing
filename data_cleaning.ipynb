{
  "nbformat": 4,
  "nbformat_minor": 0,
  "metadata": {
    "colab": {
      "provenance": [],
      "authorship_tag": "ABX9TyMOuFU6JhDYmuy6Ef+258/9",
      "include_colab_link": true
    },
    "kernelspec": {
      "name": "python3",
      "display_name": "Python 3"
    },
    "language_info": {
      "name": "python"
    }
  },
  "cells": [
    {
      "cell_type": "markdown",
      "metadata": {
        "id": "view-in-github",
        "colab_type": "text"
      },
      "source": [
        "<a href=\"https://colab.research.google.com/github/ihagoSantos/natural-language-processing/blob/main/data_cleaning.ipynb\" target=\"_parent\"><img src=\"https://colab.research.google.com/assets/colab-badge.svg\" alt=\"Open In Colab\"/></a>"
      ]
    },
    {
      "cell_type": "code",
      "execution_count": 1,
      "metadata": {
        "colab": {
          "base_uri": "https://localhost:8080/"
        },
        "id": "63THZrva0RI1",
        "outputId": "e8a3a3d0-2ff2-4c39-e7e9-440d8354e647"
      },
      "outputs": [
        {
          "output_type": "stream",
          "name": "stdout",
          "text": [
            "Requirement already satisfied: beautifulsoup4==4.12.3 in /usr/local/lib/python3.10/dist-packages (4.12.3)\n",
            "Requirement already satisfied: soupsieve>1.2 in /usr/local/lib/python3.10/dist-packages (from beautifulsoup4==4.12.3) (2.6)\n",
            "Collecting pyspellchecker==0.8.1\n",
            "  Downloading pyspellchecker-0.8.1-py3-none-any.whl.metadata (9.4 kB)\n",
            "Downloading pyspellchecker-0.8.1-py3-none-any.whl (6.8 MB)\n",
            "\u001b[2K   \u001b[90m━━━━━━━━━━━━━━━━━━━━━━━━━━━━━━━━━━━━━━━━\u001b[0m \u001b[32m6.8/6.8 MB\u001b[0m \u001b[31m51.2 MB/s\u001b[0m eta \u001b[36m0:00:00\u001b[0m\n",
            "\u001b[?25hInstalling collected packages: pyspellchecker\n",
            "Successfully installed pyspellchecker-0.8.1\n"
          ]
        }
      ],
      "source": [
        "# Instalação de pacotes para limpeza e raspagem de dados\n",
        "!pip install beautifulsoup4==4.12.3\n",
        "!pip install pyspellchecker==0.8.1"
      ]
    },
    {
      "cell_type": "code",
      "source": [
        "# Funções utilitárias\n",
        "import datetime\n",
        "import sys\n",
        "\n",
        "def formata_msg(nivel, msg, componente=None):\n",
        "  \"\"\"\n",
        "  Formata uma mensagem de log incluindo o nível de severidade, timestamp, componente (opcional) e a mensagem.\n",
        "  Parâmetros:\n",
        "    - nível (str): Nível de severidade da mensagem(ex: 'INFO', 'ERROR', 'WARNING')\n",
        "    - msg (str): A mensagem de log propriamente dita\n",
        "    - componente (str, opcional): O componente ou módulo do sistema que gera a mensagem\n",
        "\n",
        "  Retorna:\n",
        "    - str: A mensagem formatada\n",
        "  \"\"\"\n",
        "  timestamp = datetime.datetime.now().strftime('%Y-%m-%d %H:%M:%S')\n",
        "  if componente:\n",
        "    return f'[{nivel}] {timestamp} - {componente}: {msg}'\n",
        "  else:\n",
        "    return f'[{nivel}] {timestamp}: {msg}'\n",
        ""
      ],
      "metadata": {
        "id": "MLdvHO1O0oaB"
      },
      "execution_count": 2,
      "outputs": []
    },
    {
      "cell_type": "code",
      "source": [
        "# Importação de módulos essenciais para funcionalidades do notebook\n",
        "from bs4 import BeautifulSoup\n",
        "from spellchecker import SpellChecker\n",
        "\n",
        "print(formata_msg('INFO', \"Bibliotecas importadas com sucesso!\"))"
      ],
      "metadata": {
        "colab": {
          "base_uri": "https://localhost:8080/"
        },
        "id": "M4MQLosI1Fjs",
        "outputId": "31bdef5a-3b1c-4ce4-846a-afa36a6191ef"
      },
      "execution_count": 4,
      "outputs": [
        {
          "output_type": "stream",
          "name": "stdout",
          "text": [
            "[INFO] 2024-11-26 09:42:04: Bibliotecas importadas com sucesso!\n"
          ]
        }
      ]
    },
    {
      "cell_type": "markdown",
      "source": [
        "# Remoção de caracteres não imprimiveis\n",
        "\n",
        "Caracteres não imprimiveis ou caracteres de controle, são fundamentais na codificação de textos, servindo para organizar e controlar a apresentação de dados sem gerar símbolos visíveis. Eles incluem **tabulações (\\t)**, **quebras de linhas (\\n)**, **retornos de carros (\\r)** e **tags HTML**, e são usados em disponsitivos e softwares para estruturar textos, controlar fluxos de dados e delimitar strings."
      ],
      "metadata": {
        "id": "q9FwERPg1ak-"
      }
    },
    {
      "cell_type": "code",
      "source": [
        "texto_exemplo = \"\"\"\n",
        "<div>\n",
        "  <p>\n",
        "    A marca do home imaturo 🧐 é \\t\\t querer morrer de maneira nobre por alguma causa 🧐, \\n\n",
        "    enquanto \\n\\n a marca do\\r home maduro é querer viver de maneira humide por uma \\n\n",
        "    causa 🧐.\n",
        "  </p>\n",
        "</div>\n",
        "\"\"\""
      ],
      "metadata": {
        "id": "ilZTcqv81UT2"
      },
      "execution_count": 19,
      "outputs": []
    },
    {
      "cell_type": "code",
      "source": [
        "soup = BeautifulSoup(texto_exemplo, \"html.parser\")\n",
        "print(\"Texto sem tags:\")\n",
        "texto_sem_tags = soup.get_text()\n",
        "print(f\"[{texto_sem_tags}]\")"
      ],
      "metadata": {
        "colab": {
          "base_uri": "https://localhost:8080/"
        },
        "id": "B82nQKvo20p6",
        "outputId": "9e686d1a-585f-43a5-d1e1-b577c55bfece"
      },
      "execution_count": 20,
      "outputs": [
        {
          "output_type": "stream",
          "name": "stdout",
          "text": [
            "Texto sem tags:\n",
            "[\n",
            "\n",
            "\n",
            "    A marca do home imaturo 🧐 é \t\t querer morrer de maneira nobre por alguma causa 🧐, \n",
            "\n",
            "    enquanto \n",
            "\n",
            " a marca do\r home maduro é querer viver de maneira humide por uma \n",
            "\n",
            "    causa 🧐.\n",
            "  \n",
            "\n",
            "]\n"
          ]
        }
      ]
    },
    {
      "cell_type": "code",
      "source": [
        "print(\"Textos sem caracteres não imprimíveis:\")\n",
        "texto_sem_nao_imprimiveis = ' '.join(texto_sem_tags.split())\n",
        "print(f\"[{texto_sem_nao_imprimiveis}]\")"
      ],
      "metadata": {
        "colab": {
          "base_uri": "https://localhost:8080/"
        },
        "id": "RPals1Zs3Vua",
        "outputId": "3e763a62-7a2d-467a-902e-1463b8418f6d"
      },
      "execution_count": 21,
      "outputs": [
        {
          "output_type": "stream",
          "name": "stdout",
          "text": [
            "Textos sem caracteres não imprimíveis:\n",
            "[A marca do home imaturo 🧐 é querer morrer de maneira nobre por alguma causa 🧐, enquanto a marca do home maduro é querer viver de maneira humide por uma causa 🧐.]\n"
          ]
        }
      ]
    },
    {
      "cell_type": "markdown",
      "source": [
        "# Correções ortográficas\n",
        "A correção ortográfica corrige erros de escrita, melhorando a interpretação de textos. É essencial para análises precisas em tarefas como tradução, análise de sentimentos e assistentes virtuais. A correção aumenta a eficácia da PLN ao garantir clareza e precisão na comunicação digital. Ela desempenha um papel fundamental na acessibilidade e na qualidade das informações processadas, facilitando interações mais naturais e compreensíveis entre humanos e máquinas."
      ],
      "metadata": {
        "id": "TvEs9ZiQ3u3a"
      }
    },
    {
      "cell_type": "code",
      "source": [
        "# Define o corretor ortográfico para a língua portuguesa\n",
        "corretor = SpellChecker(language='pt')\n",
        "\n",
        "# Encontra palavras que podem estar escritas incorretamente\n",
        "erros = corretor.unknown(['ingreso', 'bola', 'futbol', 'estádio'])\n",
        "print(\"Erros:\", erros)\n",
        "\n",
        "for erro in erros:\n",
        "  # Obtem a opção 'mais provável' como correção\n",
        "  correcao = corretor.correction(erro)\n",
        "  # Obtem uma lista das opções 'prováveis'\n",
        "  candidatas = corretor.candidates(erro)\n",
        "  print(formata_msg('INFO', f'Palavra incorreta: {erro}, correção: {correcao}, outras opções: {candidatas}.'))\n"
      ],
      "metadata": {
        "colab": {
          "base_uri": "https://localhost:8080/"
        },
        "id": "WsmB2X8k3p-A",
        "outputId": "d9c0d8f4-7f85-405d-f32c-18d5e0cbf8df"
      },
      "execution_count": 22,
      "outputs": [
        {
          "output_type": "stream",
          "name": "stdout",
          "text": [
            "Erros: {'futbol', 'ingreso'}\n",
            "[INFO] 2024-11-26 10:16:59: Palavra incorreta: futbol, correção: futebol, outras opções: {'futebol'}.\n",
            "[INFO] 2024-11-26 10:16:59: Palavra incorreta: ingreso, correção: ingresso, outras opções: {'ingleso', 'ingresso'}.\n"
          ]
        }
      ]
    },
    {
      "cell_type": "code",
      "source": [
        "def corrija_texto(texto):\n",
        "  \"\"\"\n",
        "  Corrige erros ortográficos em um texto em português.\n",
        "\n",
        "  Utiliza 'SpellChecker' para identificar e corrigir palavras com erros\n",
        "  ortográficos. A função analisa cada palavra, verifica a presenta de erros\n",
        "  e, se encontrados, substitui a palavra pela correção sugerida.\n",
        "\n",
        "  Args:\n",
        "    - texto (str): o texto original que necessita correção.\n",
        "\n",
        "  Returns:\n",
        "    - str: o texto corrigido\n",
        "\n",
        "  Exemplo:\n",
        "    >>> corrija_texto('Olá, como voçê está?')\n",
        "    >>> \"Olá, como você está?\"\n",
        "  \"\"\"\n",
        "\n",
        "  corretor = SpellChecker(language='pt')\n",
        "\n",
        "  texto_aux = texto[:]\n",
        "  erros = corretor.unknown(texto_aux.split())\n",
        "\n",
        "  for erro in erros:\n",
        "    correcao = corretor.correction(erro)\n",
        "\n",
        "    if correcao:\n",
        "      texto_aux = texto_aux.replace(erro, correcao)\n",
        "\n",
        "  return texto_aux\n",
        "\n",
        "print(formata_msg('INFO', \"Função de correção pronta para inicialização\"))"
      ],
      "metadata": {
        "colab": {
          "base_uri": "https://localhost:8080/"
        },
        "id": "dJB4SFaL411Z",
        "outputId": "baab0d25-f66d-4443-8c46-5ee9c8b9c811"
      },
      "execution_count": 25,
      "outputs": [
        {
          "output_type": "stream",
          "name": "stdout",
          "text": [
            "[INFO] 2024-11-26 10:17:38: Função de correção pronta para inicialização\n"
          ]
        }
      ]
    },
    {
      "cell_type": "code",
      "source": [
        "texto_sem_erros_ortograficos = corrija_texto(texto_sem_nao_imprimiveis)\n",
        "print(formata_msg('INFO', f\"Texto sem erros ortográficos:\\n{texto_sem_erros_ortograficos}\"))"
      ],
      "metadata": {
        "colab": {
          "base_uri": "https://localhost:8080/"
        },
        "id": "1uIfx4aB8VPB",
        "outputId": "5e2b8d38-5987-4a8d-cbfa-ddc2702ba064"
      },
      "execution_count": 24,
      "outputs": [
        {
          "output_type": "stream",
          "name": "stdout",
          "text": [
            "[INFO] 2024-11-26 10:17:04: Texto sem erros ortográficos:\n",
            "A marca do homem imaturo a é querer morrer de maneira nobre por alguma causa a enquanto a marca do homem maduro é querer viver de maneira humilde por uma causa a\n"
          ]
        }
      ]
    },
    {
      "cell_type": "markdown",
      "source": [
        "# Normalização Unicode\n",
        "A normalização unicode ou codificação de texto converte caracteres unicode em alguma forma de representação binária para ser armazenado em um computador."
      ],
      "metadata": {
        "id": "xHBOdw5U9ka8"
      }
    },
    {
      "cell_type": "code",
      "source": [
        "texto_normalizado = texto_sem_erros_ortograficos.encode('utf-8')\n",
        "print(formata_msg('INFO', f\"Texto normalizado:\\n{texto_normalizado}\"))"
      ],
      "metadata": {
        "colab": {
          "base_uri": "https://localhost:8080/"
        },
        "id": "h8wAl-Qn-GSl",
        "outputId": "f8ba4478-980c-404d-8390-04bb405d46f5"
      },
      "execution_count": 26,
      "outputs": [
        {
          "output_type": "stream",
          "name": "stdout",
          "text": [
            "[INFO] 2024-11-26 10:20:36: Texto normalizado:\n",
            "b'A marca do homem imaturo a \\xc3\\xa9 querer morrer de maneira nobre por alguma causa a enquanto a marca do homem maduro \\xc3\\xa9 querer viver de maneira humilde por uma causa a'\n"
          ]
        }
      ]
    },
    {
      "cell_type": "code",
      "source": [],
      "metadata": {
        "id": "EIA2R862-Nvk"
      },
      "execution_count": null,
      "outputs": []
    }
  ]
}