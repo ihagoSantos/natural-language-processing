{
  "nbformat": 4,
  "nbformat_minor": 0,
  "metadata": {
    "colab": {
      "provenance": [],
      "authorship_tag": "ABX9TyPFoUAHPRaNv7rig/VjNV6D",
      "include_colab_link": true
    },
    "kernelspec": {
      "name": "python3",
      "display_name": "Python 3"
    },
    "language_info": {
      "name": "python"
    }
  },
  "cells": [
    {
      "cell_type": "markdown",
      "metadata": {
        "id": "view-in-github",
        "colab_type": "text"
      },
      "source": [
        "<a href=\"https://colab.research.google.com/github/ihagoSantos/natural-language-processing/blob/main/text_similarity.ipynb\" target=\"_parent\"><img src=\"https://colab.research.google.com/assets/colab-badge.svg\" alt=\"Open In Colab\"/></a>"
      ]
    },
    {
      "cell_type": "markdown",
      "source": [
        "# Similaridade de Textos\n",
        "Indica o quão \"próximos\" dois textos estão em significado ou na forma de escrita."
      ],
      "metadata": {
        "id": "hHdHyEpc8KSD"
      }
    },
    {
      "cell_type": "code",
      "execution_count": 1,
      "metadata": {
        "colab": {
          "base_uri": "https://localhost:8080/"
        },
        "id": "HnI-ERV176rU",
        "outputId": "e11d7a52-8640-4f64-ef66-f1a18d8e1d6e"
      },
      "outputs": [
        {
          "output_type": "stream",
          "name": "stdout",
          "text": [
            "Collecting nltk==3.8.1\n",
            "  Downloading nltk-3.8.1-py3-none-any.whl.metadata (2.8 kB)\n",
            "Requirement already satisfied: click in /usr/local/lib/python3.10/dist-packages (from nltk==3.8.1) (8.1.7)\n",
            "Requirement already satisfied: joblib in /usr/local/lib/python3.10/dist-packages (from nltk==3.8.1) (1.4.2)\n",
            "Requirement already satisfied: regex>=2021.8.3 in /usr/local/lib/python3.10/dist-packages (from nltk==3.8.1) (2024.9.11)\n",
            "Requirement already satisfied: tqdm in /usr/local/lib/python3.10/dist-packages (from nltk==3.8.1) (4.66.6)\n",
            "Downloading nltk-3.8.1-py3-none-any.whl (1.5 MB)\n",
            "\u001b[?25l   \u001b[90m━━━━━━━━━━━━━━━━━━━━━━━━━━━━━━━━━━━━━━━━\u001b[0m \u001b[32m0.0/1.5 MB\u001b[0m \u001b[31m?\u001b[0m eta \u001b[36m-:--:--\u001b[0m\r\u001b[2K   \u001b[91m━━━━━━━━━━━━━━━━━━━━━━━━━━━━━━━━━━━━━━━\u001b[0m\u001b[91m╸\u001b[0m \u001b[32m1.5/1.5 MB\u001b[0m \u001b[31m50.0 MB/s\u001b[0m eta \u001b[36m0:00:01\u001b[0m\r\u001b[2K   \u001b[90m━━━━━━━━━━━━━━━━━━━━━━━━━━━━━━━━━━━━━━━━\u001b[0m \u001b[32m1.5/1.5 MB\u001b[0m \u001b[31m32.2 MB/s\u001b[0m eta \u001b[36m0:00:00\u001b[0m\n",
            "\u001b[?25hInstalling collected packages: nltk\n",
            "  Attempting uninstall: nltk\n",
            "    Found existing installation: nltk 3.9.1\n",
            "    Uninstalling nltk-3.9.1:\n",
            "      Successfully uninstalled nltk-3.9.1\n",
            "Successfully installed nltk-3.8.1\n",
            "Collecting unidecode==1.3.8\n",
            "  Downloading Unidecode-1.3.8-py3-none-any.whl.metadata (13 kB)\n",
            "Downloading Unidecode-1.3.8-py3-none-any.whl (235 kB)\n",
            "\u001b[2K   \u001b[90m━━━━━━━━━━━━━━━━━━━━━━━━━━━━━━━━━━━━━━━━\u001b[0m \u001b[32m235.5/235.5 kB\u001b[0m \u001b[31m8.6 MB/s\u001b[0m eta \u001b[36m0:00:00\u001b[0m\n",
            "\u001b[?25hInstalling collected packages: unidecode\n",
            "Successfully installed unidecode-1.3.8\n",
            "Collecting scikit-learn==1.3.1\n",
            "  Downloading scikit_learn-1.3.1-cp310-cp310-manylinux_2_17_x86_64.manylinux2014_x86_64.whl.metadata (11 kB)\n",
            "Requirement already satisfied: numpy<2.0,>=1.17.3 in /usr/local/lib/python3.10/dist-packages (from scikit-learn==1.3.1) (1.26.4)\n",
            "Requirement already satisfied: scipy>=1.5.0 in /usr/local/lib/python3.10/dist-packages (from scikit-learn==1.3.1) (1.13.1)\n",
            "Requirement already satisfied: joblib>=1.1.1 in /usr/local/lib/python3.10/dist-packages (from scikit-learn==1.3.1) (1.4.2)\n",
            "Requirement already satisfied: threadpoolctl>=2.0.0 in /usr/local/lib/python3.10/dist-packages (from scikit-learn==1.3.1) (3.5.0)\n",
            "Downloading scikit_learn-1.3.1-cp310-cp310-manylinux_2_17_x86_64.manylinux2014_x86_64.whl (10.8 MB)\n",
            "\u001b[2K   \u001b[90m━━━━━━━━━━━━━━━━━━━━━━━━━━━━━━━━━━━━━━━━\u001b[0m \u001b[32m10.8/10.8 MB\u001b[0m \u001b[31m83.0 MB/s\u001b[0m eta \u001b[36m0:00:00\u001b[0m\n",
            "\u001b[?25hInstalling collected packages: scikit-learn\n",
            "  Attempting uninstall: scikit-learn\n",
            "    Found existing installation: scikit-learn 1.5.2\n",
            "    Uninstalling scikit-learn-1.5.2:\n",
            "      Successfully uninstalled scikit-learn-1.5.2\n",
            "Successfully installed scikit-learn-1.3.1\n"
          ]
        }
      ],
      "source": [
        "# Instalação das bibliotecas necessárias\n",
        "!pip install nltk==3.8.1\n",
        "!pip install unidecode==1.3.8\n",
        "!pip install scikit-learn==1.3.1"
      ]
    },
    {
      "cell_type": "code",
      "source": [
        "# Importação das bibliotecas padrão\n",
        "import datetime\n",
        "import math\n",
        "import re\n",
        "import string\n",
        "import sys\n",
        "import warnings\n",
        "\n",
        "# importação das bibliotecas de terceiros\n",
        "import nltk\n",
        "\n",
        "from nltk.corpus import stopwords\n",
        "\n",
        "import sklearn\n",
        "from sklearn.feature_extraction.text import CountVectorizer\n",
        "\n",
        "from unidecode import unidecode\n",
        "\n",
        "# Downloads do nltk\n",
        "nltk.download('punkt')\n",
        "nltk.download('stopwords')\n",
        "\n",
        "# Configurações de comandos específicos\n",
        "warnings.filterwarnings('ignore')\n",
        "\n",
        "print(\"Pacotes importados com sucesso!\")"
      ],
      "metadata": {
        "colab": {
          "base_uri": "https://localhost:8080/"
        },
        "id": "EmiLWAXY8dHp",
        "outputId": "d66b5153-c42a-44eb-f027-5a11f60e75dd"
      },
      "execution_count": 2,
      "outputs": [
        {
          "output_type": "stream",
          "name": "stderr",
          "text": [
            "[nltk_data] Downloading package punkt to /root/nltk_data...\n",
            "[nltk_data]   Unzipping tokenizers/punkt.zip.\n"
          ]
        },
        {
          "output_type": "stream",
          "name": "stdout",
          "text": [
            "Pacotes importados com sucesso!\n"
          ]
        },
        {
          "output_type": "stream",
          "name": "stderr",
          "text": [
            "[nltk_data] Downloading package stopwords to /root/nltk_data...\n",
            "[nltk_data]   Unzipping corpora/stopwords.zip.\n"
          ]
        }
      ]
    },
    {
      "cell_type": "code",
      "source": [
        "def preprocessa_texto(texto):\n",
        "  \"\"\"\n",
        "  Preprocessa o texto fornecido realizando várias etapas de limpeza\n",
        "\n",
        "  Etapas:\n",
        "  1. Tokeniza o texto\n",
        "  2. Converte os tokens para minusculo\n",
        "  3. Remove stopwords em português\n",
        "  4. Remove números dos tokens\n",
        "  5. Exclui tokens que são pontuações\n",
        "  6. Remove acentuações dos tokens\n",
        "\n",
        "  Parâmetros:\n",
        "  texto (str): O texto a ser preprocessado\n",
        "\n",
        "  Retorna:\n",
        "  list: Lista de tokens preprocessados\n",
        "  \"\"\"\n",
        "\n",
        "  # Tokeniza o texto usando um padrão para capturar palavras e pontuações.\n",
        "  padrao = r\"\\w+(?:'\\w+)?|[^\\w\\s]\"\n",
        "  tokens_preprocessados = re.findall(padrao, texto)\n",
        "\n",
        "  # Converte o texto para minúsculo para padronizar a capitalização\n",
        "  tokens_preprocessados = [token.lower() for token in tokens_preprocessados]\n",
        "\n",
        "  # Remove stopwords para reduzir o conjunto de tokens a palavras significativas\n",
        "  portugues_stops = stopwords.words('portuguese')\n",
        "  tokens_preprocessados = [token for token in tokens_preprocessados if token not in portugues_stops]\n",
        "\n",
        "  # Remove números, pois geralmente não contribuem para o significado do texto\n",
        "  tokens_preprocessados = [re.sub(r'\\d+', '', token) for token in tokens_preprocessados if re.sub(r'\\d+', '', token)]\n",
        "\n",
        "  # Exclui tokens que são pontuações, pois raramente são úteis par análise de texto\n",
        "  tokens_preprocessados = [token for token in tokens_preprocessados if token not in string.punctuation]\n",
        "\n",
        "  # Remove acentuações para padronizar os tokens\n",
        "  tokens_preprocessados = [unidecode(token) for token in tokens_preprocessados]\n",
        "\n",
        "  return ' '.join(tokens_preprocessados)\n",
        "\n"
      ],
      "metadata": {
        "id": "8dgVvhEu9WLz"
      },
      "execution_count": 3,
      "outputs": []
    },
    {
      "cell_type": "code",
      "source": [
        "texto_1 = preprocessa_texto(\"O gato comeu o rato\")\n",
        "texto_2 = preprocessa_texto(\"O rato comeu a comida do gato\")\n",
        "print(f\"Textos preprocessados:\\n{texto_1}\\n{texto_2}\")"
      ],
      "metadata": {
        "colab": {
          "base_uri": "https://localhost:8080/"
        },
        "id": "Tj9IaHTX_XnI",
        "outputId": "a63d8bca-a1de-4de9-d71b-7da49abe8b5f"
      },
      "execution_count": 4,
      "outputs": [
        {
          "output_type": "stream",
          "name": "stdout",
          "text": [
            "Textos preprocessados:\n",
            "gato comeu rato\n",
            "rato comeu comida gato\n"
          ]
        }
      ]
    },
    {
      "cell_type": "markdown",
      "source": [
        "# Similaridade de Jaccard"
      ],
      "metadata": {
        "id": "LlkdBWb159ow"
      }
    },
    {
      "cell_type": "code",
      "source": [
        "def similaridade_jaccard(a, b):\n",
        "  \"\"\"\n",
        "  Calcula a similaridade de Jaccard entre duas listas.\n",
        "\n",
        "  A similaridade de Jaccard é uma medida usada para comparar a semelhança e diversidade de conjuntos de amostras.\n",
        "  O Coeficiente de similaridade de Jaccard é definido como o tamanho da interseção dividido pelo tamanho da união das amostras.\n",
        "\n",
        "  Args:\n",
        "  a: Lista de elementos\n",
        "  b: Lista de elementos\n",
        "\n",
        "  Returns:\n",
        "  Um float representando a similaridade de Jaccard entre duas listas, que é o tamanho da interseção\n",
        "  dos conjuntos dividido pelo tamanho da união dos conjuntos.\n",
        "\n",
        "  Raises:\n",
        "  ZeroDivisionError: Se a união das listas resultar em um conjunto vazio, o que levaria a uma divisão por zero.\n",
        "  \"\"\"\n",
        "\n",
        "  interseccao = len(set.intersection(*[set(a), set(b)]))\n",
        "  uniao = len(set.union(*[set(a), set(b)]))\n",
        "\n",
        "  if uniao == 0: return 0\n",
        "\n",
        "  return interseccao/uniao"
      ],
      "metadata": {
        "id": "9tCoIKda_mJn"
      },
      "execution_count": 9,
      "outputs": []
    },
    {
      "cell_type": "code",
      "source": [
        "corpus = [texto_1, texto_2]\n",
        "tokens = [texto.split(\" \") for texto in corpus]\n",
        "print(tokens)"
      ],
      "metadata": {
        "colab": {
          "base_uri": "https://localhost:8080/"
        },
        "id": "BOZo1wC47Ith",
        "outputId": "b29d3e2b-b399-422f-987e-372efc606357"
      },
      "execution_count": 10,
      "outputs": [
        {
          "output_type": "stream",
          "name": "stdout",
          "text": [
            "[['gato', 'comeu', 'rato'], ['rato', 'comeu', 'comida', 'gato']]\n"
          ]
        }
      ]
    },
    {
      "cell_type": "code",
      "source": [
        "similaridade = similaridade_jaccard(tokens[0], tokens[1])\n",
        "print(f\"Similaridade de Jaccard entre os textos: {similaridade}\")"
      ],
      "metadata": {
        "colab": {
          "base_uri": "https://localhost:8080/"
        },
        "id": "49kGWqC67chN",
        "outputId": "320a8245-3cc2-4965-b021-4ac5a06b35a1"
      },
      "execution_count": 11,
      "outputs": [
        {
          "output_type": "stream",
          "name": "stdout",
          "text": [
            "Similaridade de Jaccard entre os textos: 0.75\n"
          ]
        }
      ]
    },
    {
      "cell_type": "markdown",
      "source": [
        "# Similaridade de Distância Euclidiana"
      ],
      "metadata": {
        "id": "IGwfwFdy75PO"
      }
    },
    {
      "cell_type": "code",
      "source": [
        "def similaridade_euclidiana(a, b):\n",
        "  \"\"\"\n",
        "  Calcula a similaridade pela Distância Euclidiana entre dois vetores.\n",
        "\n",
        "  A similaridade Euclidiana é determinada pela transformação da distância\n",
        "  euclidiana entre dois pontos (vetores) em uma medida de similaridade.\n",
        "  Esta transformação é realizada através da função exponencial, que mapeia a distância\n",
        "  para um valor entre 0 e 1, onde valores próximos a 1 indicam alta similaridade\n",
        "  e valores próximos a 0 indicam baixa similaridade.\n",
        "\n",
        "  Args:\n",
        "  a: Uma lista ou vetor de valores numéricos\n",
        "  b: Outra lista ou vetor de valores numéricos, com a mesma dimensão de 'a'\n",
        "\n",
        "  Returns:\n",
        "  Um float representando a similaridade euclidiana entre os vetores 'a' e 'b'.\n",
        "\n",
        "  Raises:\n",
        "  ValueError: Se os vetores 'a' e 'b' têm dimensões diferentes.\n",
        "  \"\"\"\n",
        "\n",
        "  if len(a) != len(b):\n",
        "    return ValueError(\"Os vetores 'a' e 'b' devem ter a mesma dimensão\")\n",
        "\n",
        "  distancia = math.sqrt(sum(math.pow(x - y, 2) for x, y in zip(a, b) ) )\n",
        "  return math.exp(-distancia)"
      ],
      "metadata": {
        "id": "Prjz7Acm746m"
      },
      "execution_count": 27,
      "outputs": []
    },
    {
      "cell_type": "code",
      "source": [
        "from sklearn.feature_extraction.text import CountVectorizer\n",
        "vetorizador = CountVectorizer(stop_words=None)\n",
        "frequencias = vetorizador.fit_transform(corpus)\n",
        "\n",
        "print(f\"Tokens: {vetorizador.get_feature_names_out()}\")\n",
        "print(f\"Frequências: {frequencias.toarray()}\")"
      ],
      "metadata": {
        "colab": {
          "base_uri": "https://localhost:8080/"
        },
        "id": "XnmqBAnf7yXq",
        "outputId": "27b11dd9-c02c-4250-c53f-fa004db7bcba"
      },
      "execution_count": 28,
      "outputs": [
        {
          "output_type": "stream",
          "name": "stdout",
          "text": [
            "Tokens: ['comeu' 'comida' 'gato' 'rato']\n",
            "Frequências: [[1 0 1 1]\n",
            " [1 1 1 1]]\n"
          ]
        }
      ]
    },
    {
      "cell_type": "code",
      "source": [
        "similaridade = similaridade_euclidiana(frequencias.toarray()[0], frequencias.toarray()[1])\n",
        "print(f\"Similaridade Euclidiana: {similaridade}\")"
      ],
      "metadata": {
        "colab": {
          "base_uri": "https://localhost:8080/"
        },
        "id": "YALNt-x197mY",
        "outputId": "f315114b-5fc8-4b93-da16-66a016ba5ce6"
      },
      "execution_count": 31,
      "outputs": [
        {
          "output_type": "stream",
          "name": "stdout",
          "text": [
            "Similaridade Euclidiana: 0.36787944117144233\n"
          ]
        }
      ]
    },
    {
      "cell_type": "markdown",
      "source": [
        "# Similaridade de Cosseno"
      ],
      "metadata": {
        "id": "QB_qYvH8_pjA"
      }
    },
    {
      "cell_type": "code",
      "source": [
        "def norma_vetor(x):\n",
        "  \"\"\"\n",
        "  Calcula a norma (ou magnitude) de um vetor.\n",
        "\n",
        "  A norma é calculada como a raiz quadrada da soma dos quadrados de cada\n",
        "  elemento do vetor. Essa função é comumente usada em operações de álgebra linear\n",
        "  e análise de vetores.\n",
        "\n",
        "  Args:\n",
        "  x: Uma lista de valores numéricos representando um vetor.\n",
        "\n",
        "  Returns:\n",
        "  Um float representando a norma do vetor, arredondado para 3 casas decimais\n",
        "  \"\"\"\n",
        "\n",
        "  return round(math.sqrt(sum(a * a for a in x)), 3)\n",
        "\n",
        "def similaridade_cosseno(a, b):\n",
        "  \"\"\"\n",
        "  Calcula a similaridade de cosseno entre dois vetores.\n",
        "\n",
        "  A similaridade de cosseno é uma medida que calcula o ângulo entre dois vetores\n",
        "  no espaço multidimensional, sendo usada frequentemente para medir a semelhança\n",
        "  entre dois vetores.\n",
        "  O resultado varia entre -1 e 1, onde 1 indica vetores idênticos, 0 indica ortogonalidade,\n",
        "  e -1 indica vetores dialmente opostos.\n",
        "\n",
        "  Args:\n",
        "  a: Uma lista de valores numéricos representando o primeiro vetor.\n",
        "  b: Uma lista de valores numéricos representando o segundo vetor.\n",
        "\n",
        "  Return:\n",
        "  float: Representa a similaridade de cosseno entre os vetores 'a' e 'b'.\n",
        "  \"\"\"\n",
        "  if len(a) != len(b):\n",
        "    return ValueError(\"Os vetores 'a' e 'b' devem ter a mesma dimensão\")\n",
        "\n",
        "  numerador = sum(x * y for x,y in zip(a,b))\n",
        "  denominador = norma_vetor(a) * norma_vetor(b)\n",
        "\n",
        "  return numerador / float(denominador)"
      ],
      "metadata": {
        "id": "fVQMCge4-a7P"
      },
      "execution_count": 32,
      "outputs": []
    },
    {
      "cell_type": "code",
      "source": [
        "similaridade = similaridade_cosseno(frequencias.toarray()[0], frequencias.toarray()[1])\n",
        "print(f\"Similaridade de Cosseno: {similaridade}\")"
      ],
      "metadata": {
        "colab": {
          "base_uri": "https://localhost:8080/"
        },
        "id": "qe8M3F-aBjs6",
        "outputId": "c047bb0e-9d98-4293-e2d8-a03b46d5ca8c"
      },
      "execution_count": 33,
      "outputs": [
        {
          "output_type": "stream",
          "name": "stdout",
          "text": [
            "Similaridade de Cosseno: 0.8660508083140878\n"
          ]
        }
      ]
    },
    {
      "cell_type": "code",
      "source": [],
      "metadata": {
        "id": "QTFq-9V8Brt3"
      },
      "execution_count": null,
      "outputs": []
    }
  ]
}