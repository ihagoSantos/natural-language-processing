{
  "nbformat": 4,
  "nbformat_minor": 0,
  "metadata": {
    "colab": {
      "provenance": [],
      "collapsed_sections": [
        "03iGlbIWOOm5",
        "npNI-Y3RMlvd"
      ],
      "authorship_tag": "ABX9TyO3CjQI/idkiJJHXpmcVYHk",
      "include_colab_link": true
    },
    "kernelspec": {
      "name": "python3",
      "display_name": "Python 3"
    },
    "language_info": {
      "name": "python"
    }
  },
  "cells": [
    {
      "cell_type": "markdown",
      "metadata": {
        "id": "view-in-github",
        "colab_type": "text"
      },
      "source": [
        "<a href=\"https://colab.research.google.com/github/ihagoSantos/natural-language-processing/blob/main/data_aquisition_in_public_databases.ipynb\" target=\"_parent\"><img src=\"https://colab.research.google.com/assets/colab-badge.svg\" alt=\"Open In Colab\"/></a>"
      ]
    },
    {
      "cell_type": "markdown",
      "source": [
        "# Aquisição de dados em bases públicas"
      ],
      "metadata": {
        "id": "e3Lavif9NBhZ"
      }
    },
    {
      "cell_type": "code",
      "execution_count": 1,
      "metadata": {
        "colab": {
          "base_uri": "https://localhost:8080/"
        },
        "id": "kdDIjoiLM7mY",
        "outputId": "3613ecbb-91db-42d1-eb5c-6e35ce64265f"
      },
      "outputs": [
        {
          "output_type": "stream",
          "name": "stdout",
          "text": [
            "Requirement already satisfied: requests in /usr/local/lib/python3.10/dist-packages (2.32.3)\n",
            "Requirement already satisfied: kaggle in /usr/local/lib/python3.10/dist-packages (1.6.17)\n",
            "Requirement already satisfied: charset-normalizer<4,>=2 in /usr/local/lib/python3.10/dist-packages (from requests) (3.4.0)\n",
            "Requirement already satisfied: idna<4,>=2.5 in /usr/local/lib/python3.10/dist-packages (from requests) (3.10)\n",
            "Requirement already satisfied: urllib3<3,>=1.21.1 in /usr/local/lib/python3.10/dist-packages (from requests) (2.2.3)\n",
            "Requirement already satisfied: certifi>=2017.4.17 in /usr/local/lib/python3.10/dist-packages (from requests) (2024.8.30)\n",
            "Requirement already satisfied: six>=1.10 in /usr/local/lib/python3.10/dist-packages (from kaggle) (1.16.0)\n",
            "Requirement already satisfied: python-dateutil in /usr/local/lib/python3.10/dist-packages (from kaggle) (2.8.2)\n",
            "Requirement already satisfied: tqdm in /usr/local/lib/python3.10/dist-packages (from kaggle) (4.66.6)\n",
            "Requirement already satisfied: python-slugify in /usr/local/lib/python3.10/dist-packages (from kaggle) (8.0.4)\n",
            "Requirement already satisfied: bleach in /usr/local/lib/python3.10/dist-packages (from kaggle) (6.2.0)\n",
            "Requirement already satisfied: webencodings in /usr/local/lib/python3.10/dist-packages (from bleach->kaggle) (0.5.1)\n",
            "Requirement already satisfied: text-unidecode>=1.3 in /usr/local/lib/python3.10/dist-packages (from python-slugify->kaggle) (1.3)\n"
          ]
        }
      ],
      "source": [
        "!pip install requests kaggle"
      ]
    },
    {
      "cell_type": "code",
      "source": [
        "# importação de pacotes básicos para execução desse notebook\n",
        "import os\n",
        "import tarfile\n",
        "\n",
        "import requests\n",
        "print(\"Pacotes importados com sucesso\")"
      ],
      "metadata": {
        "colab": {
          "base_uri": "https://localhost:8080/"
        },
        "id": "EHJKlCSINHHt",
        "outputId": "2882094c-d891-40c6-e197-9a488334f8a4"
      },
      "execution_count": 2,
      "outputs": [
        {
          "output_type": "stream",
          "name": "stdout",
          "text": [
            "Pacotes importados com sucesso\n"
          ]
        }
      ]
    },
    {
      "cell_type": "code",
      "source": [
        "# Define o diretório local para armazenamento de base de dados públicas coletadas\n",
        "corpora_caminho = \"corpora\"\n",
        "\n",
        "if not os.path.exists(corpora_caminho):\n",
        "    os.mkdir(corpora_caminho)\n",
        "\n",
        "print(f\"Diretório {corpora_caminho} criado com sucesso.\")"
      ],
      "metadata": {
        "colab": {
          "base_uri": "https://localhost:8080/"
        },
        "id": "VOUA9YtzNXcY",
        "outputId": "3ac702de-8d30-45a3-c504-f803e5f23646"
      },
      "execution_count": 3,
      "outputs": [
        {
          "output_type": "stream",
          "name": "stdout",
          "text": [
            "Diretório corpora criado com sucesso.\n"
          ]
        }
      ]
    },
    {
      "cell_type": "markdown",
      "source": [
        "# 1. Bases de dados Pública"
      ],
      "metadata": {
        "id": "nF04qUwwOL3m"
      }
    },
    {
      "cell_type": "markdown",
      "source": [
        "## Avaliação de produtos das Americanas.com"
      ],
      "metadata": {
        "id": "03iGlbIWOOm5"
      }
    },
    {
      "cell_type": "code",
      "source": [
        "# URL da base de dados pública\n",
        "url = \"https://raw.githubusercontent.com/americanas-tech/b2w-reviews01/main/B2W-Reviews01.csv\""
      ],
      "metadata": {
        "id": "fw0z52rnOI2r"
      },
      "execution_count": 4,
      "outputs": []
    },
    {
      "cell_type": "code",
      "source": [
        "americanas_arquivo = \"americanas-comentarios.csv\"\n",
        "americanas_caminho = os.path.join(corpora_caminho, americanas_arquivo) # os.path.join cria caminho completo para o arquivo\n",
        "\n",
        "parametros = {\"downloadformat\": \"csv\"}\n",
        "\n",
        "resposta = requests.get(url, params=parametros)\n",
        "\n",
        "if resposta.status_code == 200:\n",
        "  with open(americanas_caminho, \"wb\") as f:\n",
        "    f.write(resposta.content)\n",
        "\n",
        "  print(f\"Download do {americanas_caminho} foi concluído com sucesso!\")\n",
        "else:\n",
        "  print(f\"Falha no download do arquivo {americanas_caminho}:\", resposta.status_code)"
      ],
      "metadata": {
        "colab": {
          "base_uri": "https://localhost:8080/"
        },
        "id": "pKGfRDEEOwn4",
        "outputId": "183473ae-fbcb-44b5-9cac-df1eb0999dde"
      },
      "execution_count": 5,
      "outputs": [
        {
          "output_type": "stream",
          "name": "stdout",
          "text": [
            "Download do corpora/americanas-comentarios.csv foi concluído com sucesso!\n"
          ]
        }
      ]
    },
    {
      "cell_type": "code",
      "source": [
        "# O comando head no linux mostra as cinco primeiras linhas do arquivo\n",
        "!head -n 5 {americanas_caminho}"
      ],
      "metadata": {
        "colab": {
          "base_uri": "https://localhost:8080/"
        },
        "id": "6gzT8CJHPm7X",
        "outputId": "400b7c69-9508-4891-e6c2-a0e49d89c65e"
      },
      "execution_count": 6,
      "outputs": [
        {
          "output_type": "stream",
          "name": "stdout",
          "text": [
            "submission_date,reviewer_id,product_id,product_name,product_brand,site_category_lv1,site_category_lv2,review_title,overall_rating,recommend_to_a_friend,review_text,reviewer_birth_year,reviewer_gender,reviewer_state\n",
            "2018-01-01 00:11:28,d0fb1ca69422530334178f5c8624aa7a99da47907c44de0243719b15d50623ce,132532965,\"Notebook Asus Vivobook Max X541NA-GO472T Intel Celeron Quad Core 4GB 500GB Tela LED 15,6\"\" Windows - 10 Branco\",,Informática,Notebook,Bom,4,Yes,Estou contente com a compra entrega rápida o único problema com as Americanas é se houver troca ou devolução do produto o consumidor tem problemas com espera.,1958.0,F,RJ\n",
            "2018-01-01 00:13:48,014d6dc5a10aed1ff1e6f349fb2b059a2d3de511c7538a9008da562ead5f5ecd,22562178,Copo Acrílico Com Canudo 500ml Rocie,,Utilidades Domésticas,\"Copos, Taças e Canecas\",\"Preço imbatível, ótima qualidade\",4,Yes,\"Por apenas R$1994.20,eu consegui comprar esse lindo copo de acrílico.\",1996.0,M,SC\n",
            "2018-01-01 00:26:02,44f2c8edd93471926fff601274b8b2b5c4824e386ae4f210329b9b71890277fd,113022329,Panela de Pressão Elétrica Philips Walita Daily 5L com Timer,philips walita,Eletroportáteis,Panela Elétrica,ATENDE TODAS AS EXPECTATIVA.,4,Yes,\"SUPERA EM AGILIDADE E PRATICIDADE OUTRAS PANELAS ELÉTRICAS.  COSTUMO USAR OUTRA PANELA PARA COZIMENTO DE ARROZ (JAPONESA), MAS LEVA MUITO TEMPO,  +/- 50 MINUTOS.  NESSA PANELA  É MUITO MAIS RÁPIDO, EXATAMENTE 6 MINUTOS.    EU RECOMENDO.\",1984.0,M,SP\n",
            "2018-01-01 00:35:54,ce741665c1764ab2d77539e18d0e4f66dde6213c9f0863f165ffedb1e8147984,113851581,Betoneira Columbus - Roma Brinquedos,roma jensen,Brinquedos,Veículos de Brinquedo,presente mais que desejado,4,Yes,MEU FILHO AMOU! PARECE DE VERDADE COM TANTOS DETALHES QUE TÊM!,1985.0,F,SP\n"
          ]
        }
      ]
    },
    {
      "cell_type": "markdown",
      "source": [
        "## Revista Fapesp"
      ],
      "metadata": {
        "id": "npNI-Y3RMlvd"
      }
    },
    {
      "cell_type": "code",
      "source": [
        "url = 'http://www.nilc.icmc.usp.br/nilc/tools/fapesp-corpora.tar.gz'"
      ],
      "metadata": {
        "id": "RZfU_H7FRdBh"
      },
      "execution_count": 7,
      "outputs": []
    },
    {
      "cell_type": "code",
      "source": [
        "fapesp_arquivo = 'fapesp-corpora.tar.gz'\n",
        "fapesp_caminho = os.path.join(corpora_caminho,fapesp_arquivo)\n",
        "\n",
        "resposta = requests.get(url,stream=True)\n",
        "\n",
        "if resposta.status_code == 200:\n",
        "  with open(fapesp_caminho, 'wb') as f:\n",
        "    for fragmento in resposta.raw.stream(2048):\n",
        "      f.write(fragmento)\n",
        "  print('Download concluído com sucesso!')\n",
        "else:\n",
        "  print('Falha no download:', resposta.status_code)"
      ],
      "metadata": {
        "colab": {
          "base_uri": "https://localhost:8080/"
        },
        "id": "OVrtjv_kM36E",
        "outputId": "0ee0932c-33c8-4794-fa48-dca73a615129"
      },
      "execution_count": 8,
      "outputs": [
        {
          "output_type": "stream",
          "name": "stdout",
          "text": [
            "Download concluído com sucesso!\n"
          ]
        }
      ]
    },
    {
      "cell_type": "code",
      "source": [
        "with tarfile.open(fapesp_caminho, 'r:gz') as tar:\n",
        "  tar.extractall(path=corpora_caminho)\n",
        "\n",
        "print(f\"Arquivo {fapesp_caminho} descompactado com sucesso!\")"
      ],
      "metadata": {
        "colab": {
          "base_uri": "https://localhost:8080/"
        },
        "id": "1O1XtOLTNknj",
        "outputId": "87d0f8f9-0d73-4019-d867-5d5609d48f10"
      },
      "execution_count": 9,
      "outputs": [
        {
          "output_type": "stream",
          "name": "stdout",
          "text": [
            "Arquivo corpora/fapesp-corpora.tar.gz descompactado com sucesso!\n"
          ]
        }
      ]
    },
    {
      "cell_type": "code",
      "source": [
        "fapesp_dir = fapesp_arquivo.split('.')[0]\n",
        "fapesp_dir_caminho = os.path.join(corpora_caminho, fapesp_dir)\n",
        "\n",
        "!ls {fapesp_dir_caminho}"
      ],
      "metadata": {
        "colab": {
          "base_uri": "https://localhost:8080/"
        },
        "id": "bHa9DM4JOmv8",
        "outputId": "8e112873-e7b6-4868-c0b1-8693ef0a3ea1"
      },
      "execution_count": 10,
      "outputs": [
        {
          "output_type": "stream",
          "name": "stdout",
          "text": [
            "corpora  doc  README  README.html\n"
          ]
        }
      ]
    },
    {
      "cell_type": "markdown",
      "source": [
        "## Kaggle"
      ],
      "metadata": {
        "id": "Mc5t1AfLO-xE"
      }
    },
    {
      "cell_type": "code",
      "source": [
        "from google.colab import files\n",
        "\n",
        "files.upload()"
      ],
      "metadata": {
        "colab": {
          "base_uri": "https://localhost:8080/",
          "height": 90
        },
        "id": "H5fUYh92O8jY",
        "outputId": "557158fd-7b83-48c4-9d14-c99fe6221cc4"
      },
      "execution_count": 16,
      "outputs": [
        {
          "output_type": "display_data",
          "data": {
            "text/plain": [
              "<IPython.core.display.HTML object>"
            ],
            "text/html": [
              "\n",
              "     <input type=\"file\" id=\"files-05d4d51b-8a16-474a-b955-c1cf95300744\" name=\"files[]\" multiple disabled\n",
              "        style=\"border:none\" />\n",
              "     <output id=\"result-05d4d51b-8a16-474a-b955-c1cf95300744\">\n",
              "      Upload widget is only available when the cell has been executed in the\n",
              "      current browser session. Please rerun this cell to enable.\n",
              "      </output>\n",
              "      <script>// Copyright 2017 Google LLC\n",
              "//\n",
              "// Licensed under the Apache License, Version 2.0 (the \"License\");\n",
              "// you may not use this file except in compliance with the License.\n",
              "// You may obtain a copy of the License at\n",
              "//\n",
              "//      http://www.apache.org/licenses/LICENSE-2.0\n",
              "//\n",
              "// Unless required by applicable law or agreed to in writing, software\n",
              "// distributed under the License is distributed on an \"AS IS\" BASIS,\n",
              "// WITHOUT WARRANTIES OR CONDITIONS OF ANY KIND, either express or implied.\n",
              "// See the License for the specific language governing permissions and\n",
              "// limitations under the License.\n",
              "\n",
              "/**\n",
              " * @fileoverview Helpers for google.colab Python module.\n",
              " */\n",
              "(function(scope) {\n",
              "function span(text, styleAttributes = {}) {\n",
              "  const element = document.createElement('span');\n",
              "  element.textContent = text;\n",
              "  for (const key of Object.keys(styleAttributes)) {\n",
              "    element.style[key] = styleAttributes[key];\n",
              "  }\n",
              "  return element;\n",
              "}\n",
              "\n",
              "// Max number of bytes which will be uploaded at a time.\n",
              "const MAX_PAYLOAD_SIZE = 100 * 1024;\n",
              "\n",
              "function _uploadFiles(inputId, outputId) {\n",
              "  const steps = uploadFilesStep(inputId, outputId);\n",
              "  const outputElement = document.getElementById(outputId);\n",
              "  // Cache steps on the outputElement to make it available for the next call\n",
              "  // to uploadFilesContinue from Python.\n",
              "  outputElement.steps = steps;\n",
              "\n",
              "  return _uploadFilesContinue(outputId);\n",
              "}\n",
              "\n",
              "// This is roughly an async generator (not supported in the browser yet),\n",
              "// where there are multiple asynchronous steps and the Python side is going\n",
              "// to poll for completion of each step.\n",
              "// This uses a Promise to block the python side on completion of each step,\n",
              "// then passes the result of the previous step as the input to the next step.\n",
              "function _uploadFilesContinue(outputId) {\n",
              "  const outputElement = document.getElementById(outputId);\n",
              "  const steps = outputElement.steps;\n",
              "\n",
              "  const next = steps.next(outputElement.lastPromiseValue);\n",
              "  return Promise.resolve(next.value.promise).then((value) => {\n",
              "    // Cache the last promise value to make it available to the next\n",
              "    // step of the generator.\n",
              "    outputElement.lastPromiseValue = value;\n",
              "    return next.value.response;\n",
              "  });\n",
              "}\n",
              "\n",
              "/**\n",
              " * Generator function which is called between each async step of the upload\n",
              " * process.\n",
              " * @param {string} inputId Element ID of the input file picker element.\n",
              " * @param {string} outputId Element ID of the output display.\n",
              " * @return {!Iterable<!Object>} Iterable of next steps.\n",
              " */\n",
              "function* uploadFilesStep(inputId, outputId) {\n",
              "  const inputElement = document.getElementById(inputId);\n",
              "  inputElement.disabled = false;\n",
              "\n",
              "  const outputElement = document.getElementById(outputId);\n",
              "  outputElement.innerHTML = '';\n",
              "\n",
              "  const pickedPromise = new Promise((resolve) => {\n",
              "    inputElement.addEventListener('change', (e) => {\n",
              "      resolve(e.target.files);\n",
              "    });\n",
              "  });\n",
              "\n",
              "  const cancel = document.createElement('button');\n",
              "  inputElement.parentElement.appendChild(cancel);\n",
              "  cancel.textContent = 'Cancel upload';\n",
              "  const cancelPromise = new Promise((resolve) => {\n",
              "    cancel.onclick = () => {\n",
              "      resolve(null);\n",
              "    };\n",
              "  });\n",
              "\n",
              "  // Wait for the user to pick the files.\n",
              "  const files = yield {\n",
              "    promise: Promise.race([pickedPromise, cancelPromise]),\n",
              "    response: {\n",
              "      action: 'starting',\n",
              "    }\n",
              "  };\n",
              "\n",
              "  cancel.remove();\n",
              "\n",
              "  // Disable the input element since further picks are not allowed.\n",
              "  inputElement.disabled = true;\n",
              "\n",
              "  if (!files) {\n",
              "    return {\n",
              "      response: {\n",
              "        action: 'complete',\n",
              "      }\n",
              "    };\n",
              "  }\n",
              "\n",
              "  for (const file of files) {\n",
              "    const li = document.createElement('li');\n",
              "    li.append(span(file.name, {fontWeight: 'bold'}));\n",
              "    li.append(span(\n",
              "        `(${file.type || 'n/a'}) - ${file.size} bytes, ` +\n",
              "        `last modified: ${\n",
              "            file.lastModifiedDate ? file.lastModifiedDate.toLocaleDateString() :\n",
              "                                    'n/a'} - `));\n",
              "    const percent = span('0% done');\n",
              "    li.appendChild(percent);\n",
              "\n",
              "    outputElement.appendChild(li);\n",
              "\n",
              "    const fileDataPromise = new Promise((resolve) => {\n",
              "      const reader = new FileReader();\n",
              "      reader.onload = (e) => {\n",
              "        resolve(e.target.result);\n",
              "      };\n",
              "      reader.readAsArrayBuffer(file);\n",
              "    });\n",
              "    // Wait for the data to be ready.\n",
              "    let fileData = yield {\n",
              "      promise: fileDataPromise,\n",
              "      response: {\n",
              "        action: 'continue',\n",
              "      }\n",
              "    };\n",
              "\n",
              "    // Use a chunked sending to avoid message size limits. See b/62115660.\n",
              "    let position = 0;\n",
              "    do {\n",
              "      const length = Math.min(fileData.byteLength - position, MAX_PAYLOAD_SIZE);\n",
              "      const chunk = new Uint8Array(fileData, position, length);\n",
              "      position += length;\n",
              "\n",
              "      const base64 = btoa(String.fromCharCode.apply(null, chunk));\n",
              "      yield {\n",
              "        response: {\n",
              "          action: 'append',\n",
              "          file: file.name,\n",
              "          data: base64,\n",
              "        },\n",
              "      };\n",
              "\n",
              "      let percentDone = fileData.byteLength === 0 ?\n",
              "          100 :\n",
              "          Math.round((position / fileData.byteLength) * 100);\n",
              "      percent.textContent = `${percentDone}% done`;\n",
              "\n",
              "    } while (position < fileData.byteLength);\n",
              "  }\n",
              "\n",
              "  // All done.\n",
              "  yield {\n",
              "    response: {\n",
              "      action: 'complete',\n",
              "    }\n",
              "  };\n",
              "}\n",
              "\n",
              "scope.google = scope.google || {};\n",
              "scope.google.colab = scope.google.colab || {};\n",
              "scope.google.colab._files = {\n",
              "  _uploadFiles,\n",
              "  _uploadFilesContinue,\n",
              "};\n",
              "})(self);\n",
              "</script> "
            ]
          },
          "metadata": {}
        },
        {
          "output_type": "stream",
          "name": "stdout",
          "text": [
            "Saving kaggle.json to kaggle.json\n"
          ]
        },
        {
          "output_type": "execute_result",
          "data": {
            "text/plain": [
              "{'kaggle.json': b'{\"username\":\"ihagog12\",\"key\":\"8008fc5b98f5d372f82411b2ec912bd6\"}'}"
            ]
          },
          "metadata": {},
          "execution_count": 16
        }
      ]
    },
    {
      "cell_type": "code",
      "source": [
        "!mkdir ~/.kaggle # cria um novo diretório chamado .kaggle na pasta home do usuário"
      ],
      "metadata": {
        "colab": {
          "base_uri": "https://localhost:8080/"
        },
        "id": "yIhVZtfhP-ug",
        "outputId": "31e9c92a-f65c-4b06-a72a-6ea6a862e365"
      },
      "execution_count": 17,
      "outputs": [
        {
          "output_type": "stream",
          "name": "stdout",
          "text": [
            "mkdir: cannot create directory ‘/root/.kaggle’: File exists\n"
          ]
        }
      ]
    },
    {
      "cell_type": "code",
      "source": [
        "# move o arquivo kaggle.json para o diretório .kaggle.\n",
        "# este arquivo contém a chave da API kaggle, necessária para acessar os datasets\n",
        "!mv kaggle.json ~/.kaggle"
      ],
      "metadata": {
        "id": "7EQuKa7tQEeC"
      },
      "execution_count": 18,
      "outputs": []
    },
    {
      "cell_type": "code",
      "source": [
        "# define as permissões do arquivo 'kaggle.json' para leitura do usuário\n",
        "# é necessário para manter a chave da api segura\n",
        "!chmod 600 ~/.kaggle/kaggle.json"
      ],
      "metadata": {
        "id": "2Nfj8J9QQMYE"
      },
      "execution_count": 19,
      "outputs": []
    },
    {
      "cell_type": "code",
      "source": [
        "# lista os datasets disponíveis no kaggle que contém a palavra 'commonlit'\n",
        "!kaggle datasets list -s commonlit"
      ],
      "metadata": {
        "colab": {
          "base_uri": "https://localhost:8080/"
        },
        "id": "JD9aqo-bQrWV",
        "outputId": "ab88a306-12fa-4744-84a8-9a2e4dcc3535"
      },
      "execution_count": 20,
      "outputs": [
        {
          "output_type": "stream",
          "name": "stdout",
          "text": [
            "ref                                      title                        size  lastUpdated          downloadCount  voteCount  usabilityRating  \n",
            "---------------------------------------  ---------------------------  ----  -------------------  -------------  ---------  ---------------  \n",
            "kononenko/commonlit-texts                CommonLit Texts               6MB  2023-09-17 20:48:39            333         31  0.7058824        \n",
            "takoihiraokazu/commonlit-ex107           commonlit-ex107               7GB  2021-06-09 03:22:06             18         11  0.4375           \n",
            "takoihiraokazu/commonlit-ex064           commonlit-ex064               2GB  2021-06-03 05:29:12              9         10  0.4375           \n",
            "maunish/clrp-roberta-base                clrp roberta base             3GB  2021-06-29 09:07:26            973         80  0.75             \n",
            "takoihiraokazu/commonlit-ex182           commonlit-ex182               7GB  2021-06-21 04:26:18             19          8  0.4375           \n",
            "takoihiraokazu/commonlit-ex190           commonlit-ex190               6GB  2021-06-23 00:43:25             15          8  0.4375           \n",
            "takoihiraokazu/commonlit-ex465           commonlit-ex465               2GB  2021-07-31 05:31:09             10         29  0.4375           \n",
            "rhtsingh/roberta-large-itptfit           CommonLit RoBERTa Large I     6GB  2021-05-23 16:39:06            225         27  0.375            \n",
            "takoihiraokazu/commonlit-ex507           commonlit-ex507               5GB  2021-08-02 09:37:29              7         25  0.4375           \n",
            "takoihiraokazu/commonlit-ex207           commonlit-ex207               2GB  2021-06-25 07:30:00              8          6  0.4375           \n",
            "douglaskgaraujo/commonlit-text-features  CommonLit Text Features       1MB  2021-06-22 01:19:50             69         14  0.9705882        \n",
            "rhtsingh/commonlit-roberta-base-i        CommonLit RoBERTa Base I      2GB  2021-05-28 12:53:42            281         25  0.3125           \n",
            "takoihiraokazu/commonlit-ex072-2         commonlit-ex072-2             6GB  2021-06-04 01:17:43             17          9  0.4375           \n",
            "rhtsingh/commonlit-roberta-large-ii      CommonLit RoBERTa Large II    6GB  2021-05-28 12:53:00            175         22  0.3125           \n",
            "andretugan/commonlit-roberta-0467        CommonLit Roberta Model Set   2GB  2021-06-30 15:03:46            123         12  0.47058824       \n",
            "takoihiraokazu/commonlit-ex496           commonlit-ex496               2GB  2021-07-31 13:20:43              8         16  0.4375           \n",
            "andradaolteanu/commonlit-dataset         CommonLit Dataset             6GB  2021-06-24 15:55:43             23         11  0.5294118        \n",
            "takoihiraokazu/commonlit-ex272           commonlit-ex272               6GB  2021-07-05 00:36:41              8          5  0.4375           \n",
            "bhavesjain/commonlit-ess-prompts         commonlit-ess-prompts        14KB  2023-10-10 07:41:20             18          7  0.88235295       \n",
            "takoihiraokazu/commonlit-ex292           commonlit-ex292               2GB  2021-07-06 23:01:05              7          6  0.4375           \n"
          ]
        }
      ]
    },
    {
      "cell_type": "code",
      "source": [
        "# Exibe os arquivos disponíveis no dataset 'commonlit-texts' de 'kononenko'\n",
        "!kaggle datasets files kononenko/commonlit-texts"
      ],
      "metadata": {
        "colab": {
          "base_uri": "https://localhost:8080/"
        },
        "id": "bcW2mM16RAw_",
        "outputId": "42af4a73-cfeb-470a-d36e-5c6f791719b0"
      },
      "execution_count": 21,
      "outputs": [
        {
          "output_type": "stream",
          "name": "stdout",
          "text": [
            "name                 size  creationDate         \n",
            "-------------------  ----  -------------------  \n",
            "commonlit_texts.csv  16MB  2023-09-17 20:48:42  \n"
          ]
        }
      ]
    },
    {
      "cell_type": "code",
      "source": [
        "# Baixa o dataset 'commonlit-texts' de 'kononenko' do Kaggle\n",
        "!kaggle datasets download kononenko/commonlit-texts"
      ],
      "metadata": {
        "colab": {
          "base_uri": "https://localhost:8080/"
        },
        "id": "d_1Ss6hPRN6m",
        "outputId": "d3220a73-6f67-43a7-d076-60eea915c13b"
      },
      "execution_count": 23,
      "outputs": [
        {
          "output_type": "stream",
          "name": "stdout",
          "text": [
            "Dataset URL: https://www.kaggle.com/datasets/kononenko/commonlit-texts\n",
            "License(s): other\n",
            "Downloading commonlit-texts.zip to /content\n",
            " 84% 5.00M/5.97M [00:00<00:00, 36.8MB/s]\n",
            "100% 5.97M/5.97M [00:00<00:00, 42.2MB/s]\n"
          ]
        }
      ]
    },
    {
      "cell_type": "code",
      "source": [
        "# Extrai os arquivos do zip 'commonlit-texts.zip' para pasta 'corpora'\n",
        "!unzip commonlit-texts.zip -d corpora"
      ],
      "metadata": {
        "colab": {
          "base_uri": "https://localhost:8080/"
        },
        "id": "wZd4mTg5RcLN",
        "outputId": "e4572976-9842-41a9-c2fa-ef343c1ddbdc"
      },
      "execution_count": 24,
      "outputs": [
        {
          "output_type": "stream",
          "name": "stdout",
          "text": [
            "Archive:  commonlit-texts.zip\n",
            "  inflating: corpora/commonlit_texts.csv  \n"
          ]
        }
      ]
    },
    {
      "cell_type": "code",
      "source": [
        "# Exibe as primeiras linhas do arquivo commonlit_texts.csv\n",
        "!head -n 5 corpora/commonlit_texts.csv"
      ],
      "metadata": {
        "colab": {
          "base_uri": "https://localhost:8080/"
        },
        "id": "wDYT916qRopr",
        "outputId": "9ffd886d-f120-4d73-e71c-128397c7870d"
      },
      "execution_count": 27,
      "outputs": [
        {
          "output_type": "stream",
          "name": "stdout",
          "text": [
            "title,author,description,grade,genre,lexile,path,is_prose,date,intro,excerpt,license,notes\n",
            "\"(love song, with two goldfish)\",Grace Chua,The speaker describes a love story between two goldfish in a fish bowl.,8,Poem,,/en/texts/love-song-with-two-goldfish,0,2003,\"Grace Chua is an award-winning journalist whose work usually deals with science and the environment. In this poem, Chua explores the love between two goldfish living in a fish bowl.\n",
            "As you read, take notes on the use of puns throughout the poem and their multiple meanings.\",\"[1]\n",
            "(He's a drifter,\n",
            "A “drifter” is a person who is continually moving from place to place.\n"
          ]
        }
      ]
    },
    {
      "cell_type": "code",
      "source": [],
      "metadata": {
        "id": "Xbz07_9JVfTo"
      },
      "execution_count": null,
      "outputs": []
    }
  ]
}