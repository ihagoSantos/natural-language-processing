{
  "nbformat": 4,
  "nbformat_minor": 0,
  "metadata": {
    "colab": {
      "provenance": [],
      "authorship_tag": "ABX9TyPToDKq0XWi/KI+rbQgJ64q",
      "include_colab_link": true
    },
    "kernelspec": {
      "name": "python3",
      "display_name": "Python 3"
    },
    "language_info": {
      "name": "python"
    }
  },
  "cells": [
    {
      "cell_type": "markdown",
      "metadata": {
        "id": "view-in-github",
        "colab_type": "text"
      },
      "source": [
        "<a href=\"https://colab.research.google.com/github/ihagoSantos/natural-language-processing/blob/main/regular_expressions.ipynb\" target=\"_parent\"><img src=\"https://colab.research.google.com/assets/colab-badge.svg\" alt=\"Open In Colab\"/></a>"
      ]
    },
    {
      "cell_type": "markdown",
      "source": [
        "# Expressões Regulares"
      ],
      "metadata": {
        "id": "YsIwx02p5tOu"
      }
    },
    {
      "cell_type": "code",
      "execution_count": 1,
      "metadata": {
        "id": "hX1b4zrV5qVB"
      },
      "outputs": [],
      "source": [
        "# funções utilitárias\n",
        "import datetime\n",
        "def formata_msg(nivel, msg, componente=None):\n",
        "  \"\"\"\n",
        "  Formata uma mensagem de log incluindo o nível de severidade, timestamp, componente (opcional) e a mensagem.\n",
        "  Parâmetros:\n",
        "    - nível (str): Nível de severidade da mensagem(ex: 'INFO', 'ERROR', 'WARNING')\n",
        "    - msg (str): A mensagem de log propriamente dita\n",
        "    - componente (str, opcional): O componente ou módulo do sistema que gera a mensagem\n",
        "\n",
        "  Retorna:\n",
        "    - str: A mensagem formatada\n",
        "  \"\"\"\n",
        "  timestamp = datetime.datetime.now().strftime('%Y-%m-%d %H:%M:%S')\n",
        "  if componente:\n",
        "    return f'[{nivel}] {timestamp} - {componente}: {msg}'\n",
        "  else:\n",
        "    return f'[{nivel}] {timestamp}: {msg}'\n"
      ]
    },
    {
      "cell_type": "code",
      "source": [
        "# Modulo essencial para execução do notebook\n",
        "import re"
      ],
      "metadata": {
        "id": "CRYIsRlK5vkO"
      },
      "execution_count": 2,
      "outputs": []
    },
    {
      "cell_type": "code",
      "source": [
        "texto = \"\"\"Transferência recebida de JOAO SILVA, conta 1234-5. Valor R$1.500,00 em 2024-02-15.\n",
        "Pagamento confirmado para ALUGUEL, Conta 6789-0. Valor R$800,00 em 2024-02-16.\n",
        "Depósito recebido, conta 5432-1. Valor R$3.200,00 em 2024-02-17.\"\"\""
      ],
      "metadata": {
        "id": "YRhZYz9d52zq"
      },
      "execution_count": 3,
      "outputs": []
    },
    {
      "cell_type": "code",
      "source": [
        "print(formata_msg('INFO', texto))"
      ],
      "metadata": {
        "colab": {
          "base_uri": "https://localhost:8080/"
        },
        "id": "lQrkK8X56XKE",
        "outputId": "63bbe647-f705-40ce-ab9d-8404c9164457"
      },
      "execution_count": 4,
      "outputs": [
        {
          "output_type": "stream",
          "name": "stdout",
          "text": [
            "[INFO] 2024-11-28 09:17:56: Transferência recebida de JOAO SILVA, conta 1234-5. Valor R$1.500,00 em 2024-02-15.\n",
            "Pagamento confirmado para ALUGUEL, Conta 6789-0. Valor R$800,00 em 2024-02-16.\n",
            "Depósito recebido, conta 5432-1. Valor R$3.200,00 em 2024-02-17.\n"
          ]
        }
      ]
    },
    {
      "cell_type": "markdown",
      "source": [
        "## Método **match()**\n",
        "\n",
        "O método **match()** é utilizado para verificar se uma expressão regular (RE) se alinha ao começo de uma determinada string. Esse recurso é especialmente útil em situações onde a correspondência no início do texto é essencial para validação ou análise dos dados em questão."
      ],
      "metadata": {
        "id": "mGGMabd56dvn"
      }
    },
    {
      "cell_type": "code",
      "source": [
        "# A letra 'r' antes do início da string indica \"raw string\", tratando caracteres de\n",
        "# escape como caracters comuns, útil para expressões regulares\n",
        "\n",
        "padrao = r\"transferência recebida\"\n",
        "resultado = re.match(padrao, texto)\n",
        "if resultado:\n",
        "  print(formata_msg(\"INFO\", f\"Padrão '{padrao}', encontrado: {resultado.group()}\"))\n",
        "else:\n",
        "  print(formata_msg('ERRO', f\"Padrão '{padrao}', não encontrado. \"))"
      ],
      "metadata": {
        "colab": {
          "base_uri": "https://localhost:8080/"
        },
        "id": "xm3nxoni6bnA",
        "outputId": "33c24ba0-1751-4f2e-e5c4-cb6c1b03e76b"
      },
      "execution_count": 5,
      "outputs": [
        {
          "output_type": "stream",
          "name": "stdout",
          "text": [
            "[ERRO] 2024-11-28 09:17:56: Padrão 'transferência recebida', não encontrado. \n"
          ]
        }
      ]
    },
    {
      "cell_type": "code",
      "source": [
        "padrao = r\"[Tt]ransferência recebida\"\n",
        "resultado = re.match(padrao, texto)\n",
        "if resultado:\n",
        "  print(formata_msg(\"INFO\", f\"Padrão '{padrao}', encontrado: {resultado.group()}\"))\n",
        "else:\n",
        "  print(formata_msg('ERRO', f\"Padrão '{padrao}', não encontrado. \"))"
      ],
      "metadata": {
        "colab": {
          "base_uri": "https://localhost:8080/"
        },
        "id": "OBos630N7z5B",
        "outputId": "b7153351-d7b2-4354-abfe-34ae810b7456"
      },
      "execution_count": 6,
      "outputs": [
        {
          "output_type": "stream",
          "name": "stdout",
          "text": [
            "[INFO] 2024-11-28 09:17:56: Padrão '[Tt]ransferência recebida', encontrado: Transferência recebida\n"
          ]
        }
      ]
    },
    {
      "cell_type": "code",
      "source": [
        "padrao = r\"(Transferência|transferência)\"\n",
        "resultado = re.match(padrao, texto)\n",
        "if resultado:\n",
        "  print(formata_msg(\"INFO\", f\"Padrão '{padrao}', encontrado: {resultado.group()}\"))\n",
        "else:\n",
        "  print(formata_msg('ERRO', f\"Padrão '{padrao}', não encontrado. \"))"
      ],
      "metadata": {
        "colab": {
          "base_uri": "https://localhost:8080/"
        },
        "id": "7dK1Ikwm8FYj",
        "outputId": "43497a7a-d923-497c-a370-66a1f7f6c858"
      },
      "execution_count": 7,
      "outputs": [
        {
          "output_type": "stream",
          "name": "stdout",
          "text": [
            "[INFO] 2024-11-28 09:17:56: Padrão '(Transferência|transferência)', encontrado: Transferência\n"
          ]
        }
      ]
    },
    {
      "cell_type": "code",
      "source": [
        "padrao = r\"transferência recebida\"\n",
        "compilado = re.compile(padrao, re.IGNORECASE)\n",
        "resultado = compilado.match(texto)\n",
        "if resultado:\n",
        "  print(formata_msg(\"INFO\", f\"Padrão '{padrao}', encontrado: {resultado.group()}\"))\n",
        "else:\n",
        "  print(formata_msg('ERRO', f\"Padrão '{padrao}', não encontrado. \"))"
      ],
      "metadata": {
        "colab": {
          "base_uri": "https://localhost:8080/"
        },
        "id": "pmO-aKIY8UVz",
        "outputId": "37b35ad9-999f-4c63-831a-a1b4aff8ea55"
      },
      "execution_count": 8,
      "outputs": [
        {
          "output_type": "stream",
          "name": "stdout",
          "text": [
            "[INFO] 2024-11-28 09:17:56: Padrão 'transferência recebida', encontrado: Transferência recebida\n"
          ]
        }
      ]
    },
    {
      "cell_type": "markdown",
      "source": [
        "## Método **search()**\n",
        "\n",
        "O método **search()** examina minuciosamente cada segmento da string para identificar pontos onde a expressão regular fornecida encontra correspondência. Diferente de **match()** que se limita ao início da string, **search()** abranget toda a totalidade do texto, aumentando as chances de detecção de correspondências relevantes."
      ],
      "metadata": {
        "id": "T5nbKvi08o8H"
      }
    },
    {
      "cell_type": "code",
      "source": [
        "padrao = r\"pagamento CONFIRMADO\"\n",
        "compilado = re.compile(padrao, re.IGNORECASE)\n",
        "resultado = compilado.search(texto)\n",
        "if resultado:\n",
        "  print(formata_msg(\"INFO\", f\"Padrão '{padrao}', encontrado: {resultado.group()}\"))\n",
        "else:\n",
        "  print(formata_msg('ERRO', f\"Padrão '{padrao}', não encontrado. \"))"
      ],
      "metadata": {
        "colab": {
          "base_uri": "https://localhost:8080/"
        },
        "id": "deYWKWC-8k6G",
        "outputId": "b0c8c4c6-f168-4b2a-b129-b7c0f5a76462"
      },
      "execution_count": 9,
      "outputs": [
        {
          "output_type": "stream",
          "name": "stdout",
          "text": [
            "[INFO] 2024-11-28 09:17:56: Padrão 'pagamento CONFIRMADO', encontrado: Pagamento confirmado\n"
          ]
        }
      ]
    },
    {
      "cell_type": "markdown",
      "source": [
        "## Método **findall()**\n",
        "O método **findall()** realiza uma busca completa na string, identificando todas as substrings que se alinham com a expressão regular especificada. Cada correspondência encontrada é então agregada em uma lista, facilitando a análise e o manuseio subsequente desses trechos de texto."
      ],
      "metadata": {
        "id": "OU-PuizM9rih"
      }
    },
    {
      "cell_type": "code",
      "source": [
        "padrao = r\"conta\"\n",
        "resultado = re.findall(padrao, texto)\n",
        "if resultado:\n",
        "  print(formata_msg(\"INFO\", f\"Padrão '{padrao}', encontrado: {resultado}\"))\n",
        "else:\n",
        "  print(formata_msg('ERRO', f\"Padrão '{padrao}', não encontrado. \"))"
      ],
      "metadata": {
        "colab": {
          "base_uri": "https://localhost:8080/"
        },
        "id": "u9pAQ9L99Kiq",
        "outputId": "c5de41a4-7b8b-44ff-fa20-17a66671015d"
      },
      "execution_count": 10,
      "outputs": [
        {
          "output_type": "stream",
          "name": "stdout",
          "text": [
            "[INFO] 2024-11-28 09:17:56: Padrão 'conta', encontrado: ['conta', 'conta']\n"
          ]
        }
      ]
    },
    {
      "cell_type": "code",
      "source": [
        "padrao = r\"conta\"\n",
        "resultado = re.findall(padrao, texto, re.I) # re.I == re.IGNORECASE\n",
        "if resultado:\n",
        "  print(formata_msg(\"INFO\", f\"Padrão '{padrao}', encontrado: {resultado}\"))\n",
        "else:\n",
        "  print(formata_msg('ERRO', f\"Padrão '{padrao}', não encontrado. \"))"
      ],
      "metadata": {
        "colab": {
          "base_uri": "https://localhost:8080/"
        },
        "id": "dbQK6HqR-0Jw",
        "outputId": "50ecd8eb-7d4a-447a-c721-5a3042f71076"
      },
      "execution_count": 11,
      "outputs": [
        {
          "output_type": "stream",
          "name": "stdout",
          "text": [
            "[INFO] 2024-11-28 09:17:56: Padrão 'conta', encontrado: ['conta', 'Conta', 'conta']\n"
          ]
        }
      ]
    },
    {
      "cell_type": "code",
      "source": [
        "# A expressão regular \"\\w+A\\w+\" busca por strings que tenham pelo menos um caractere\n",
        "# alfanumérico seguido da letra 'A' maiúscula e, em seguida, por pelo mais um caractere\n",
        "# alfanumérico.\n",
        "padrao = r\"\\w+A\\w+\"\n",
        "resultado = re.findall(padrao, texto)\n",
        "if resultado:\n",
        "  print(formata_msg(\"INFO\", f\"Padrão '{padrao}', encontrado: {resultado}\"))\n",
        "else:\n",
        "  print(formata_msg('ERRO', f\"Padrão '{padrao}', não encontrado. \"))"
      ],
      "metadata": {
        "colab": {
          "base_uri": "https://localhost:8080/"
        },
        "id": "b8GEN5p9_N76",
        "outputId": "1f87f58c-02c2-4252-c668-9598c7b7f63e"
      },
      "execution_count": 12,
      "outputs": [
        {
          "output_type": "stream",
          "name": "stdout",
          "text": [
            "[INFO] 2024-11-28 09:17:56: Padrão '\\w+A\\w+', encontrado: ['JOAO']\n"
          ]
        }
      ]
    },
    {
      "cell_type": "code",
      "source": [
        "# A expressão regular \"\\w+a\\w+\" busca por strings que tenham pelo menos um caractere\n",
        "# alfanumérico seguido da letra 'a' minuscula e, em seguida, por pelo mais um caractere\n",
        "# alfanumérico.\n",
        "padrao = r\"\\w+a\\w+\"\n",
        "resultado = re.findall(padrao, texto, re.I)\n",
        "if resultado:\n",
        "  print(formata_msg(\"INFO\", f\"Padrão '{padrao}', encontrado: {resultado}\"))\n",
        "else:\n",
        "  print(formata_msg('ERRO', f\"Padrão '{padrao}', não encontrado. \"))"
      ],
      "metadata": {
        "colab": {
          "base_uri": "https://localhost:8080/"
        },
        "id": "JpvZdz-D_jMV",
        "outputId": "b009669d-bcfd-4ea6-aee9-1be101a47a9c"
      },
      "execution_count": 13,
      "outputs": [
        {
          "output_type": "stream",
          "name": "stdout",
          "text": [
            "[INFO] 2024-11-28 09:17:56: Padrão '\\w+a\\w+', encontrado: ['Transferência', 'JOAO', 'Valor', 'Pagamento', 'confirmado', 'para', 'Valor', 'Valor']\n"
          ]
        }
      ]
    },
    {
      "cell_type": "code",
      "source": [
        "# A expressão regular \"\\w*a\\w*\" procura por strings que contém a letra 'a' minúscula,\n",
        "# precedida e/ou seguida por qualquer número (incluindo zero) de caracteres alfanuméricos.\n",
        "# Isso significa que a expressão pode corresponder a uma string que contém apenas 'a' ou 'a' com letras e dígitos,\n",
        "# ou underscores em qualquer lado, como 'ba', '1a3' ou simplesmente 'a'\n",
        "padrao = r\"\\w*a\\w*\"\n",
        "resultado = re.findall(padrao, texto, re.I)\n",
        "if resultado:\n",
        "  print(formata_msg(\"INFO\", f\"Padrão '{padrao}', encontrado: {resultado}\"))\n",
        "else:\n",
        "  print(formata_msg('ERRO', f\"Padrão '{padrao}', não encontrado. \"))"
      ],
      "metadata": {
        "colab": {
          "base_uri": "https://localhost:8080/"
        },
        "id": "ob68d5jUABeM",
        "outputId": "d54fa0c4-8044-442c-ce57-02e5255d26d0"
      },
      "execution_count": 14,
      "outputs": [
        {
          "output_type": "stream",
          "name": "stdout",
          "text": [
            "[INFO] 2024-11-28 09:17:56: Padrão '\\w*a\\w*', encontrado: ['Transferência', 'recebida', 'JOAO', 'SILVA', 'conta', 'Valor', 'Pagamento', 'confirmado', 'para', 'ALUGUEL', 'Conta', 'Valor', 'conta', 'Valor']\n"
          ]
        }
      ]
    },
    {
      "cell_type": "markdown",
      "source": [
        "## Método **finditer()**\n",
        "\n",
        "O método **finditer()** vasculha a string em busca de todas as ocorrências que se ajustam à expressão regular fornecida, disponibilizando os resultados através de um iterator. Essa abordagem otimiza o uso de recursos, pois permite o acesso sequencial às correspondências sem a necessidade de armazená-las todas simultaneamente na memória."
      ],
      "metadata": {
        "id": "PxX0rSwuERoz"
      }
    },
    {
      "cell_type": "code",
      "source": [
        "padrao = r\"\\w+m\\w+\"\n",
        "resultado = re.finditer(padrao, texto)\n",
        "if resultado:\n",
        "  print(formata_msg(\"INFO\", f\"Padrão '{padrao}' encontrado:\\n\"))\n",
        "  for token in resultado:\n",
        "    print(token.group())\n",
        "else:\n",
        "  print(formata_msg('ERRO', f\"Padrão '{padrao}', não encontrado. \"))"
      ],
      "metadata": {
        "colab": {
          "base_uri": "https://localhost:8080/"
        },
        "id": "P80f5GCdAxhu",
        "outputId": "79f32a95-3b11-4710-e097-455d16b68b90"
      },
      "execution_count": 15,
      "outputs": [
        {
          "output_type": "stream",
          "name": "stdout",
          "text": [
            "[INFO] 2024-11-28 09:17:56: Padrão '\\w+m\\w+' encontrado:\n",
            "\n",
            "Pagamento\n",
            "confirmado\n"
          ]
        }
      ]
    },
    {
      "cell_type": "markdown",
      "source": [
        "## Método **split()**\n",
        "\n",
        "O método **split()** segmenta a string em várias partes, utilizando os pontos de correspondência com a expressão regular como divisores. O resultado é uma lista contendo as substrings resultantes dessa divisão, proporcionando uma maneira eficiente de desmembrar e analisar o texto com base em padrões específicos."
      ],
      "metadata": {
        "id": "SuyL0KOwFVuG"
      }
    },
    {
      "cell_type": "code",
      "source": [
        "separador = r\"\\n\"\n",
        "resultado = re.split(separador, texto)\n",
        "print(formata_msg(\"INFO\", f\"Resultado:\"))\n",
        "for i, token in enumerate(resultado):\n",
        "  print(f\"{i+1} - {token}\")"
      ],
      "metadata": {
        "colab": {
          "base_uri": "https://localhost:8080/"
        },
        "id": "bhK6PcGRFFVj",
        "outputId": "f90f99e5-01c6-4051-f38c-eaaa427cea62"
      },
      "execution_count": 16,
      "outputs": [
        {
          "output_type": "stream",
          "name": "stdout",
          "text": [
            "[INFO] 2024-11-28 09:17:56: Resultado:\n",
            "1 - Transferência recebida de JOAO SILVA, conta 1234-5. Valor R$1.500,00 em 2024-02-15.\n",
            "2 - Pagamento confirmado para ALUGUEL, Conta 6789-0. Valor R$800,00 em 2024-02-16.\n",
            "3 - Depósito recebido, conta 5432-1. Valor R$3.200,00 em 2024-02-17.\n"
          ]
        }
      ]
    },
    {
      "cell_type": "code",
      "source": [
        "separador = r\"\\s+\"\n",
        "resultado = texto.split(separador) # split() da biblioteca padrão do python\n",
        "print(formata_msg(\"INFO\", f\"Resultado:\"))\n",
        "for i, token in enumerate(resultado):\n",
        "  print(f\"{i+1} - {token}\")"
      ],
      "metadata": {
        "colab": {
          "base_uri": "https://localhost:8080/"
        },
        "id": "7azIaV86F8S7",
        "outputId": "0eaf736a-5bb3-4419-b85c-e01e1731f1f3"
      },
      "execution_count": 17,
      "outputs": [
        {
          "output_type": "stream",
          "name": "stdout",
          "text": [
            "[INFO] 2024-11-28 09:17:56: Resultado:\n",
            "1 - Transferência recebida de JOAO SILVA, conta 1234-5. Valor R$1.500,00 em 2024-02-15.\n",
            "Pagamento confirmado para ALUGUEL, Conta 6789-0. Valor R$800,00 em 2024-02-16.\n",
            "Depósito recebido, conta 5432-1. Valor R$3.200,00 em 2024-02-17.\n"
          ]
        }
      ]
    },
    {
      "cell_type": "code",
      "source": [
        "# Define a expressão regular para um ou mais espaços em branco\n",
        "separador = r\"\\s+\"\n",
        "resultado = re.split(separador, texto)\n",
        "print(formata_msg(\"INFO\", f\"Resultado:\"))\n",
        "for i, token in enumerate(resultado):\n",
        "  print(f\"{i+1} - {token}\")"
      ],
      "metadata": {
        "colab": {
          "base_uri": "https://localhost:8080/"
        },
        "id": "S3wln9xCGUSB",
        "outputId": "3c79383c-f82f-4f0d-f67a-a4eda1f06634"
      },
      "execution_count": 18,
      "outputs": [
        {
          "output_type": "stream",
          "name": "stdout",
          "text": [
            "[INFO] 2024-11-28 09:17:56: Resultado:\n",
            "1 - Transferência\n",
            "2 - recebida\n",
            "3 - de\n",
            "4 - JOAO\n",
            "5 - SILVA,\n",
            "6 - conta\n",
            "7 - 1234-5.\n",
            "8 - Valor\n",
            "9 - R$1.500,00\n",
            "10 - em\n",
            "11 - 2024-02-15.\n",
            "12 - Pagamento\n",
            "13 - confirmado\n",
            "14 - para\n",
            "15 - ALUGUEL,\n",
            "16 - Conta\n",
            "17 - 6789-0.\n",
            "18 - Valor\n",
            "19 - R$800,00\n",
            "20 - em\n",
            "21 - 2024-02-16.\n",
            "22 - Depósito\n",
            "23 - recebido,\n",
            "24 - conta\n",
            "25 - 5432-1.\n",
            "26 - Valor\n",
            "27 - R$3.200,00\n",
            "28 - em\n",
            "29 - 2024-02-17.\n"
          ]
        }
      ]
    },
    {
      "cell_type": "markdown",
      "source": [
        "## Método **sub()**\n",
        "O método **sub()** busca por todas as ocorrências dentro de uma string que se alinham com a expressão regular e realiza a substituição dessas por uma nova string definida pelo usuário. Esse processo permite a alteração dinâmica de partes específicas do texto, facilitando correções, formatações ou adaptações de conteúdo de forma ágil e precisa."
      ],
      "metadata": {
        "id": "Z-KnnbAQGsoT"
      }
    },
    {
      "cell_type": "code",
      "source": [
        "re.sub(r\"R\\$\", \"(BRL)\", texto)"
      ],
      "metadata": {
        "colab": {
          "base_uri": "https://localhost:8080/",
          "height": 53
        },
        "id": "iHR7XTcbGjoc",
        "outputId": "53494c0c-c4fb-47dc-d85f-fcded0da0571"
      },
      "execution_count": 19,
      "outputs": [
        {
          "output_type": "execute_result",
          "data": {
            "text/plain": [
              "'Transferência recebida de JOAO SILVA, conta 1234-5. Valor (BRL)1.500,00 em 2024-02-15.\\nPagamento confirmado para ALUGUEL, Conta 6789-0. Valor (BRL)800,00 em 2024-02-16.\\nDepósito recebido, conta 5432-1. Valor (BRL)3.200,00 em 2024-02-17.'"
            ],
            "application/vnd.google.colaboratory.intrinsic+json": {
              "type": "string"
            }
          },
          "metadata": {},
          "execution_count": 19
        }
      ]
    },
    {
      "cell_type": "markdown",
      "source": [
        "## Método **subn()**\n",
        "\n",
        "O método **subn()** oferece a mesma funcionalidade de substituição de substrings que correspondem a expressão regular, assim como **sub()**. A diferença reside no seu retorno, que inclui tanto a string resultante, quanto a contagem exata das substituições efetuadas. Essa característica adicional porporciona uma visão quantitativa do impacto das alterações, permitindo um controle mais preciso sobre o processo de manipulação de texto.\n",
        "\n"
      ],
      "metadata": {
        "id": "ror18UdEHQn9"
      }
    },
    {
      "cell_type": "code",
      "source": [
        "resultado, total_substituicoes = re.subn(r\"R\\$\", '(BRL)', texto)\n",
        "print(formata_msg(\"INFO\", f\"Texto modificado: \\n{resultado} \\n\\nNúmero de substituicoes: {total_substituicoes}\"))"
      ],
      "metadata": {
        "colab": {
          "base_uri": "https://localhost:8080/"
        },
        "id": "vxuDEZn1HJU0",
        "outputId": "4d8b7c7d-ca3e-48c8-87a1-60a977143beb"
      },
      "execution_count": 20,
      "outputs": [
        {
          "output_type": "stream",
          "name": "stdout",
          "text": [
            "[INFO] 2024-11-28 09:17:57: Texto modificado: \n",
            "Transferência recebida de JOAO SILVA, conta 1234-5. Valor (BRL)1.500,00 em 2024-02-15.\n",
            "Pagamento confirmado para ALUGUEL, Conta 6789-0. Valor (BRL)800,00 em 2024-02-16.\n",
            "Depósito recebido, conta 5432-1. Valor (BRL)3.200,00 em 2024-02-17. \n",
            "\n",
            "Número de substituicoes: 3\n"
          ]
        }
      ]
    },
    {
      "cell_type": "markdown",
      "source": [
        "# Aplicações de funções de Expressões Regulares\n",
        "\n",
        "## 1 - Escreva uma expressão regular para verificar se uma string contém apenas caracteres específicos (neste caso, a-z, A-Z e 0-9)."
      ],
      "metadata": {
        "id": "sjVGUcbBIgg4"
      }
    },
    {
      "cell_type": "code",
      "source": [
        "# Explicação da expressão regular \"^[a-zA-Z0-9]+$\":\n",
        "#\n",
        "# ^           - Indica o início da string. Garante que a correspondência começe a partir do primeiro caractere da string.\n",
        "# [a-zA-Z0-9] - Define a classe de caracteres\n",
        "# +           - Indica uma ou mais ocorrências do conjunto de caracteres definido. Ou seja, a string deve ter pelo menos um caractere da classe [a-zA-Z0-9]\n",
        "# $           - Indica o final da string. Garante que a correspondência vá até o ultimo caractere do texto.\n",
        "\n",
        "padrao = r\"^[a-zA-Z0-9]+$\"\n",
        "\n",
        "# Strings de teste\n",
        "str1 = \"ABCDEFabcdef123450\"\n",
        "str2 = \"&*!&@*}{[]\"\n",
        "\n",
        "# Testando a primeira string\n",
        "if re.match(padrao, str1):\n",
        "  print(f\"'{str1}' contém apenas caracteres permitidos.\")\n",
        "else:\n",
        "  print(f\"'{str1}' não contém caracteres permitidos.\")\n",
        "\n",
        "# Testando a segunda string\n",
        "if re.match(padrao, str2):\n",
        "  print(f\"'{str2}' contém apenas caracteres permitidos.\")\n",
        "else:\n",
        "  print(f\"'{str2}' não contém caracteres permitidos.\")\n",
        "\n"
      ],
      "metadata": {
        "colab": {
          "base_uri": "https://localhost:8080/"
        },
        "id": "6LbuIEyaH0KE",
        "outputId": "faa1a77e-5ff7-494a-a383-9db2f7b8f70a"
      },
      "execution_count": 21,
      "outputs": [
        {
          "output_type": "stream",
          "name": "stdout",
          "text": [
            "'ABCDEFabcdef123450' contém apenas caracteres permitidos.\n",
            "'&*!&@*}{[]' não contém caracteres permitidos.\n"
          ]
        }
      ]
    },
    {
      "cell_type": "markdown",
      "source": [
        "## 2 - Escrever uma expressão regular para converter datas do formato aaaa-mm-dd para dd-mm-aaaa"
      ],
      "metadata": {
        "id": "eVoUdEVsKYCF"
      }
    },
    {
      "cell_type": "code",
      "source": [
        "# Explicação da expressão regular r'(\\d{4})-(\\d{2})-(\\d{2})':\n",
        "#\n",
        "# (\\d{4}) - Corresponde a uma sequência de exatamente 4 dígitos. Utilizado para capturar o ano em uma data.\n",
        "# -       - Corresponde ao literal '-', usado como separador.\n",
        "# (\\d{2}) - Corresponde a uma sequência de exatamente 2 dígitos. O primeiro grupo captura o mês e o segundo grupo o dia em uma data.\n",
        "#\n",
        "# Essa expressão é comumente usada para identificar e extrair datas no formato 'AAAA-MM-DD', onde 'AAAA' corresponde ao ano, 'MM' corresponde ao mês e 'DD' ao dia.\n",
        "\n",
        "padrao = r'(\\d{4})-(\\d{2})-(\\d{2})'\n",
        "\n",
        "# Função para converter o formato da data\n",
        "def formata_data(data):\n",
        "  # Substituindo e reorganizando os grupos capturados\n",
        "  # \\3 corresponde ao terceiro grupo: (\\d{2})\n",
        "  # \\2 corresponde ao segundo grupo: (\\d{2})\n",
        "  # \\1 corresponde ao primeiro grupo: (\\d{4})\n",
        "  return re.sub(padrao, r'\\3-\\2-\\1', data)\n",
        "\n",
        "# Datas de teste\n",
        "data1 = \"2026-01-02\"\n",
        "data2 = \"26-01-02\" # Esta data não está no formato aaaa-mm-dd, então o padrão não se aplica\n",
        "\n",
        "# Convertendo as datas\n",
        "data1_convertida = formata_data(data1)\n",
        "data2_convertida = formata_data(data2)\n",
        "\n",
        "# Imprimindo resultados\n",
        "print(formata_msg(\"INFO\", f\"\\nData original: {data1} - Data convertida: {data1_convertida}\\n\"))\n",
        "print(formata_msg(\"INFO\", f\"\\nData original: {data2} - Data convertida: {data2_convertida}\\n\"))\n"
      ],
      "metadata": {
        "colab": {
          "base_uri": "https://localhost:8080/"
        },
        "id": "hmUFAeulKI6q",
        "outputId": "7bd65780-51da-41da-ce40-de460b580262"
      },
      "execution_count": 22,
      "outputs": [
        {
          "output_type": "stream",
          "name": "stdout",
          "text": [
            "[INFO] 2024-11-28 09:17:57: \n",
            "Data original: 2026-01-02 - Data convertida: 02-01-2026\n",
            "\n",
            "[INFO] 2024-11-28 09:17:57: \n",
            "Data original: 26-01-02 - Data convertida: 26-01-02\n",
            "\n"
          ]
        }
      ]
    },
    {
      "cell_type": "markdown",
      "source": [
        "## 3 - Escreva uma expressão regular para remover o conteúdo entre parênteses em uma string\n",
        "- Amostra de entrada:\n",
        "  - [\"example (.br)\", \"w3resource\", \"github (.com)\", \"stackoverflow (.com)\"]\n",
        "- Saída esperada:\n",
        "  - example\n",
        "  - weresource\n",
        "  - github\n",
        "  - stackoverflow"
      ],
      "metadata": {
        "id": "XhiVV4P1M2tn"
      }
    },
    {
      "cell_type": "code",
      "source": [
        "# Lista de strings de entrada\n",
        "entradas = [\"example (.br)\", \"w3resource\", \"github (.com)\", \"stackoverflow (.com)\"]\n",
        "\n",
        "# Explicação da expressão regular r\"\\s*\\([^)]*\\)\"\n",
        "#\n",
        "# \\s*   - Zero ou mais espaços em branco.\n",
        "# \\(    - Parêntese de abertura literal.\n",
        "# [^)]* - Qualquer caractere exceto parêntese de fechamento, repetido zero ou mais vezes.\n",
        "# \\)    - Parêntese de fechamento literal.\n",
        "\n",
        "padrao = r\"\\s*\\([^)]*\\)\"\n",
        "\n",
        "# Removendo as áreas de parênteses e imprimindo a saída\n",
        "saidas = [re.sub(padrao, '', entrada) for entrada in entradas]\n",
        "print(formata_msg('INFO', f\"Resultado: \\n{saidas}\"))"
      ],
      "metadata": {
        "colab": {
          "base_uri": "https://localhost:8080/"
        },
        "id": "XU0Rp4vDMHhs",
        "outputId": "17192a4f-9e3e-4e15-e73d-c41ba7c2bbc3"
      },
      "execution_count": 23,
      "outputs": [
        {
          "output_type": "stream",
          "name": "stdout",
          "text": [
            "[INFO] 2024-11-28 09:17:57: Resultado: \n",
            "['example', 'w3resource', 'github', 'stackoverflow']\n"
          ]
        }
      ]
    },
    {
      "cell_type": "markdown",
      "source": [
        "## 4 - Escreva um programa para quebrar um texto em sentensas"
      ],
      "metadata": {
        "id": "zKmkE8AiO3op"
      }
    },
    {
      "cell_type": "code",
      "source": [
        "# String de entrada\n",
        "texto = \"Vamos encontrar Padrões nesta string!! Agora é a nossa primeira prática de NLP!! Vamos aprender a procurar padrões!! Belo horizonte 2020.\"\n",
        "\n",
        "# Explicação do padrão r\"[.!?]\\s+\"\n",
        "#\n",
        "# [.!?]   - Define uma classe de caracteres que inclui um ponto final(.),\n",
        "#           um ponto de exclamação (!), ou um ponto de interrogação (?).\n",
        "#           Essa expressão regular corresponde a qualquer desses\n",
        "#           caracteres de pontuação.\n",
        "# \\s+     - Corresponde a um ou mais espaços em branco. O símbolo de adição (+)\n",
        "#           indica \"uma ou mais ocorrências\" do caractere de espaço em branco precedente.\n",
        "#           Espaços em branco incluem espaços, tabulações, quabras de linha, etc.\n",
        "#\n",
        "# Esta expressão regular é útil para identificar ocorrências de caracteres de pontuação\n",
        "# que indicam o fim de uma sentença (ponto, exclamação, interrogação), seguidos por\n",
        "# um ou mais espaços em branco. Pode ser usada para tarefas como segmentar textos em sentenças\n",
        "# ou formatar texto.\n",
        "\n",
        "padrao = r\"[.!?]\\s+\"\n",
        "\n",
        "# Dividindo o texto em sentenças\n",
        "sentencas = re.split(padrao, texto)\n",
        "\n",
        "# Imprimindo as sentenças\n",
        "print(formata_msg(\"INFO\", \"Resultados:\\n\"))\n",
        "for sentenca in sentencas:\n",
        "  print(sentenca)"
      ],
      "metadata": {
        "colab": {
          "base_uri": "https://localhost:8080/"
        },
        "id": "ESG190_FO098",
        "outputId": "2ff15d55-5bf0-4342-e437-1eaf1b6d6edf"
      },
      "execution_count": 24,
      "outputs": [
        {
          "output_type": "stream",
          "name": "stdout",
          "text": [
            "[INFO] 2024-11-28 09:17:57: Resultados:\n",
            "\n",
            "Vamos encontrar Padrões nesta string!\n",
            "Agora é a nossa primeira prática de NLP!\n",
            "Vamos aprender a procurar padrões!\n",
            "Belo horizonte 2020.\n"
          ]
        }
      ]
    },
    {
      "cell_type": "markdown",
      "source": [
        "## 5 - Escreva um código para remover os zeros iniciais do IP 216.08.094.196"
      ],
      "metadata": {
        "id": "UhZjjrGEDDl6"
      }
    },
    {
      "cell_type": "code",
      "source": [
        "ip = '216.08.094.196'\n",
        "\n",
        "# Dividindo o ip\n",
        "partes = ip.split('.')\n",
        "\n",
        "# Removendo o zero das partes iniciais e garantindo que partes vazias sejam '0'\n",
        "partes_sem_zero = [parte.lstrip('0') or '0' for parte in partes]\n",
        "\n",
        "# junta as partes de volta em um IP\n",
        "ip = '.'.join(partes_sem_zero)\n",
        "\n",
        "print(formata_msg('INFO', f\"\\n{ip}\"))\n"
      ],
      "metadata": {
        "id": "0iS6OYU8QpuD",
        "colab": {
          "base_uri": "https://localhost:8080/"
        },
        "outputId": "a17c9342-eba2-47ba-c216-fc05e2417a3a"
      },
      "execution_count": 26,
      "outputs": [
        {
          "output_type": "stream",
          "name": "stdout",
          "text": [
            "[INFO] 2024-11-28 09:22:10: \n",
            "216.8.94.196\n"
          ]
        }
      ]
    },
    {
      "cell_type": "markdown",
      "source": [
        "## 6 - Recupere todas as mensões de \"Twitter\" da string abaixo"
      ],
      "metadata": {
        "id": "fwg17DdkEWDF"
      }
    },
    {
      "cell_type": "code",
      "source": [
        "texto_exemplo_twitter = \"\"\"\n",
        "this is a @test of some cool features that @mi_asd be @use-ful but @don't. look at this email@address.com.\n",
        "@bla! I like #nylas but I don't like to go to this apple.com?a#url. I also don't like the ### comment blocks.\n",
        "But #msft is cool.\"\"\"\n",
        "\n",
        "# Explicação da expressão regular r\"\\B@\\w+\":\n",
        "\n",
        "# \\B    Corresponde a uma posição que não é o limite de uma palavra. Isso garante\n",
        "#       que o símbolo @ não seja precedido por um caractere de palavra, como letras,\n",
        "#       dígitos ou sublinhados, permitindo que a menção apareça no meio do texto sem\n",
        "#       ser parte de uma palavra maior.\n",
        "\n",
        "# @     Corresponde ao símbolo literal '@', que é usado para iniciar menções\n",
        "#       ou referências a usuários em redes sociais\n",
        "\n",
        "# \\w+   Corresponde a uma ou mais ocorrências de qualquer caractere de palavra, incluindo\n",
        "#       letras (maiúsculas e minúsculas), dígitos e sublinhados. O símbolo de adição (+)\n",
        "#       indica \"uma ou mais ocorrências\" do caractere da palavra precedente\n",
        "\n",
        "# Essa expressão regualr é útil para identificar menções de usuários em textos\n",
        "# de redes sociais, como no twitter, onde os nomes dos usuários são precedidos\n",
        "# pelo símbolo '@'\n",
        "\n",
        "padrao_twitter = r'\\B@\\w+'\n",
        "\n",
        "mencoes_twitter = re.findall(padrao_twitter, texto_exemplo_twitter)\n",
        "\n",
        "print(formata_msg(\"INFO\", f\"\\n\\n{mencoes_twitter}\"))"
      ],
      "metadata": {
        "colab": {
          "base_uri": "https://localhost:8080/"
        },
        "id": "_XW9lJc-D-LU",
        "outputId": "2a47e401-3aa9-4212-bed5-2ba7e5eeac1b"
      },
      "execution_count": 27,
      "outputs": [
        {
          "output_type": "stream",
          "name": "stdout",
          "text": [
            "[INFO] 2024-11-28 09:33:30: \n",
            "\n",
            "['@test', '@mi_asd', '@use', '@don', '@bla']\n"
          ]
        }
      ]
    },
    {
      "cell_type": "markdown",
      "source": [
        "## 7 - Escreva uma expressão regular para remover as URLs do texto\n",
        "- Para realizar as pesquisas de artigos use o Google Scholar: https://scholar.google.com.br/\n",
        "- Sempre mantenha o seu linkedin atualizado: https://www.linkedin.com/"
      ],
      "metadata": {
        "id": "rM12LWWZG6hS"
      }
    },
    {
      "cell_type": "code",
      "source": [
        "texto = \"\"\"\n",
        "Para realizar as pesquisas de artigos use o Google Scholar: https://scholar.google.com.br/\n",
        "Sempre mantenha o seu linkedin atualizado: https://www.linkedin.com/\"\"\"\n",
        "\n",
        "# Explicação da expressão r\"https?://\\S+\"\n",
        "\n",
        "# https?      Corresponde à string 'http' seguida por um 's' opcional. O '?' após\n",
        "#             o 's' indica que o 's' é opicional, permitindo que a expressão corresponda\n",
        "#             tanto para o 'http' quanto para o 'https'\n",
        "\n",
        "# ://         Corresponde aos caracteres literais '://', que são parte típica da\n",
        "#             sintaxe de uma URL logo após ao protocolo (http ou https)\n",
        "\n",
        "# \\S+         Corresponde a uma ou mais ocorrências de qualquer caractere que não seja um\n",
        "#             espaço em branco. O '\\S' corresponde a qualquer caractere que não seja espaço,\n",
        "#             tabulação, etc., e o '+' indica 'uma ou mais ocorrências' desse tipo de caractere.\n",
        "\n",
        "# Esta expressão regular é útil para identificar URLs em textos. Ela capta URLs iniciadas\n",
        "# por 'http' ou 'https', seguidas por qualquer sequência de caracteres que não incluam espaços\n",
        "# em branco, até o próximo espaço ou fim da string.\n",
        "\n",
        "padrao = r'https?://\\S+'\n",
        "\n",
        "# Encontrando todas as urls do texto\n",
        "urls = re.findall(padrao, texto)\n",
        "print(formata_msg('INFO', f\"Resultado\\n\"))\n",
        "for url in urls:\n",
        "  print(url)"
      ],
      "metadata": {
        "colab": {
          "base_uri": "https://localhost:8080/"
        },
        "id": "F705h1H3Gmdm",
        "outputId": "1014bf62-6f1f-4832-f55e-f9e713a06389"
      },
      "execution_count": 28,
      "outputs": [
        {
          "output_type": "stream",
          "name": "stdout",
          "text": [
            "[INFO] 2024-11-28 09:42:33: Resultado\n",
            "\n",
            "https://scholar.google.com.br/\n",
            "https://www.linkedin.com/\n"
          ]
        }
      ]
    },
    {
      "cell_type": "code",
      "source": [],
      "metadata": {
        "id": "PuQxgx95Iq6l"
      },
      "execution_count": null,
      "outputs": []
    }
  ]
}